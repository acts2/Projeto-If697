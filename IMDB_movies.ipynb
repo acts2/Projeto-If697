{
 "cells": [
  {
   "cell_type": "code",
   "execution_count": 303,
   "metadata": {},
   "outputs": [],
   "source": [
    "import pandas as pd\n",
    "import numpy as np\n",
    "\n",
    "from numpy import log10\n",
    "from scipy import stats as st\n",
    "\n",
    "import matplotlib.pyplot as plt\n",
    "import seaborn as sea\n"
   ]
  },
  {
   "cell_type": "markdown",
   "metadata": {},
   "source": [
    "## Pré-Processamento\n",
    "\n",
    " \n",
    " "
   ]
  },
  {
   "cell_type": "code",
   "execution_count": 2,
   "metadata": {},
   "outputs": [],
   "source": [
    "#Trocar o path\n",
    "movies = pd.read_csv('/home/carolina/Documents/Projeto-If697/datasets/IMDbmovies.csv')\n"
   ]
  },
  {
   "cell_type": "code",
   "execution_count": 3,
   "metadata": {},
   "outputs": [],
   "source": [
    "ratings = pd.read_csv('/home/carolina/Documents/Projeto-If697/datasets/IMDbratings.csv')\n"
   ]
  },
  {
   "cell_type": "code",
   "execution_count": 4,
   "metadata": {},
   "outputs": [],
   "source": [
    "#juntando os dois dataframes em um único \n",
    "movies_ratings = movies.merge(ratings, on='imdb_title_id', how='inner')"
   ]
  },
  {
   "cell_type": "markdown",
   "metadata": {},
   "source": [
    "## Definição de tipos \n",
    "\n",
    "Vamos transformar os dados do tipo \"object\" em categoricos"
   ]
  },
  {
   "cell_type": "code",
   "execution_count": 5,
   "metadata": {},
   "outputs": [
    {
     "name": "stdout",
     "output_type": "stream",
     "text": [
      "<class 'pandas.core.frame.DataFrame'>\n",
      "RangeIndex: 81273 entries, 0 to 81272\n",
      "Data columns (total 22 columns):\n",
      " #   Column                 Non-Null Count  Dtype  \n",
      "---  ------                 --------------  -----  \n",
      " 0   imdb_title_id          81273 non-null  object \n",
      " 1   title                  81273 non-null  object \n",
      " 2   original_title         81273 non-null  object \n",
      " 3   year                   81273 non-null  int64  \n",
      " 4   date_published         81273 non-null  object \n",
      " 5   genre                  81273 non-null  object \n",
      " 6   duration               81273 non-null  int64  \n",
      " 7   country                81234 non-null  object \n",
      " 8   language               80518 non-null  object \n",
      " 9   director               81200 non-null  object \n",
      " 10  writer                 79780 non-null  object \n",
      " 11  production_company     76948 non-null  object \n",
      " 12  actors                 81207 non-null  object \n",
      " 13  description            78843 non-null  object \n",
      " 14  avg_vote               81273 non-null  float64\n",
      " 15  votes                  81273 non-null  int64  \n",
      " 16  budget                 22804 non-null  object \n",
      " 17  usa_gross_income       15094 non-null  object \n",
      " 18  worlwide_gross_income  29892 non-null  object \n",
      " 19  metascore              12722 non-null  float64\n",
      " 20  reviews_from_users     74196 non-null  float64\n",
      " 21  reviews_from_critics   70286 non-null  float64\n",
      "dtypes: float64(4), int64(3), object(15)\n",
      "memory usage: 13.6+ MB\n"
     ]
    }
   ],
   "source": [
    "movies.info()"
   ]
  },
  {
   "cell_type": "code",
   "execution_count": 6,
   "metadata": {},
   "outputs": [
    {
     "name": "stdout",
     "output_type": "stream",
     "text": [
      "<class 'pandas.core.frame.DataFrame'>\n",
      "RangeIndex: 81273 entries, 0 to 81272\n",
      "Data columns (total 49 columns):\n",
      " #   Column                     Non-Null Count  Dtype  \n",
      "---  ------                     --------------  -----  \n",
      " 0   imdb_title_id              81273 non-null  object \n",
      " 1   weighted_average_vote      81273 non-null  float64\n",
      " 2   total_votes                81273 non-null  int64  \n",
      " 3   mean_vote                  81273 non-null  float64\n",
      " 4   median_vote                81273 non-null  float64\n",
      " 5   votes_10                   81273 non-null  int64  \n",
      " 6   votes_9                    81273 non-null  int64  \n",
      " 7   votes_8                    81273 non-null  int64  \n",
      " 8   votes_7                    81273 non-null  int64  \n",
      " 9   votes_6                    81273 non-null  int64  \n",
      " 10  votes_5                    81273 non-null  int64  \n",
      " 11  votes_4                    81273 non-null  int64  \n",
      " 12  votes_3                    81273 non-null  int64  \n",
      " 13  votes_2                    81273 non-null  int64  \n",
      " 14  votes_1                    81273 non-null  int64  \n",
      " 15  allgenders_0age_avg_vote   26543 non-null  float64\n",
      " 16  allgenders_0age_votes      26543 non-null  float64\n",
      " 17  allgenders_18age_avg_vote  80858 non-null  float64\n",
      " 18  allgenders_18age_votes     80858 non-null  float64\n",
      " 19  allgenders_30age_avg_vote  81264 non-null  float64\n",
      " 20  allgenders_30age_votes     81264 non-null  float64\n",
      " 21  allgenders_45age_avg_vote  81160 non-null  float64\n",
      " 22  allgenders_45age_votes     81160 non-null  float64\n",
      " 23  males_allages_avg_vote     81272 non-null  float64\n",
      " 24  males_allages_votes        81272 non-null  float64\n",
      " 25  males_0age_avg_vote        20339 non-null  float64\n",
      " 26  males_0age_votes           20339 non-null  float64\n",
      " 27  males_18age_avg_vote       80217 non-null  float64\n",
      " 28  males_18age_votes          80217 non-null  float64\n",
      " 29  males_30age_avg_vote       81264 non-null  float64\n",
      " 30  males_30age_votes          81264 non-null  float64\n",
      " 31  males_45age_avg_vote       81120 non-null  float64\n",
      " 32  males_45age_votes          81120 non-null  float64\n",
      " 33  females_allages_avg_vote   81203 non-null  float64\n",
      " 34  females_allages_votes      81203 non-null  float64\n",
      " 35  females_0age_avg_vote      15333 non-null  float64\n",
      " 36  females_0age_votes         15333 non-null  float64\n",
      " 37  females_18age_avg_vote     76239 non-null  float64\n",
      " 38  females_18age_votes        76239 non-null  float64\n",
      " 39  females_30age_avg_vote     80409 non-null  float64\n",
      " 40  females_30age_votes        80409 non-null  float64\n",
      " 41  females_45age_avg_vote     78701 non-null  float64\n",
      " 42  females_45age_votes        78701 non-null  float64\n",
      " 43  top1000_voters_rating      80667 non-null  float64\n",
      " 44  top1000_voters_votes       80667 non-null  float64\n",
      " 45  us_voters_rating           81034 non-null  float64\n",
      " 46  us_voters_votes            81034 non-null  float64\n",
      " 47  non_us_voters_rating       81269 non-null  float64\n",
      " 48  non_us_voters_votes        81269 non-null  float64\n",
      "dtypes: float64(37), int64(11), object(1)\n",
      "memory usage: 30.4+ MB\n"
     ]
    }
   ],
   "source": [
    "ratings.info()"
   ]
  },
  {
   "cell_type": "code",
   "execution_count": 7,
   "metadata": {},
   "outputs": [],
   "source": [
    "#Selecionamos apenas as colunas que tem tipo \"object\" para transformá-las no tipo \"category\"\n",
    "movies_ratings[movies_ratings.select_dtypes(['object']).columns] = movies_ratings.select_dtypes(['object']).apply(lambda x: x.astype('category'))"
   ]
  },
  {
   "cell_type": "code",
   "execution_count": 8,
   "metadata": {},
   "outputs": [
    {
     "name": "stdout",
     "output_type": "stream",
     "text": [
      "<class 'pandas.core.frame.DataFrame'>\n",
      "Int64Index: 81273 entries, 0 to 81272\n",
      "Data columns (total 70 columns):\n",
      " #   Column                     Non-Null Count  Dtype   \n",
      "---  ------                     --------------  -----   \n",
      " 0   imdb_title_id              81273 non-null  category\n",
      " 1   title                      81273 non-null  category\n",
      " 2   original_title             81273 non-null  category\n",
      " 3   year                       81273 non-null  int64   \n",
      " 4   date_published             81273 non-null  category\n",
      " 5   genre                      81273 non-null  category\n",
      " 6   duration                   81273 non-null  int64   \n",
      " 7   country                    81234 non-null  category\n",
      " 8   language                   80518 non-null  category\n",
      " 9   director                   81200 non-null  category\n",
      " 10  writer                     79780 non-null  category\n",
      " 11  production_company         76948 non-null  category\n",
      " 12  actors                     81207 non-null  category\n",
      " 13  description                78843 non-null  category\n",
      " 14  avg_vote                   81273 non-null  float64 \n",
      " 15  votes                      81273 non-null  int64   \n",
      " 16  budget                     22804 non-null  category\n",
      " 17  usa_gross_income           15094 non-null  category\n",
      " 18  worlwide_gross_income      29892 non-null  category\n",
      " 19  metascore                  12722 non-null  float64 \n",
      " 20  reviews_from_users         74196 non-null  float64 \n",
      " 21  reviews_from_critics       70286 non-null  float64 \n",
      " 22  weighted_average_vote      81273 non-null  float64 \n",
      " 23  total_votes                81273 non-null  int64   \n",
      " 24  mean_vote                  81273 non-null  float64 \n",
      " 25  median_vote                81273 non-null  float64 \n",
      " 26  votes_10                   81273 non-null  int64   \n",
      " 27  votes_9                    81273 non-null  int64   \n",
      " 28  votes_8                    81273 non-null  int64   \n",
      " 29  votes_7                    81273 non-null  int64   \n",
      " 30  votes_6                    81273 non-null  int64   \n",
      " 31  votes_5                    81273 non-null  int64   \n",
      " 32  votes_4                    81273 non-null  int64   \n",
      " 33  votes_3                    81273 non-null  int64   \n",
      " 34  votes_2                    81273 non-null  int64   \n",
      " 35  votes_1                    81273 non-null  int64   \n",
      " 36  allgenders_0age_avg_vote   26543 non-null  float64 \n",
      " 37  allgenders_0age_votes      26543 non-null  float64 \n",
      " 38  allgenders_18age_avg_vote  80858 non-null  float64 \n",
      " 39  allgenders_18age_votes     80858 non-null  float64 \n",
      " 40  allgenders_30age_avg_vote  81264 non-null  float64 \n",
      " 41  allgenders_30age_votes     81264 non-null  float64 \n",
      " 42  allgenders_45age_avg_vote  81160 non-null  float64 \n",
      " 43  allgenders_45age_votes     81160 non-null  float64 \n",
      " 44  males_allages_avg_vote     81272 non-null  float64 \n",
      " 45  males_allages_votes        81272 non-null  float64 \n",
      " 46  males_0age_avg_vote        20339 non-null  float64 \n",
      " 47  males_0age_votes           20339 non-null  float64 \n",
      " 48  males_18age_avg_vote       80217 non-null  float64 \n",
      " 49  males_18age_votes          80217 non-null  float64 \n",
      " 50  males_30age_avg_vote       81264 non-null  float64 \n",
      " 51  males_30age_votes          81264 non-null  float64 \n",
      " 52  males_45age_avg_vote       81120 non-null  float64 \n",
      " 53  males_45age_votes          81120 non-null  float64 \n",
      " 54  females_allages_avg_vote   81203 non-null  float64 \n",
      " 55  females_allages_votes      81203 non-null  float64 \n",
      " 56  females_0age_avg_vote      15333 non-null  float64 \n",
      " 57  females_0age_votes         15333 non-null  float64 \n",
      " 58  females_18age_avg_vote     76239 non-null  float64 \n",
      " 59  females_18age_votes        76239 non-null  float64 \n",
      " 60  females_30age_avg_vote     80409 non-null  float64 \n",
      " 61  females_30age_votes        80409 non-null  float64 \n",
      " 62  females_45age_avg_vote     78701 non-null  float64 \n",
      " 63  females_45age_votes        78701 non-null  float64 \n",
      " 64  top1000_voters_rating      80667 non-null  float64 \n",
      " 65  top1000_voters_votes       80667 non-null  float64 \n",
      " 66  us_voters_rating           81034 non-null  float64 \n",
      " 67  us_voters_votes            81034 non-null  float64 \n",
      " 68  non_us_voters_rating       81269 non-null  float64 \n",
      " 69  non_us_voters_votes        81269 non-null  float64 \n",
      "dtypes: category(15), float64(41), int64(14)\n",
      "memory usage: 63.1 MB\n"
     ]
    }
   ],
   "source": [
    "movies_ratings.info()"
   ]
  },
  {
   "cell_type": "markdown",
   "metadata": {},
   "source": [
    "## Tratamento de dados Faltantes\n",
    "\n",
    "Remoção e Imputação\n"
   ]
  },
  {
   "cell_type": "markdown",
   "metadata": {},
   "source": [
    "Temos algumas colunas que possuem mais de 80% de dados faltantes logo remover instâncias com dropna não é uma boa escolha porque removeria quase todos os dados"
   ]
  },
  {
   "cell_type": "code",
   "execution_count": 10,
   "metadata": {},
   "outputs": [
    {
     "data": {
      "text/plain": [
       "(81273, 22)"
      ]
     },
     "execution_count": 10,
     "metadata": {},
     "output_type": "execute_result"
    }
   ],
   "source": [
    "movies.shape"
   ]
  },
  {
   "cell_type": "code",
   "execution_count": 11,
   "metadata": {},
   "outputs": [
    {
     "data": {
      "text/plain": [
       "(6456, 22)"
      ]
     },
     "execution_count": 11,
     "metadata": {},
     "output_type": "execute_result"
    }
   ],
   "source": [
    "movies1 = movies.dropna()\n",
    "movies1.shape"
   ]
  },
  {
   "cell_type": "markdown",
   "metadata": {},
   "source": [
    "Se há colunas com mais de 70% de dados faltantes eu posso considerar que elas não são tão relavantes e remover essas colunas.\n",
    "Nos ratings há as colunas de notas dadas por homens e mulheres menores que 18 anos, essas colunas estão quase vazias com mais de 70%, porém na coluna que mistura os dois gêneros com menos de 18 anos temos um valor faltante um pouco menos de 67%, mas como eu irei retirar as outras duas e 67% também é um valor muito alto irei remover esta também.\n",
    "\n",
    "Nos filmes temos a informação de renda bruta tanto nos EUA quanto no Mundo, é uma informação que seria boa de observar mas como temos um dataset com filmes bastante antigos e/ou desconhecidos essa informação está faltando em boa parte das colunas, então também decidi removê-la.\n",
    "\n",
    "No fim a remoção de colunas será feita a partir de 60% dos valores faltantes.\n"
   ]
  },
  {
   "cell_type": "code",
   "execution_count": 12,
   "metadata": {},
   "outputs": [
    {
     "data": {
      "text/plain": [
       "imdb_title_id             0.000000\n",
       "title                     0.000000\n",
       "original_title            0.000000\n",
       "year                      0.000000\n",
       "date_published            0.000000\n",
       "genre                     0.000000\n",
       "duration                  0.000000\n",
       "country                   0.047986\n",
       "language                  0.928968\n",
       "director                  0.089821\n",
       "writer                    1.837018\n",
       "production_company        5.321571\n",
       "actors                    0.081208\n",
       "description               2.989923\n",
       "avg_vote                  0.000000\n",
       "votes                     0.000000\n",
       "budget                   71.941481\n",
       "usa_gross_income         81.428027\n",
       "worlwide_gross_income    63.220258\n",
       "metascore                84.346585\n",
       "reviews_from_users        8.707689\n",
       "reviews_from_critics     13.518635\n",
       "dtype: float64"
      ]
     },
     "execution_count": 12,
     "metadata": {},
     "output_type": "execute_result"
    }
   ],
   "source": [
    "(movies.isnull().sum()/ 81273) *100"
   ]
  },
  {
   "cell_type": "code",
   "execution_count": 13,
   "metadata": {},
   "outputs": [
    {
     "data": {
      "text/plain": [
       "imdb_title_id                 0.000000\n",
       "weighted_average_vote         0.000000\n",
       "total_votes                   0.000000\n",
       "mean_vote                     0.000000\n",
       "median_vote                   0.000000\n",
       "votes_10                      0.000000\n",
       "votes_9                       0.000000\n",
       "votes_8                       0.000000\n",
       "votes_7                       0.000000\n",
       "votes_6                       0.000000\n",
       "votes_5                       0.000000\n",
       "votes_4                       0.000000\n",
       "votes_3                       0.000000\n",
       "votes_2                       0.000000\n",
       "votes_1                       0.000000\n",
       "allgenders_0age_avg_vote     67.340937\n",
       "allgenders_0age_votes        67.340937\n",
       "allgenders_18age_avg_vote     0.510625\n",
       "allgenders_18age_votes        0.510625\n",
       "allgenders_30age_avg_vote     0.011074\n",
       "allgenders_30age_votes        0.011074\n",
       "allgenders_45age_avg_vote     0.139038\n",
       "allgenders_45age_votes        0.139038\n",
       "males_allages_avg_vote        0.001230\n",
       "males_allages_votes           0.001230\n",
       "males_0age_avg_vote          74.974469\n",
       "males_0age_votes             74.974469\n",
       "males_18age_avg_vote          1.299324\n",
       "males_18age_votes             1.299324\n",
       "males_30age_avg_vote          0.011074\n",
       "males_30age_votes             0.011074\n",
       "males_45age_avg_vote          0.188254\n",
       "males_45age_votes             0.188254\n",
       "females_allages_avg_vote      0.086129\n",
       "females_allages_votes         0.086129\n",
       "females_0age_avg_vote        81.133956\n",
       "females_0age_votes           81.133956\n",
       "females_18age_avg_vote        6.193939\n",
       "females_18age_votes           6.193939\n",
       "females_30age_avg_vote        1.063084\n",
       "females_30age_votes           1.063084\n",
       "females_45age_avg_vote        3.164643\n",
       "females_45age_votes           3.164643\n",
       "top1000_voters_rating         0.745635\n",
       "top1000_voters_votes          0.745635\n",
       "us_voters_rating              0.294071\n",
       "us_voters_votes               0.294071\n",
       "non_us_voters_rating          0.004922\n",
       "non_us_voters_votes           0.004922\n",
       "dtype: float64"
      ]
     },
     "execution_count": 13,
     "metadata": {},
     "output_type": "execute_result"
    }
   ],
   "source": [
    "(ratings.isnull().sum()/ 81273) *100"
   ]
  },
  {
   "cell_type": "code",
   "execution_count": 14,
   "metadata": {},
   "outputs": [],
   "source": [
    "movies_ratings.dropna(thresh=0.6*len(movies_ratings), axis=1, inplace=True)\n"
   ]
  },
  {
   "cell_type": "markdown",
   "metadata": {},
   "source": [
    "Para as colunas \"reviews from users\" e \"reviews from critics\" com 8% e 13% de dados faltantes respectivamente, eu posso simplesmente subistituí-los por 0 já que as colunas contam o número de reviews para um dado filme"
   ]
  },
  {
   "cell_type": "code",
   "execution_count": 15,
   "metadata": {},
   "outputs": [],
   "source": [
    "movies_ratings['reviews_from_users'].fillna(0.0, inplace=True)\n",
    "movies_ratings['reviews_from_critics'].fillna(0.0, inplace=True)\n"
   ]
  },
  {
   "cell_type": "markdown",
   "metadata": {},
   "source": [
    "As colunas \"votes\" e \"total_votes\" e também \"avg_vote\" e \"weighted_average_vote\" são as mesmas porque faziam partes de datasets diferentes, então posso remover uma de cada."
   ]
  },
  {
   "cell_type": "code",
   "execution_count": 16,
   "metadata": {},
   "outputs": [],
   "source": [
    "movies_ratings.drop(columns=['total_votes', 'weighted_average_vote'], inplace=True)"
   ]
  },
  {
   "cell_type": "markdown",
   "metadata": {},
   "source": [
    "Sobraram algumas colunas categóricas com dados faltando, eu vou subistituir esses NaN por \"missing\" já que eu não tenho nenhuma informação sobre esses dados.\n"
   ]
  },
  {
   "cell_type": "code",
   "execution_count": 17,
   "metadata": {},
   "outputs": [],
   "source": [
    "\n",
    "movies_ratings['country'] = movies_ratings['country'].cat.add_categories('Missing')\n",
    "movies_ratings['language'] = movies_ratings['language'].cat.add_categories('Missing')\n",
    "movies_ratings['director'] = movies_ratings['director'].cat.add_categories('Missing')\n",
    "movies_ratings['actors'] = movies_ratings['actors'].cat.add_categories('Missing')\n",
    "movies_ratings['description'] = movies_ratings['description'].cat.add_categories('Missing')\n",
    "\n",
    "\n",
    "\n",
    "movies_ratings['country'].fillna(\"Missing\", inplace=True)\n",
    "movies_ratings['language'].fillna(\"Missing\", inplace=True)\n",
    "movies_ratings['director'].fillna(\"Missing\", inplace=True)\n",
    "movies_ratings['actors'].fillna(\"Missing\", inplace=True)\n",
    "movies_ratings['description'].fillna(\"Missing\", inplace=True)\n",
    "\n"
   ]
  },
  {
   "cell_type": "code",
   "execution_count": 18,
   "metadata": {},
   "outputs": [],
   "source": [
    "movies_ratings['writer'] = movies_ratings['writer'].cat.add_categories('Missing')\n",
    "movies_ratings['production_company'] = movies_ratings['production_company'].cat.add_categories('Missing')\n",
    "\n",
    "movies_ratings['writer'].fillna(\"Missing\", inplace=True)\n",
    "movies_ratings['production_company'].fillna(\"Missing\", inplace=True)"
   ]
  },
  {
   "cell_type": "code",
   "execution_count": 19,
   "metadata": {},
   "outputs": [
    {
     "data": {
      "text/plain": [
       "imdb_title_id                0.000000\n",
       "title                        0.000000\n",
       "original_title               0.000000\n",
       "year                         0.000000\n",
       "date_published               0.000000\n",
       "genre                        0.000000\n",
       "duration                     0.000000\n",
       "country                      0.000000\n",
       "language                     0.000000\n",
       "director                     0.000000\n",
       "writer                       0.000000\n",
       "production_company           0.000000\n",
       "actors                       0.000000\n",
       "description                  0.000000\n",
       "avg_vote                     0.000000\n",
       "votes                        0.000000\n",
       "reviews_from_users           0.000000\n",
       "reviews_from_critics         0.000000\n",
       "mean_vote                    0.000000\n",
       "median_vote                  0.000000\n",
       "votes_10                     0.000000\n",
       "votes_9                      0.000000\n",
       "votes_8                      0.000000\n",
       "votes_7                      0.000000\n",
       "votes_6                      0.000000\n",
       "votes_5                      0.000000\n",
       "votes_4                      0.000000\n",
       "votes_3                      0.000000\n",
       "votes_2                      0.000000\n",
       "votes_1                      0.000000\n",
       "allgenders_18age_avg_vote    0.510625\n",
       "allgenders_18age_votes       0.510625\n",
       "allgenders_30age_avg_vote    0.011074\n",
       "allgenders_30age_votes       0.011074\n",
       "allgenders_45age_avg_vote    0.139038\n",
       "allgenders_45age_votes       0.139038\n",
       "males_allages_avg_vote       0.001230\n",
       "males_allages_votes          0.001230\n",
       "males_18age_avg_vote         1.299324\n",
       "males_18age_votes            1.299324\n",
       "males_30age_avg_vote         0.011074\n",
       "males_30age_votes            0.011074\n",
       "males_45age_avg_vote         0.188254\n",
       "males_45age_votes            0.188254\n",
       "females_allages_avg_vote     0.086129\n",
       "females_allages_votes        0.086129\n",
       "females_18age_avg_vote       6.193939\n",
       "females_18age_votes          6.193939\n",
       "females_30age_avg_vote       1.063084\n",
       "females_30age_votes          1.063084\n",
       "females_45age_avg_vote       3.164643\n",
       "females_45age_votes          3.164643\n",
       "top1000_voters_rating        0.745635\n",
       "top1000_voters_votes         0.745635\n",
       "us_voters_rating             0.294071\n",
       "us_voters_votes              0.294071\n",
       "non_us_voters_rating         0.004922\n",
       "non_us_voters_votes          0.004922\n",
       "dtype: float64"
      ]
     },
     "execution_count": 19,
     "metadata": {},
     "output_type": "execute_result"
    }
   ],
   "source": [
    "(movies_ratings.isnull().sum() / 81273) *100"
   ]
  },
  {
   "cell_type": "markdown",
   "metadata": {},
   "source": [
    "Agora só sobraram dados faltantes do tipo numérico\n",
    "\n"
   ]
  },
  {
   "cell_type": "markdown",
   "metadata": {},
   "source": [
    "As colunas tais como \"female_allages_votes\" contam o número de notas atribuídas para um dado filme. \n",
    "Assim como o número de reviews, não há melhor opção do que atribuir 0 para esses dados faltantes. Porém a média dos votos 'avg_vote' devem ser imputados"
   ]
  },
  {
   "cell_type": "code",
   "execution_count": 20,
   "metadata": {},
   "outputs": [],
   "source": [
    "movies_ratings['allgenders_18age_votes'].fillna(0.0, inplace=True)\n",
    "movies_ratings['allgenders_30age_votes'].fillna(0.0, inplace=True)\n",
    "movies_ratings['allgenders_45age_votes'].fillna(0.0, inplace=True)\n",
    "movies_ratings['males_allages_votes'].fillna(0.0, inplace=True)\n",
    "movies_ratings['males_18age_votes'].fillna(0.0, inplace=True)\n",
    "movies_ratings['males_30age_votes'].fillna(0.0, inplace=True)\n",
    "movies_ratings['males_45age_votes'].fillna(0.0, inplace=True)\n",
    "movies_ratings['females_allages_votes'].fillna(0.0, inplace=True)\n",
    "movies_ratings['females_18age_votes'].fillna(0.0, inplace=True)\n",
    "movies_ratings['females_30age_votes'].fillna(0.0, inplace=True)\n",
    "movies_ratings['females_45age_votes'].fillna(0.0, inplace=True)"
   ]
  },
  {
   "cell_type": "code",
   "execution_count": 21,
   "metadata": {},
   "outputs": [],
   "source": [
    "movies_ratings['top1000_voters_votes'].fillna(0.0, inplace=True)\n",
    "movies_ratings['us_voters_votes'].fillna(0.0, inplace=True)\n",
    "movies_ratings['non_us_voters_votes'].fillna(0.0, inplace=True)\n"
   ]
  },
  {
   "cell_type": "code",
   "execution_count": 22,
   "metadata": {},
   "outputs": [
    {
     "data": {
      "text/plain": [
       "imdb_title_id                0.000000\n",
       "title                        0.000000\n",
       "original_title               0.000000\n",
       "year                         0.000000\n",
       "date_published               0.000000\n",
       "genre                        0.000000\n",
       "duration                     0.000000\n",
       "country                      0.000000\n",
       "language                     0.000000\n",
       "director                     0.000000\n",
       "writer                       0.000000\n",
       "production_company           0.000000\n",
       "actors                       0.000000\n",
       "description                  0.000000\n",
       "avg_vote                     0.000000\n",
       "votes                        0.000000\n",
       "reviews_from_users           0.000000\n",
       "reviews_from_critics         0.000000\n",
       "mean_vote                    0.000000\n",
       "median_vote                  0.000000\n",
       "votes_10                     0.000000\n",
       "votes_9                      0.000000\n",
       "votes_8                      0.000000\n",
       "votes_7                      0.000000\n",
       "votes_6                      0.000000\n",
       "votes_5                      0.000000\n",
       "votes_4                      0.000000\n",
       "votes_3                      0.000000\n",
       "votes_2                      0.000000\n",
       "votes_1                      0.000000\n",
       "allgenders_18age_avg_vote    0.510625\n",
       "allgenders_18age_votes       0.000000\n",
       "allgenders_30age_avg_vote    0.011074\n",
       "allgenders_30age_votes       0.000000\n",
       "allgenders_45age_avg_vote    0.139038\n",
       "allgenders_45age_votes       0.000000\n",
       "males_allages_avg_vote       0.001230\n",
       "males_allages_votes          0.000000\n",
       "males_18age_avg_vote         1.299324\n",
       "males_18age_votes            0.000000\n",
       "males_30age_avg_vote         0.011074\n",
       "males_30age_votes            0.000000\n",
       "males_45age_avg_vote         0.188254\n",
       "males_45age_votes            0.000000\n",
       "females_allages_avg_vote     0.086129\n",
       "females_allages_votes        0.000000\n",
       "females_18age_avg_vote       6.193939\n",
       "females_18age_votes          0.000000\n",
       "females_30age_avg_vote       1.063084\n",
       "females_30age_votes          0.000000\n",
       "females_45age_avg_vote       3.164643\n",
       "females_45age_votes          0.000000\n",
       "top1000_voters_rating        0.745635\n",
       "top1000_voters_votes         0.000000\n",
       "us_voters_rating             0.294071\n",
       "us_voters_votes              0.000000\n",
       "non_us_voters_rating         0.004922\n",
       "non_us_voters_votes          0.000000\n",
       "dtype: float64"
      ]
     },
     "execution_count": 22,
     "metadata": {},
     "output_type": "execute_result"
    }
   ],
   "source": [
    "(movies_ratings.isnull().sum() / 81273) *100"
   ]
  },
  {
   "cell_type": "markdown",
   "metadata": {},
   "source": [
    "Ao imputar valores númericos, a solução mais rápida e fácil e substituir os valores ausentes pela média ou mediana. Em alguns casos essa solução pode alterar o valor tanto da média quanto da mediana se os dados faltantes forem muito numerosos, porém nesse caso como os dados faltantes são muito poucos em relação ao todo isto não deve ocorrer. Ainda assim farei essa verificação."
   ]
  },
  {
   "cell_type": "code",
   "execution_count": 23,
   "metadata": {},
   "outputs": [
    {
     "data": {
      "text/plain": [
       "6.039700462539267"
      ]
     },
     "execution_count": 23,
     "metadata": {},
     "output_type": "execute_result"
    }
   ],
   "source": [
    "movies_ratings['allgenders_18age_avg_vote'].mean()\n"
   ]
  },
  {
   "cell_type": "code",
   "execution_count": 24,
   "metadata": {},
   "outputs": [
    {
     "data": {
      "text/plain": [
       "6.3"
      ]
     },
     "execution_count": 24,
     "metadata": {},
     "output_type": "execute_result"
    }
   ],
   "source": [
    "movies_ratings['allgenders_18age_avg_vote'].median()"
   ]
  },
  {
   "cell_type": "code",
   "execution_count": 25,
   "metadata": {},
   "outputs": [],
   "source": [
    "mr2 = movies_ratings\n",
    "mr2['allgenders_18age_avg_vote'].fillna(mr2['allgenders_18age_avg_vote'].mean(), inplace=True)"
   ]
  },
  {
   "cell_type": "code",
   "execution_count": 26,
   "metadata": {},
   "outputs": [
    {
     "data": {
      "text/plain": [
       "6.039700462539267"
      ]
     },
     "execution_count": 26,
     "metadata": {},
     "output_type": "execute_result"
    }
   ],
   "source": [
    "mr2['allgenders_18age_avg_vote'].mean()"
   ]
  },
  {
   "cell_type": "code",
   "execution_count": 27,
   "metadata": {},
   "outputs": [
    {
     "data": {
      "text/plain": [
       "6.3"
      ]
     },
     "execution_count": 27,
     "metadata": {},
     "output_type": "execute_result"
    }
   ],
   "source": [
    "mr2['allgenders_18age_avg_vote'].median()"
   ]
  },
  {
   "cell_type": "code",
   "execution_count": 28,
   "metadata": {},
   "outputs": [],
   "source": [
    "movies_ratings['allgenders_18age_avg_vote'].fillna(movies_ratings['allgenders_18age_avg_vote'].mean(), inplace=True)\n",
    "movies_ratings['allgenders_30age_avg_vote'].fillna(movies_ratings['allgenders_30age_avg_vote'].mean(), inplace=True)\n",
    "movies_ratings['allgenders_45age_avg_vote'].fillna(movies_ratings['allgenders_45age_avg_vote'].mean(), inplace=True)\n",
    "movies_ratings['males_allages_avg_vote'].fillna(movies_ratings['males_allages_avg_vote'].mean(), inplace=True)\n",
    "movies_ratings['males_18age_avg_vote'].fillna(movies_ratings['males_18age_avg_vote'].mean(), inplace=True)\n",
    "movies_ratings['males_30age_avg_vote'].fillna(movies_ratings['males_30age_avg_vote'].mean(), inplace=True)\n",
    "movies_ratings['males_45age_avg_vote'].fillna(movies_ratings['males_45age_avg_vote'].mean(), inplace=True)\n",
    "movies_ratings['females_allages_avg_vote'].fillna(movies_ratings['females_allages_avg_vote'].mean(), inplace=True)\n",
    "movies_ratings['females_30age_avg_vote'].fillna(movies_ratings['females_30age_avg_vote'].mean(), inplace=True)\n",
    "movies_ratings['top1000_voters_rating'].fillna(movies_ratings['top1000_voters_rating'].mean(), inplace=True)\n",
    "movies_ratings['us_voters_rating'].fillna(movies_ratings['us_voters_rating'].mean(), inplace=True)\n",
    "movies_ratings['non_us_voters_rating'].fillna(movies_ratings['non_us_voters_rating'].mean(), inplace=True)\n",
    "\n"
   ]
  },
  {
   "cell_type": "code",
   "execution_count": 29,
   "metadata": {},
   "outputs": [
    {
     "data": {
      "text/plain": [
       "6.264040714070227"
      ]
     },
     "execution_count": 29,
     "metadata": {},
     "output_type": "execute_result"
    }
   ],
   "source": [
    "#A coluna 'females_18age_avg_vote' possui 6% de dados faltantes, o maior índice entre todas.\n",
    "mr2['females_18age_avg_vote'].mean()"
   ]
  },
  {
   "cell_type": "code",
   "execution_count": 30,
   "metadata": {},
   "outputs": [
    {
     "data": {
      "text/plain": [
       "6.5"
      ]
     },
     "execution_count": 30,
     "metadata": {},
     "output_type": "execute_result"
    }
   ],
   "source": [
    "movies_ratings['females_18age_avg_vote'].median()"
   ]
  },
  {
   "cell_type": "code",
   "execution_count": 31,
   "metadata": {},
   "outputs": [],
   "source": [
    "mr2['females_18age_avg_vote'].fillna(movies_ratings['females_18age_avg_vote'].mean(), inplace=True)"
   ]
  },
  {
   "cell_type": "code",
   "execution_count": 32,
   "metadata": {},
   "outputs": [
    {
     "data": {
      "text/plain": [
       "6.264040714070227"
      ]
     },
     "execution_count": 32,
     "metadata": {},
     "output_type": "execute_result"
    }
   ],
   "source": [
    "mr2['females_18age_avg_vote'].mean()"
   ]
  },
  {
   "cell_type": "code",
   "execution_count": 33,
   "metadata": {},
   "outputs": [
    {
     "data": {
      "text/plain": [
       "6.4"
      ]
     },
     "execution_count": 33,
     "metadata": {},
     "output_type": "execute_result"
    }
   ],
   "source": [
    "mr2['females_18age_avg_vote'].median()"
   ]
  },
  {
   "cell_type": "code",
   "execution_count": 34,
   "metadata": {},
   "outputs": [],
   "source": [
    "movies_ratings['females_18age_avg_vote'].fillna(movies_ratings['females_18age_avg_vote'].mean(), inplace=True)\n",
    "movies_ratings['females_45age_avg_vote'].fillna(movies_ratings['females_45age_avg_vote'].mean(), inplace=True)"
   ]
  },
  {
   "cell_type": "markdown",
   "metadata": {},
   "source": [
    "## Normalização\n"
   ]
  },
  {
   "cell_type": "markdown",
   "metadata": {},
   "source": [
    "A partir desse ponto eu decidi descartar algumas colunas porque são muitas colunas e a maior parte delas não serão necessárias para minha análise. Os ratings são divididos por perfil demográfico e por idade, mas eu decidi focar apenas nos votos de homens e mulheres de todas as idades pra simplificar. Também irei descartar algumas colunas relacionadas aos filmes que não irei utilizar."
   ]
  },
  {
   "cell_type": "code",
   "execution_count": 35,
   "metadata": {},
   "outputs": [
    {
     "data": {
      "text/plain": [
       "Index(['imdb_title_id', 'title', 'original_title', 'year', 'date_published',\n",
       "       'genre', 'duration', 'country', 'language', 'director', 'writer',\n",
       "       'production_company', 'actors', 'description', 'avg_vote', 'votes',\n",
       "       'reviews_from_users', 'reviews_from_critics', 'mean_vote',\n",
       "       'median_vote', 'votes_10', 'votes_9', 'votes_8', 'votes_7', 'votes_6',\n",
       "       'votes_5', 'votes_4', 'votes_3', 'votes_2', 'votes_1',\n",
       "       'allgenders_18age_avg_vote', 'allgenders_18age_votes',\n",
       "       'allgenders_30age_avg_vote', 'allgenders_30age_votes',\n",
       "       'allgenders_45age_avg_vote', 'allgenders_45age_votes',\n",
       "       'males_allages_avg_vote', 'males_allages_votes', 'males_18age_avg_vote',\n",
       "       'males_18age_votes', 'males_30age_avg_vote', 'males_30age_votes',\n",
       "       'males_45age_avg_vote', 'males_45age_votes', 'females_allages_avg_vote',\n",
       "       'females_allages_votes', 'females_18age_avg_vote',\n",
       "       'females_18age_votes', 'females_30age_avg_vote', 'females_30age_votes',\n",
       "       'females_45age_avg_vote', 'females_45age_votes',\n",
       "       'top1000_voters_rating', 'top1000_voters_votes', 'us_voters_rating',\n",
       "       'us_voters_votes', 'non_us_voters_rating', 'non_us_voters_votes'],\n",
       "      dtype='object')"
      ]
     },
     "execution_count": 35,
     "metadata": {},
     "output_type": "execute_result"
    }
   ],
   "source": [
    "movies_ratings.columns"
   ]
  },
  {
   "cell_type": "code",
   "execution_count": 36,
   "metadata": {},
   "outputs": [],
   "source": [
    "movies_ratings.drop(columns=['original_title', 'date_published', 'description', 'reviews_from_users',\n",
    "                            'reviews_from_critics', 'votes_10', 'votes_9', 'votes_8', 'votes_7', 'votes_6',\n",
    "                            'votes_5', 'votes_4', 'votes_3', 'votes_2', 'votes_1',\n",
    "                            'allgenders_18age_avg_vote', 'allgenders_18age_votes',\n",
    "                            'allgenders_30age_avg_vote','allgenders_30age_votes',\n",
    "                            'allgenders_45age_avg_vote', 'allgenders_45age_votes','males_18age_avg_vote',\n",
    "                            'males_18age_votes', 'males_30age_avg_vote', 'males_30age_votes',\n",
    "                            'males_45age_avg_vote', 'males_45age_votes', 'females_18age_avg_vote',\n",
    "                            'females_18age_votes', 'females_30age_avg_vote', 'females_30age_votes',\n",
    "                            'females_45age_avg_vote', 'females_45age_votes',\n",
    "                            'top1000_voters_rating', 'top1000_voters_votes', 'us_voters_rating',\n",
    "                            'us_voters_votes', 'non_us_voters_rating', 'non_us_voters_votes'], inplace=True)"
   ]
  },
  {
   "cell_type": "code",
   "execution_count": 37,
   "metadata": {},
   "outputs": [
    {
     "data": {
      "text/plain": [
       "Index(['imdb_title_id', 'title', 'year', 'genre', 'duration', 'country',\n",
       "       'language', 'director', 'writer', 'production_company', 'actors',\n",
       "       'avg_vote', 'votes', 'mean_vote', 'median_vote',\n",
       "       'males_allages_avg_vote', 'males_allages_votes',\n",
       "       'females_allages_avg_vote', 'females_allages_votes'],\n",
       "      dtype='object')"
      ]
     },
     "execution_count": 37,
     "metadata": {},
     "output_type": "execute_result"
    }
   ],
   "source": [
    "movies_ratings.columns"
   ]
  },
  {
   "cell_type": "markdown",
   "metadata": {},
   "source": [
    "As colunas de quantidades de votos possuem um intervalo muito grande em relação as outras colunas e elas acabam dominando as outras colunas em cálculos de distâncias e por isso precisam ser normalizadas."
   ]
  },
  {
   "cell_type": "code",
   "execution_count": 38,
   "metadata": {},
   "outputs": [
    {
     "data": {
      "text/html": [
       "<div>\n",
       "<style scoped>\n",
       "    .dataframe tbody tr th:only-of-type {\n",
       "        vertical-align: middle;\n",
       "    }\n",
       "\n",
       "    .dataframe tbody tr th {\n",
       "        vertical-align: top;\n",
       "    }\n",
       "\n",
       "    .dataframe thead th {\n",
       "        text-align: right;\n",
       "    }\n",
       "</style>\n",
       "<table border=\"1\" class=\"dataframe\">\n",
       "  <thead>\n",
       "    <tr style=\"text-align: right;\">\n",
       "      <th></th>\n",
       "      <th>votes</th>\n",
       "      <th>males_allages_votes</th>\n",
       "      <th>females_allages_votes</th>\n",
       "    </tr>\n",
       "  </thead>\n",
       "  <tbody>\n",
       "    <tr>\n",
       "      <th>68315</th>\n",
       "      <td>99</td>\n",
       "      <td>71.0</td>\n",
       "      <td>12.0</td>\n",
       "    </tr>\n",
       "    <tr>\n",
       "      <th>924</th>\n",
       "      <td>100</td>\n",
       "      <td>66.0</td>\n",
       "      <td>13.0</td>\n",
       "    </tr>\n",
       "    <tr>\n",
       "      <th>21239</th>\n",
       "      <td>100</td>\n",
       "      <td>80.0</td>\n",
       "      <td>5.0</td>\n",
       "    </tr>\n",
       "    <tr>\n",
       "      <th>47556</th>\n",
       "      <td>100</td>\n",
       "      <td>71.0</td>\n",
       "      <td>13.0</td>\n",
       "    </tr>\n",
       "    <tr>\n",
       "      <th>79996</th>\n",
       "      <td>100</td>\n",
       "      <td>69.0</td>\n",
       "      <td>3.0</td>\n",
       "    </tr>\n",
       "    <tr>\n",
       "      <th>...</th>\n",
       "      <td>...</td>\n",
       "      <td>...</td>\n",
       "      <td>...</td>\n",
       "    </tr>\n",
       "    <tr>\n",
       "      <th>27558</th>\n",
       "      <td>1695085</td>\n",
       "      <td>1062391.0</td>\n",
       "      <td>200065.0</td>\n",
       "    </tr>\n",
       "    <tr>\n",
       "      <th>31627</th>\n",
       "      <td>1725365</td>\n",
       "      <td>1066041.0</td>\n",
       "      <td>229155.0</td>\n",
       "    </tr>\n",
       "    <tr>\n",
       "      <th>55287</th>\n",
       "      <td>1892929</td>\n",
       "      <td>1164240.0</td>\n",
       "      <td>269839.0</td>\n",
       "    </tr>\n",
       "    <tr>\n",
       "      <th>46756</th>\n",
       "      <td>2134569</td>\n",
       "      <td>1374105.0</td>\n",
       "      <td>243898.0</td>\n",
       "    </tr>\n",
       "    <tr>\n",
       "      <th>27628</th>\n",
       "      <td>2159628</td>\n",
       "      <td>1350247.0</td>\n",
       "      <td>263815.0</td>\n",
       "    </tr>\n",
       "  </tbody>\n",
       "</table>\n",
       "<p>81273 rows × 3 columns</p>\n",
       "</div>"
      ],
      "text/plain": [
       "         votes  males_allages_votes  females_allages_votes\n",
       "68315       99                 71.0                   12.0\n",
       "924        100                 66.0                   13.0\n",
       "21239      100                 80.0                    5.0\n",
       "47556      100                 71.0                   13.0\n",
       "79996      100                 69.0                    3.0\n",
       "...        ...                  ...                    ...\n",
       "27558  1695085            1062391.0               200065.0\n",
       "31627  1725365            1066041.0               229155.0\n",
       "55287  1892929            1164240.0               269839.0\n",
       "46756  2134569            1374105.0               243898.0\n",
       "27628  2159628            1350247.0               263815.0\n",
       "\n",
       "[81273 rows x 3 columns]"
      ]
     },
     "execution_count": 38,
     "metadata": {},
     "output_type": "execute_result"
    }
   ],
   "source": [
    "movies_ratings[['votes', 'males_allages_votes','females_allages_votes']].sort_values(by='votes')"
   ]
  },
  {
   "cell_type": "markdown",
   "metadata": {},
   "source": [
    "Eu irei utilizar o método min-max para normalizar esses atributos fazendo com que o intervalo desses atributos seja [0,1]. O método min-max subtrair cada valor pelo mínimo do vetor e depois diviide pelo máximo menos o mínimo."
   ]
  },
  {
   "cell_type": "code",
   "execution_count": 39,
   "metadata": {},
   "outputs": [],
   "source": [
    "movies_ratings['votes'] = (movies_ratings['votes'] - movies_ratings['votes'].min()) / (movies_ratings['votes'].max() - movies_ratings['votes'].min())\n",
    "movies_ratings['males_allages_votes'] = (movies_ratings['males_allages_votes'] - movies_ratings['males_allages_votes'].min()) / (movies_ratings['males_allages_votes'].max() - movies_ratings['males_allages_votes'].min())\n",
    "movies_ratings['females_allages_votes'] = (movies_ratings['females_allages_votes'] - movies_ratings['females_allages_votes'].min()) / (movies_ratings['females_allages_votes'].max() - movies_ratings['females_allages_votes'].min())"
   ]
  },
  {
   "cell_type": "code",
   "execution_count": 40,
   "metadata": {},
   "outputs": [
    {
     "data": {
      "text/html": [
       "<div>\n",
       "<style scoped>\n",
       "    .dataframe tbody tr th:only-of-type {\n",
       "        vertical-align: middle;\n",
       "    }\n",
       "\n",
       "    .dataframe tbody tr th {\n",
       "        vertical-align: top;\n",
       "    }\n",
       "\n",
       "    .dataframe thead th {\n",
       "        text-align: right;\n",
       "    }\n",
       "</style>\n",
       "<table border=\"1\" class=\"dataframe\">\n",
       "  <thead>\n",
       "    <tr style=\"text-align: right;\">\n",
       "      <th></th>\n",
       "      <th>votes</th>\n",
       "      <th>males_allages_votes</th>\n",
       "      <th>females_allages_votes</th>\n",
       "    </tr>\n",
       "  </thead>\n",
       "  <tbody>\n",
       "    <tr>\n",
       "      <th>68315</th>\n",
       "      <td>0.000000e+00</td>\n",
       "      <td>0.000052</td>\n",
       "      <td>0.000044</td>\n",
       "    </tr>\n",
       "    <tr>\n",
       "      <th>924</th>\n",
       "      <td>4.630639e-07</td>\n",
       "      <td>0.000048</td>\n",
       "      <td>0.000048</td>\n",
       "    </tr>\n",
       "    <tr>\n",
       "      <th>21239</th>\n",
       "      <td>4.630639e-07</td>\n",
       "      <td>0.000058</td>\n",
       "      <td>0.000019</td>\n",
       "    </tr>\n",
       "    <tr>\n",
       "      <th>47556</th>\n",
       "      <td>4.630639e-07</td>\n",
       "      <td>0.000052</td>\n",
       "      <td>0.000048</td>\n",
       "    </tr>\n",
       "    <tr>\n",
       "      <th>79996</th>\n",
       "      <td>4.630639e-07</td>\n",
       "      <td>0.000050</td>\n",
       "      <td>0.000011</td>\n",
       "    </tr>\n",
       "    <tr>\n",
       "      <th>...</th>\n",
       "      <td>...</td>\n",
       "      <td>...</td>\n",
       "      <td>...</td>\n",
       "    </tr>\n",
       "    <tr>\n",
       "      <th>27558</th>\n",
       "      <td>7.848869e-01</td>\n",
       "      <td>0.773151</td>\n",
       "      <td>0.741424</td>\n",
       "    </tr>\n",
       "    <tr>\n",
       "      <th>31627</th>\n",
       "      <td>7.989085e-01</td>\n",
       "      <td>0.775808</td>\n",
       "      <td>0.849229</td>\n",
       "    </tr>\n",
       "    <tr>\n",
       "      <th>55287</th>\n",
       "      <td>8.765013e-01</td>\n",
       "      <td>0.847271</td>\n",
       "      <td>1.000000</td>\n",
       "    </tr>\n",
       "    <tr>\n",
       "      <th>46756</th>\n",
       "      <td>9.883961e-01</td>\n",
       "      <td>1.000000</td>\n",
       "      <td>0.903865</td>\n",
       "    </tr>\n",
       "    <tr>\n",
       "      <th>27628</th>\n",
       "      <td>1.000000e+00</td>\n",
       "      <td>0.982637</td>\n",
       "      <td>0.977676</td>\n",
       "    </tr>\n",
       "  </tbody>\n",
       "</table>\n",
       "<p>81273 rows × 3 columns</p>\n",
       "</div>"
      ],
      "text/plain": [
       "              votes  males_allages_votes  females_allages_votes\n",
       "68315  0.000000e+00             0.000052               0.000044\n",
       "924    4.630639e-07             0.000048               0.000048\n",
       "21239  4.630639e-07             0.000058               0.000019\n",
       "47556  4.630639e-07             0.000052               0.000048\n",
       "79996  4.630639e-07             0.000050               0.000011\n",
       "...             ...                  ...                    ...\n",
       "27558  7.848869e-01             0.773151               0.741424\n",
       "31627  7.989085e-01             0.775808               0.849229\n",
       "55287  8.765013e-01             0.847271               1.000000\n",
       "46756  9.883961e-01             1.000000               0.903865\n",
       "27628  1.000000e+00             0.982637               0.977676\n",
       "\n",
       "[81273 rows x 3 columns]"
      ]
     },
     "execution_count": 40,
     "metadata": {},
     "output_type": "execute_result"
    }
   ],
   "source": [
    "movies_ratings[['votes', 'males_allages_votes','females_allages_votes']].sort_values(by='votes')"
   ]
  },
  {
   "cell_type": "markdown",
   "metadata": {},
   "source": [
    "## Discretização\n"
   ]
  },
  {
   "cell_type": "markdown",
   "metadata": {},
   "source": [
    "Eu quero discretizar os valores das colunas abaixo que mostram as médias dos votos para cada filme e classificá-los em: ruim, médio, bom e ótimo. \n"
   ]
  },
  {
   "cell_type": "code",
   "execution_count": 41,
   "metadata": {},
   "outputs": [
    {
     "data": {
      "text/html": [
       "<div>\n",
       "<style scoped>\n",
       "    .dataframe tbody tr th:only-of-type {\n",
       "        vertical-align: middle;\n",
       "    }\n",
       "\n",
       "    .dataframe tbody tr th {\n",
       "        vertical-align: top;\n",
       "    }\n",
       "\n",
       "    .dataframe thead th {\n",
       "        text-align: right;\n",
       "    }\n",
       "</style>\n",
       "<table border=\"1\" class=\"dataframe\">\n",
       "  <thead>\n",
       "    <tr style=\"text-align: right;\">\n",
       "      <th></th>\n",
       "      <th>avg_vote</th>\n",
       "      <th>mean_vote</th>\n",
       "      <th>males_allages_avg_vote</th>\n",
       "      <th>females_allages_avg_vote</th>\n",
       "    </tr>\n",
       "  </thead>\n",
       "  <tbody>\n",
       "    <tr>\n",
       "      <th>76383</th>\n",
       "      <td>1.0</td>\n",
       "      <td>1.1</td>\n",
       "      <td>1.0</td>\n",
       "      <td>6.063094</td>\n",
       "    </tr>\n",
       "    <tr>\n",
       "      <th>78724</th>\n",
       "      <td>1.0</td>\n",
       "      <td>2.0</td>\n",
       "      <td>1.0</td>\n",
       "      <td>1.300000</td>\n",
       "    </tr>\n",
       "    <tr>\n",
       "      <th>59372</th>\n",
       "      <td>1.0</td>\n",
       "      <td>1.4</td>\n",
       "      <td>1.0</td>\n",
       "      <td>1.800000</td>\n",
       "    </tr>\n",
       "    <tr>\n",
       "      <th>76344</th>\n",
       "      <td>1.0</td>\n",
       "      <td>1.1</td>\n",
       "      <td>4.0</td>\n",
       "      <td>6.063094</td>\n",
       "    </tr>\n",
       "    <tr>\n",
       "      <th>53552</th>\n",
       "      <td>1.0</td>\n",
       "      <td>9.4</td>\n",
       "      <td>1.0</td>\n",
       "      <td>1.000000</td>\n",
       "    </tr>\n",
       "    <tr>\n",
       "      <th>...</th>\n",
       "      <td>...</td>\n",
       "      <td>...</td>\n",
       "      <td>...</td>\n",
       "      <td>...</td>\n",
       "    </tr>\n",
       "    <tr>\n",
       "      <th>51927</th>\n",
       "      <td>9.6</td>\n",
       "      <td>9.4</td>\n",
       "      <td>1.0</td>\n",
       "      <td>6.063094</td>\n",
       "    </tr>\n",
       "    <tr>\n",
       "      <th>51300</th>\n",
       "      <td>9.7</td>\n",
       "      <td>9.3</td>\n",
       "      <td>4.2</td>\n",
       "      <td>10.000000</td>\n",
       "    </tr>\n",
       "    <tr>\n",
       "      <th>81138</th>\n",
       "      <td>9.8</td>\n",
       "      <td>9.5</td>\n",
       "      <td>2.9</td>\n",
       "      <td>1.000000</td>\n",
       "    </tr>\n",
       "    <tr>\n",
       "      <th>52002</th>\n",
       "      <td>10.0</td>\n",
       "      <td>9.6</td>\n",
       "      <td>10.0</td>\n",
       "      <td>10.000000</td>\n",
       "    </tr>\n",
       "    <tr>\n",
       "      <th>77908</th>\n",
       "      <td>10.0</td>\n",
       "      <td>10.0</td>\n",
       "      <td>10.0</td>\n",
       "      <td>10.000000</td>\n",
       "    </tr>\n",
       "  </tbody>\n",
       "</table>\n",
       "<p>81273 rows × 4 columns</p>\n",
       "</div>"
      ],
      "text/plain": [
       "       avg_vote  mean_vote  males_allages_avg_vote  females_allages_avg_vote\n",
       "76383       1.0        1.1                     1.0                  6.063094\n",
       "78724       1.0        2.0                     1.0                  1.300000\n",
       "59372       1.0        1.4                     1.0                  1.800000\n",
       "76344       1.0        1.1                     4.0                  6.063094\n",
       "53552       1.0        9.4                     1.0                  1.000000\n",
       "...         ...        ...                     ...                       ...\n",
       "51927       9.6        9.4                     1.0                  6.063094\n",
       "51300       9.7        9.3                     4.2                 10.000000\n",
       "81138       9.8        9.5                     2.9                  1.000000\n",
       "52002      10.0        9.6                    10.0                 10.000000\n",
       "77908      10.0       10.0                    10.0                 10.000000\n",
       "\n",
       "[81273 rows x 4 columns]"
      ]
     },
     "execution_count": 41,
     "metadata": {},
     "output_type": "execute_result"
    }
   ],
   "source": [
    "movies_ratings[['avg_vote', 'mean_vote', 'males_allages_avg_vote','females_allages_avg_vote']].sort_values(by='avg_vote')"
   ]
  },
  {
   "cell_type": "markdown",
   "metadata": {},
   "source": [
    "No pandas temos os métodos cut e qcut para fazer isso. Porém o qcut agrupa os dados com a mesma frequência e o resultado fica assim:"
   ]
  },
  {
   "cell_type": "code",
   "execution_count": 42,
   "metadata": {},
   "outputs": [
    {
     "data": {
      "text/plain": [
       "(6.1, 6.8]      21702\n",
       "(0.999, 5.2]    20369\n",
       "(5.2, 6.1]      20351\n",
       "(6.8, 10.0]     18851\n",
       "Name: avg_vote, dtype: int64"
      ]
     },
     "execution_count": 42,
     "metadata": {},
     "output_type": "execute_result"
    }
   ],
   "source": [
    "\n",
    "pd.qcut(movies_ratings.avg_vote,4).value_counts()"
   ]
  },
  {
   "cell_type": "markdown",
   "metadata": {},
   "source": [
    "O que não faz muito sentido para a minha classificação, por isso o cut que agrupa de acordo com o mesmo intervalo é a melhor solução.\n"
   ]
  },
  {
   "cell_type": "code",
   "execution_count": 43,
   "metadata": {},
   "outputs": [
    {
     "data": {
      "text/plain": [
       "(5.5, 7.75]      52480\n",
       "(3.25, 5.5]      22931\n",
       "(0.991, 3.25]     3016\n",
       "(7.75, 10.0]      2846\n",
       "Name: avg_vote, dtype: int64"
      ]
     },
     "execution_count": 43,
     "metadata": {},
     "output_type": "execute_result"
    }
   ],
   "source": [
    "pd.cut(movies_ratings['avg_vote'], 4).value_counts()"
   ]
  },
  {
   "cell_type": "code",
   "execution_count": 44,
   "metadata": {},
   "outputs": [],
   "source": [
    "\n",
    "labels = ['Bad', 'Medium', 'Good', 'Great']\n",
    "movies_ratings['avg_vote_disc'] = pd.cut(movies_ratings['avg_vote'], 4, labels=labels)\n",
    "#movies_ratings['mean_vote_disc'] = pd.cut(movies_ratings['avg_vote'], 4, labels=labels)\n",
    "#movies_ratings['females_vote_disc'] = pd.cut(movies_ratings['avg_vote'], 4, labels=labels)\n",
    "#movies_ratings['males_vote_disc'] = pd.cut(movies_ratings['avg_vote'], 4, labels=labels)\n"
   ]
  },
  {
   "cell_type": "markdown",
   "metadata": {},
   "source": [
    "Como os ratings não variam muito pra homens e mulheres nem pra o voto médio (mean vote) e o ponderado (avg_vote)\n",
    "eu teria 4 colunas iguais se discretizasse todos eles então escolhi só um pra fazer isso."
   ]
  },
  {
   "cell_type": "code",
   "execution_count": 45,
   "metadata": {},
   "outputs": [],
   "source": [
    "ratings_disc = movies_ratings['avg_vote_disc'].value_counts()"
   ]
  },
  {
   "cell_type": "code",
   "execution_count": 46,
   "metadata": {},
   "outputs": [
    {
     "data": {
      "image/png": "[encoded data removed]",
      "text/plain": [
       "<Figure size 720x360 with 1 Axes>"
      ]
     },
     "metadata": {
      "needs_background": "light"
     },
     "output_type": "display_data"
    }
   ],
   "source": [
    "plt.figure(figsize=(10, 5))\n",
    "sea.set_theme(style=\"whitegrid\")\n",
    "sea.barplot(y= ratings_disc.values, x= ratings_disc.index)\n",
    "plt.show()"
   ]
  },
  {
   "cell_type": "markdown",
   "metadata": {},
   "source": [
    "## Remoção de outliers"
   ]
  },
  {
   "cell_type": "markdown",
   "metadata": {},
   "source": [
    "A coluna de votos segue uma distribuição exponencial ou próximo a uma exponencial. Eu percebi que remover outliers com essa distribuição é um pouco difícil porque a maior parte dos valores estão sempre concentrados do lado esquerdo, além disso os métodos para remoção de outliers univariados requerem uma distribuição simétrica.\n",
    "Porém é possível utilizar uma estratégia multivariada como a isolation forest que não requer uma distribuição normal."
   ]
  },
  {
   "cell_type": "code",
   "execution_count": 47,
   "metadata": {},
   "outputs": [
    {
     "name": "stdout",
     "output_type": "stream",
     "text": [
      "<class 'pandas.core.frame.DataFrame'>\n",
      "Int64Index: 81273 entries, 0 to 81272\n",
      "Data columns (total 20 columns):\n",
      " #   Column                    Non-Null Count  Dtype   \n",
      "---  ------                    --------------  -----   \n",
      " 0   imdb_title_id             81273 non-null  category\n",
      " 1   title                     81273 non-null  category\n",
      " 2   year                      81273 non-null  int64   \n",
      " 3   genre                     81273 non-null  category\n",
      " 4   duration                  81273 non-null  int64   \n",
      " 5   country                   81273 non-null  category\n",
      " 6   language                  81273 non-null  category\n",
      " 7   director                  81273 non-null  category\n",
      " 8   writer                    81273 non-null  category\n",
      " 9   production_company        81273 non-null  category\n",
      " 10  actors                    81273 non-null  category\n",
      " 11  avg_vote                  81273 non-null  float64 \n",
      " 12  votes                     81273 non-null  float64 \n",
      " 13  mean_vote                 81273 non-null  float64 \n",
      " 14  median_vote               81273 non-null  float64 \n",
      " 15  males_allages_avg_vote    81273 non-null  float64 \n",
      " 16  males_allages_votes       81273 non-null  float64 \n",
      " 17  females_allages_avg_vote  81273 non-null  float64 \n",
      " 18  females_allages_votes     81273 non-null  float64 \n",
      " 19  avg_vote_disc             81273 non-null  category\n",
      "dtypes: category(10), float64(8), int64(2)\n",
      "memory usage: 24.6 MB\n"
     ]
    }
   ],
   "source": [
    "movies_ratings.info()"
   ]
  },
  {
   "cell_type": "code",
   "execution_count": 48,
   "metadata": {},
   "outputs": [],
   "source": [
    "# A copia para não perder dados importantes\n",
    "mr = movies_ratings.copy()"
   ]
  },
  {
   "cell_type": "code",
   "execution_count": 49,
   "metadata": {},
   "outputs": [],
   "source": [
    "movies_ratings['imdb_title_id'] = movies_ratings['imdb_title_id'].cat.codes\n",
    "movies_ratings['title'] = movies_ratings['title'].cat.codes\n",
    "movies_ratings['genre'] = movies_ratings['genre'].cat.codes\n",
    "movies_ratings['country'] = movies_ratings['country'].cat.codes\n",
    "movies_ratings['language'] = movies_ratings['language'].cat.codes\n",
    "movies_ratings['director'] = movies_ratings['director'].cat.codes\n",
    "movies_ratings['writer'] = movies_ratings['writer'].cat.codes\n",
    "movies_ratings['production_company'] = movies_ratings['production_company'].cat.codes\n",
    "movies_ratings['actors'] = movies_ratings['actors'].cat.codes\n",
    "movies_ratings['avg_vote_disc'] = movies_ratings['avg_vote_disc'].cat.codes\n"
   ]
  },
  {
   "cell_type": "code",
   "execution_count": 51,
   "metadata": {},
   "outputs": [
    {
     "data": {
      "text/plain": [
       "IsolationForest(max_samples=100,\n",
       "                random_state=RandomState(MT19937) at 0x7FDCC14D9780)"
      ]
     },
     "execution_count": 51,
     "metadata": {},
     "output_type": "execute_result"
    }
   ],
   "source": [
    "from sklearn.ensemble import IsolationForest\n",
    "rng = np.random.RandomState(42)\n",
    "clf = IsolationForest(max_samples=100, random_state=rng)\n",
    "clf.fit(movies_ratings)"
   ]
  },
  {
   "cell_type": "code",
   "execution_count": 52,
   "metadata": {},
   "outputs": [],
   "source": [
    "scores = clf.predict(movies_ratings)"
   ]
  },
  {
   "cell_type": "code",
   "execution_count": 53,
   "metadata": {},
   "outputs": [],
   "source": [
    "mr['outlier'] = scores"
   ]
  },
  {
   "cell_type": "code",
   "execution_count": 54,
   "metadata": {},
   "outputs": [
    {
     "data": {
      "text/html": [
       "<div>\n",
       "<style scoped>\n",
       "    .dataframe tbody tr th:only-of-type {\n",
       "        vertical-align: middle;\n",
       "    }\n",
       "\n",
       "    .dataframe tbody tr th {\n",
       "        vertical-align: top;\n",
       "    }\n",
       "\n",
       "    .dataframe thead th {\n",
       "        text-align: right;\n",
       "    }\n",
       "</style>\n",
       "<table border=\"1\" class=\"dataframe\">\n",
       "  <thead>\n",
       "    <tr style=\"text-align: right;\">\n",
       "      <th></th>\n",
       "      <th>imdb_title_id</th>\n",
       "      <th>title</th>\n",
       "      <th>year</th>\n",
       "      <th>genre</th>\n",
       "      <th>duration</th>\n",
       "      <th>country</th>\n",
       "      <th>language</th>\n",
       "      <th>director</th>\n",
       "      <th>writer</th>\n",
       "      <th>production_company</th>\n",
       "      <th>...</th>\n",
       "      <th>avg_vote</th>\n",
       "      <th>votes</th>\n",
       "      <th>mean_vote</th>\n",
       "      <th>median_vote</th>\n",
       "      <th>males_allages_avg_vote</th>\n",
       "      <th>males_allages_votes</th>\n",
       "      <th>females_allages_avg_vote</th>\n",
       "      <th>females_allages_votes</th>\n",
       "      <th>avg_vote_disc</th>\n",
       "      <th>outlier</th>\n",
       "    </tr>\n",
       "  </thead>\n",
       "  <tbody>\n",
       "    <tr>\n",
       "      <th>0</th>\n",
       "      <td>tt0000574</td>\n",
       "      <td>The Story of the Kelly Gang</td>\n",
       "      <td>1906</td>\n",
       "      <td>Biography, Crime, Drama</td>\n",
       "      <td>70</td>\n",
       "      <td>Australia</td>\n",
       "      <td>Missing</td>\n",
       "      <td>Charles Tait</td>\n",
       "      <td>Charles Tait</td>\n",
       "      <td>J. and N. Tait</td>\n",
       "      <td>...</td>\n",
       "      <td>6.1</td>\n",
       "      <td>0.000203</td>\n",
       "      <td>6.3</td>\n",
       "      <td>6.0</td>\n",
       "      <td>6.1</td>\n",
       "      <td>0.000286</td>\n",
       "      <td>6.100000</td>\n",
       "      <td>0.000178</td>\n",
       "      <td>Good</td>\n",
       "      <td>-1</td>\n",
       "    </tr>\n",
       "    <tr>\n",
       "      <th>1</th>\n",
       "      <td>tt0001892</td>\n",
       "      <td>Den sorte drøm</td>\n",
       "      <td>1911</td>\n",
       "      <td>Drama</td>\n",
       "      <td>53</td>\n",
       "      <td>Germany, Denmark</td>\n",
       "      <td>Missing</td>\n",
       "      <td>Urban Gad</td>\n",
       "      <td>Urban Gad, Gebhard Schätzler-Perasini</td>\n",
       "      <td>Fotorama</td>\n",
       "      <td>...</td>\n",
       "      <td>5.9</td>\n",
       "      <td>0.000033</td>\n",
       "      <td>6.1</td>\n",
       "      <td>6.0</td>\n",
       "      <td>6.0</td>\n",
       "      <td>0.000095</td>\n",
       "      <td>5.700000</td>\n",
       "      <td>0.000059</td>\n",
       "      <td>Good</td>\n",
       "      <td>-1</td>\n",
       "    </tr>\n",
       "    <tr>\n",
       "      <th>2</th>\n",
       "      <td>tt0002101</td>\n",
       "      <td>Cleopatra</td>\n",
       "      <td>1912</td>\n",
       "      <td>Drama, History</td>\n",
       "      <td>100</td>\n",
       "      <td>USA</td>\n",
       "      <td>English</td>\n",
       "      <td>Charles L. Gaskill</td>\n",
       "      <td>Victorien Sardou</td>\n",
       "      <td>Helen Gardner Picture Players</td>\n",
       "      <td>...</td>\n",
       "      <td>5.2</td>\n",
       "      <td>0.000149</td>\n",
       "      <td>5.2</td>\n",
       "      <td>5.0</td>\n",
       "      <td>5.0</td>\n",
       "      <td>0.000202</td>\n",
       "      <td>5.800000</td>\n",
       "      <td>0.000145</td>\n",
       "      <td>Medium</td>\n",
       "      <td>-1</td>\n",
       "    </tr>\n",
       "    <tr>\n",
       "      <th>3</th>\n",
       "      <td>tt0002130</td>\n",
       "      <td>L'Inferno</td>\n",
       "      <td>1911</td>\n",
       "      <td>Adventure, Drama, Fantasy</td>\n",
       "      <td>68</td>\n",
       "      <td>Italy</td>\n",
       "      <td>Italian</td>\n",
       "      <td>Francesco Bertolini, Adolfo Padovan</td>\n",
       "      <td>Dante Alighieri</td>\n",
       "      <td>Milano Film</td>\n",
       "      <td>...</td>\n",
       "      <td>7.0</td>\n",
       "      <td>0.000889</td>\n",
       "      <td>6.9</td>\n",
       "      <td>7.0</td>\n",
       "      <td>7.0</td>\n",
       "      <td>0.001065</td>\n",
       "      <td>7.200000</td>\n",
       "      <td>0.000760</td>\n",
       "      <td>Good</td>\n",
       "      <td>-1</td>\n",
       "    </tr>\n",
       "    <tr>\n",
       "      <th>7</th>\n",
       "      <td>tt0002452</td>\n",
       "      <td>Independenta Romaniei</td>\n",
       "      <td>1912</td>\n",
       "      <td>History, War</td>\n",
       "      <td>120</td>\n",
       "      <td>Romania</td>\n",
       "      <td>Missing</td>\n",
       "      <td>Aristide Demetriade</td>\n",
       "      <td>Aristide Demetriade, Petre Liciu</td>\n",
       "      <td>Societatea Filmului de Arta Leon Popescu</td>\n",
       "      <td>...</td>\n",
       "      <td>6.7</td>\n",
       "      <td>0.000041</td>\n",
       "      <td>7.1</td>\n",
       "      <td>7.0</td>\n",
       "      <td>6.7</td>\n",
       "      <td>0.000105</td>\n",
       "      <td>6.700000</td>\n",
       "      <td>0.000074</td>\n",
       "      <td>Good</td>\n",
       "      <td>-1</td>\n",
       "    </tr>\n",
       "    <tr>\n",
       "      <th>...</th>\n",
       "      <td>...</td>\n",
       "      <td>...</td>\n",
       "      <td>...</td>\n",
       "      <td>...</td>\n",
       "      <td>...</td>\n",
       "      <td>...</td>\n",
       "      <td>...</td>\n",
       "      <td>...</td>\n",
       "      <td>...</td>\n",
       "      <td>...</td>\n",
       "      <td>...</td>\n",
       "      <td>...</td>\n",
       "      <td>...</td>\n",
       "      <td>...</td>\n",
       "      <td>...</td>\n",
       "      <td>...</td>\n",
       "      <td>...</td>\n",
       "      <td>...</td>\n",
       "      <td>...</td>\n",
       "      <td>...</td>\n",
       "      <td>...</td>\n",
       "    </tr>\n",
       "    <tr>\n",
       "      <th>81268</th>\n",
       "      <td>tt9903716</td>\n",
       "      <td>Jessie</td>\n",
       "      <td>2019</td>\n",
       "      <td>Horror, Thriller</td>\n",
       "      <td>106</td>\n",
       "      <td>India</td>\n",
       "      <td>Telugu</td>\n",
       "      <td>Aswani Kumar V.</td>\n",
       "      <td>Aswani Kumar V.</td>\n",
       "      <td>Ekaa Art Production</td>\n",
       "      <td>...</td>\n",
       "      <td>7.2</td>\n",
       "      <td>0.000056</td>\n",
       "      <td>8.1</td>\n",
       "      <td>9.0</td>\n",
       "      <td>7.1</td>\n",
       "      <td>0.000071</td>\n",
       "      <td>5.800000</td>\n",
       "      <td>0.000063</td>\n",
       "      <td>Good</td>\n",
       "      <td>-1</td>\n",
       "    </tr>\n",
       "    <tr>\n",
       "      <th>81269</th>\n",
       "      <td>tt9905412</td>\n",
       "      <td>Ottam</td>\n",
       "      <td>2019</td>\n",
       "      <td>Drama</td>\n",
       "      <td>120</td>\n",
       "      <td>India</td>\n",
       "      <td>Malayalam</td>\n",
       "      <td>Zam</td>\n",
       "      <td>Rajesh k Narayan</td>\n",
       "      <td>Thomas Thiruvalla Films</td>\n",
       "      <td>...</td>\n",
       "      <td>7.8</td>\n",
       "      <td>0.000190</td>\n",
       "      <td>7.8</td>\n",
       "      <td>9.0</td>\n",
       "      <td>3.0</td>\n",
       "      <td>0.000003</td>\n",
       "      <td>6.063094</td>\n",
       "      <td>0.000000</td>\n",
       "      <td>Great</td>\n",
       "      <td>-1</td>\n",
       "    </tr>\n",
       "    <tr>\n",
       "      <th>81270</th>\n",
       "      <td>tt9905462</td>\n",
       "      <td>Pengalila</td>\n",
       "      <td>2019</td>\n",
       "      <td>Drama</td>\n",
       "      <td>111</td>\n",
       "      <td>India</td>\n",
       "      <td>Malayalam</td>\n",
       "      <td>T.V. Chandran</td>\n",
       "      <td>T.V. Chandran</td>\n",
       "      <td>Benzy Productions</td>\n",
       "      <td>...</td>\n",
       "      <td>8.4</td>\n",
       "      <td>0.000234</td>\n",
       "      <td>8.1</td>\n",
       "      <td>9.0</td>\n",
       "      <td>4.0</td>\n",
       "      <td>0.000002</td>\n",
       "      <td>6.063094</td>\n",
       "      <td>0.000000</td>\n",
       "      <td>Great</td>\n",
       "      <td>-1</td>\n",
       "    </tr>\n",
       "    <tr>\n",
       "      <th>81271</th>\n",
       "      <td>tt9911774</td>\n",
       "      <td>Padmavyuhathile Abhimanyu</td>\n",
       "      <td>2019</td>\n",
       "      <td>Drama</td>\n",
       "      <td>130</td>\n",
       "      <td>India</td>\n",
       "      <td>Malayalam</td>\n",
       "      <td>Vineesh Aaradya</td>\n",
       "      <td>Vineesh Aaradya, Vineesh Aaradya</td>\n",
       "      <td>RMCC Productions</td>\n",
       "      <td>...</td>\n",
       "      <td>8.4</td>\n",
       "      <td>0.000125</td>\n",
       "      <td>8.2</td>\n",
       "      <td>9.0</td>\n",
       "      <td>5.5</td>\n",
       "      <td>0.000001</td>\n",
       "      <td>6.063094</td>\n",
       "      <td>0.000000</td>\n",
       "      <td>Great</td>\n",
       "      <td>-1</td>\n",
       "    </tr>\n",
       "    <tr>\n",
       "      <th>81272</th>\n",
       "      <td>tt9914286</td>\n",
       "      <td>Sokagin Çocuklari</td>\n",
       "      <td>2019</td>\n",
       "      <td>Drama, Family</td>\n",
       "      <td>98</td>\n",
       "      <td>Turkey</td>\n",
       "      <td>Turkish</td>\n",
       "      <td>Ahmet Faik Akinci</td>\n",
       "      <td>Ahmet Faik Akinci, Kasim Uçkan</td>\n",
       "      <td>Gizem Ajans</td>\n",
       "      <td>...</td>\n",
       "      <td>7.2</td>\n",
       "      <td>0.000042</td>\n",
       "      <td>9.5</td>\n",
       "      <td>10.0</td>\n",
       "      <td>3.4</td>\n",
       "      <td>0.000008</td>\n",
       "      <td>1.000000</td>\n",
       "      <td>0.000004</td>\n",
       "      <td>Good</td>\n",
       "      <td>-1</td>\n",
       "    </tr>\n",
       "  </tbody>\n",
       "</table>\n",
       "<p>19695 rows × 21 columns</p>\n",
       "</div>"
      ],
      "text/plain": [
       "      imdb_title_id                        title  year  \\\n",
       "0         tt0000574  The Story of the Kelly Gang  1906   \n",
       "1         tt0001892               Den sorte drøm  1911   \n",
       "2         tt0002101                    Cleopatra  1912   \n",
       "3         tt0002130                    L'Inferno  1911   \n",
       "7         tt0002452        Independenta Romaniei  1912   \n",
       "...             ...                          ...   ...   \n",
       "81268     tt9903716                       Jessie  2019   \n",
       "81269     tt9905412                        Ottam  2019   \n",
       "81270     tt9905462                    Pengalila  2019   \n",
       "81271     tt9911774    Padmavyuhathile Abhimanyu  2019   \n",
       "81272     tt9914286            Sokagin Çocuklari  2019   \n",
       "\n",
       "                           genre  duration           country   language  \\\n",
       "0        Biography, Crime, Drama        70         Australia    Missing   \n",
       "1                          Drama        53  Germany, Denmark    Missing   \n",
       "2                 Drama, History       100               USA    English   \n",
       "3      Adventure, Drama, Fantasy        68             Italy    Italian   \n",
       "7                   History, War       120           Romania    Missing   \n",
       "...                          ...       ...               ...        ...   \n",
       "81268           Horror, Thriller       106             India     Telugu   \n",
       "81269                      Drama       120             India  Malayalam   \n",
       "81270                      Drama       111             India  Malayalam   \n",
       "81271                      Drama       130             India  Malayalam   \n",
       "81272              Drama, Family        98            Turkey    Turkish   \n",
       "\n",
       "                                  director  \\\n",
       "0                             Charles Tait   \n",
       "1                                Urban Gad   \n",
       "2                       Charles L. Gaskill   \n",
       "3      Francesco Bertolini, Adolfo Padovan   \n",
       "7                      Aristide Demetriade   \n",
       "...                                    ...   \n",
       "81268                      Aswani Kumar V.   \n",
       "81269                                  Zam   \n",
       "81270                        T.V. Chandran   \n",
       "81271                      Vineesh Aaradya   \n",
       "81272                    Ahmet Faik Akinci   \n",
       "\n",
       "                                      writer  \\\n",
       "0                               Charles Tait   \n",
       "1      Urban Gad, Gebhard Schätzler-Perasini   \n",
       "2                           Victorien Sardou   \n",
       "3                            Dante Alighieri   \n",
       "7           Aristide Demetriade, Petre Liciu   \n",
       "...                                      ...   \n",
       "81268                        Aswani Kumar V.   \n",
       "81269                       Rajesh k Narayan   \n",
       "81270                          T.V. Chandran   \n",
       "81271       Vineesh Aaradya, Vineesh Aaradya   \n",
       "81272         Ahmet Faik Akinci, Kasim Uçkan   \n",
       "\n",
       "                             production_company  ... avg_vote     votes  \\\n",
       "0                                J. and N. Tait  ...      6.1  0.000203   \n",
       "1                                      Fotorama  ...      5.9  0.000033   \n",
       "2                 Helen Gardner Picture Players  ...      5.2  0.000149   \n",
       "3                                   Milano Film  ...      7.0  0.000889   \n",
       "7      Societatea Filmului de Arta Leon Popescu  ...      6.7  0.000041   \n",
       "...                                         ...  ...      ...       ...   \n",
       "81268                       Ekaa Art Production  ...      7.2  0.000056   \n",
       "81269                   Thomas Thiruvalla Films  ...      7.8  0.000190   \n",
       "81270                         Benzy Productions  ...      8.4  0.000234   \n",
       "81271                          RMCC Productions  ...      8.4  0.000125   \n",
       "81272                               Gizem Ajans  ...      7.2  0.000042   \n",
       "\n",
       "       mean_vote  median_vote  males_allages_avg_vote  males_allages_votes  \\\n",
       "0            6.3          6.0                     6.1             0.000286   \n",
       "1            6.1          6.0                     6.0             0.000095   \n",
       "2            5.2          5.0                     5.0             0.000202   \n",
       "3            6.9          7.0                     7.0             0.001065   \n",
       "7            7.1          7.0                     6.7             0.000105   \n",
       "...          ...          ...                     ...                  ...   \n",
       "81268        8.1          9.0                     7.1             0.000071   \n",
       "81269        7.8          9.0                     3.0             0.000003   \n",
       "81270        8.1          9.0                     4.0             0.000002   \n",
       "81271        8.2          9.0                     5.5             0.000001   \n",
       "81272        9.5         10.0                     3.4             0.000008   \n",
       "\n",
       "       females_allages_avg_vote  females_allages_votes  avg_vote_disc outlier  \n",
       "0                      6.100000               0.000178           Good      -1  \n",
       "1                      5.700000               0.000059           Good      -1  \n",
       "2                      5.800000               0.000145         Medium      -1  \n",
       "3                      7.200000               0.000760           Good      -1  \n",
       "7                      6.700000               0.000074           Good      -1  \n",
       "...                         ...                    ...            ...     ...  \n",
       "81268                  5.800000               0.000063           Good      -1  \n",
       "81269                  6.063094               0.000000          Great      -1  \n",
       "81270                  6.063094               0.000000          Great      -1  \n",
       "81271                  6.063094               0.000000          Great      -1  \n",
       "81272                  1.000000               0.000004           Good      -1  \n",
       "\n",
       "[19695 rows x 21 columns]"
      ]
     },
     "execution_count": 54,
     "metadata": {},
     "output_type": "execute_result"
    }
   ],
   "source": [
    "mr[mr['outlier']==-1]"
   ]
  },
  {
   "cell_type": "code",
   "execution_count": 55,
   "metadata": {},
   "outputs": [
    {
     "data": {
      "text/plain": [
       "(61578, 21)"
      ]
     },
     "execution_count": 55,
     "metadata": {},
     "output_type": "execute_result"
    }
   ],
   "source": [
    "movies_ratings = mr[mr['outlier'] != -1]\n",
    "movies_ratings.shape"
   ]
  },
  {
   "cell_type": "markdown",
   "metadata": {},
   "source": [
    "Os boxplots dos atributos de média e votos ainda mostram outliers. Pela própria distribuição das colunas de votos eu considero que não vale a pena mexer mais neles, principalmente porque não erros nos dados. \n",
    "Já os atributos de média, como vou precisar deles para fazeros testes de hipóteses, eu ainda preciso remover os outliers e irei fazer isso de forma univariada para cada um utilizando o método de tukey, já que eles seguem uma distribuição razoavelmente normal."
   ]
  },
  {
   "cell_type": "code",
   "execution_count": 56,
   "metadata": {},
   "outputs": [
    {
     "data": {
      "image/png": "[encoded data removed]",
      "text/plain": [
       "<Figure size 1080x720 with 1 Axes>"
      ]
     },
     "metadata": {},
     "output_type": "display_data"
    }
   ],
   "source": [
    "plt.figure(figsize=(15,10))\n",
    "sea.boxplot(data= movies_ratings[['avg_vote', 'males_allages_avg_vote', 'females_allages_avg_vote']])\n",
    "plt.show()"
   ]
  },
  {
   "cell_type": "code",
   "execution_count": 63,
   "metadata": {},
   "outputs": [
    {
     "data": {
      "image/png": "[encoded data removed]",
      "text/plain": [
       "<Figure size 1080x720 with 1 Axes>"
      ]
     },
     "metadata": {},
     "output_type": "display_data"
    }
   ],
   "source": [
    "plt.figure(figsize=(15,10))\n",
    "sea.boxplot(data= movies_ratings[['votes', 'males_allages_votes', 'females_allages_votes']])\n",
    "plt.show()"
   ]
  },
  {
   "cell_type": "code",
   "execution_count": 57,
   "metadata": {},
   "outputs": [
    {
     "data": {
      "text/plain": [
       "<AxesSubplot:>"
      ]
     },
     "execution_count": 57,
     "metadata": {},
     "output_type": "execute_result"
    },
    {
     "data": {
      "image/png": "[encoded data removed]",
      "text/plain": [
       "<Figure size 432x288 with 1 Axes>"
      ]
     },
     "metadata": {},
     "output_type": "display_data"
    }
   ],
   "source": [
    "movies_ratings['avg_vote'].hist()"
   ]
  },
  {
   "cell_type": "code",
   "execution_count": 62,
   "metadata": {},
   "outputs": [
    {
     "data": {
      "text/plain": [
       "<AxesSubplot:>"
      ]
     },
     "execution_count": 62,
     "metadata": {},
     "output_type": "execute_result"
    },
    {
     "data": {
      "image/png": "[encoded data removed]",
      "text/plain": [
       "<Figure size 432x288 with 1 Axes>"
      ]
     },
     "metadata": {},
     "output_type": "display_data"
    }
   ],
   "source": [
    "movies_ratings['females_allages_avg_vote'].hist()"
   ]
  },
  {
   "cell_type": "code",
   "execution_count": 59,
   "metadata": {},
   "outputs": [
    {
     "data": {
      "text/plain": [
       "<AxesSubplot:>"
      ]
     },
     "execution_count": 59,
     "metadata": {},
     "output_type": "execute_result"
    },
    {
     "data": {
      "image/png": "[encoded data removed]",
      "text/plain": [
       "<Figure size 432x288 with 1 Axes>"
      ]
     },
     "metadata": {},
     "output_type": "display_data"
    }
   ],
   "source": [
    "movies_ratings['males_allages_avg_vote'].hist()"
   ]
  },
  {
   "cell_type": "code",
   "execution_count": 64,
   "metadata": {},
   "outputs": [
    {
     "name": "stdout",
     "output_type": "stream",
     "text": [
      "1.2000000000000002\n"
     ]
    }
   ],
   "source": [
    "#método de tukey\n",
    "q1 = movies_ratings['avg_vote'].quantile(q=0.25)\n",
    "q3 = movies_ratings['avg_vote'].quantile(q=0.75)\n",
    "iqr = q3 - q1\n",
    "print(iqr)\n"
   ]
  },
  {
   "cell_type": "code",
   "execution_count": 65,
   "metadata": {},
   "outputs": [
    {
     "data": {
      "text/html": [
       "<div>\n",
       "<style scoped>\n",
       "    .dataframe tbody tr th:only-of-type {\n",
       "        vertical-align: middle;\n",
       "    }\n",
       "\n",
       "    .dataframe tbody tr th {\n",
       "        vertical-align: top;\n",
       "    }\n",
       "\n",
       "    .dataframe thead th {\n",
       "        text-align: right;\n",
       "    }\n",
       "</style>\n",
       "<table border=\"1\" class=\"dataframe\">\n",
       "  <thead>\n",
       "    <tr style=\"text-align: right;\">\n",
       "      <th></th>\n",
       "      <th>imdb_title_id</th>\n",
       "      <th>title</th>\n",
       "      <th>year</th>\n",
       "      <th>genre</th>\n",
       "      <th>duration</th>\n",
       "      <th>country</th>\n",
       "      <th>language</th>\n",
       "      <th>director</th>\n",
       "      <th>writer</th>\n",
       "      <th>production_company</th>\n",
       "      <th>...</th>\n",
       "      <th>avg_vote</th>\n",
       "      <th>votes</th>\n",
       "      <th>mean_vote</th>\n",
       "      <th>median_vote</th>\n",
       "      <th>males_allages_avg_vote</th>\n",
       "      <th>males_allages_votes</th>\n",
       "      <th>females_allages_avg_vote</th>\n",
       "      <th>females_allages_votes</th>\n",
       "      <th>avg_vote_disc</th>\n",
       "      <th>outlier</th>\n",
       "    </tr>\n",
       "  </thead>\n",
       "  <tbody>\n",
       "    <tr>\n",
       "      <th>13570</th>\n",
       "      <td>tt0064726</td>\n",
       "      <td>Night of Bloody Horror</td>\n",
       "      <td>1969</td>\n",
       "      <td>Horror</td>\n",
       "      <td>89</td>\n",
       "      <td>USA</td>\n",
       "      <td>English</td>\n",
       "      <td>Joy N. Houck Jr.</td>\n",
       "      <td>Joy N. Houck Jr., Robert A. Weaver</td>\n",
       "      <td>Cinema IV</td>\n",
       "      <td>...</td>\n",
       "      <td>3.6</td>\n",
       "      <td>1.018741e-04</td>\n",
       "      <td>4.0</td>\n",
       "      <td>4.0</td>\n",
       "      <td>3.5</td>\n",
       "      <td>0.000158</td>\n",
       "      <td>3.8</td>\n",
       "      <td>0.000107</td>\n",
       "      <td>Medium</td>\n",
       "      <td>1</td>\n",
       "    </tr>\n",
       "    <tr>\n",
       "      <th>14745</th>\n",
       "      <td>tt0068172</td>\n",
       "      <td>The Adult Version of Jekyll &amp; Hide</td>\n",
       "      <td>1972</td>\n",
       "      <td>Sci-Fi, Horror</td>\n",
       "      <td>92</td>\n",
       "      <td>USA</td>\n",
       "      <td>English</td>\n",
       "      <td>Lee Raymond</td>\n",
       "      <td>Robert Birch</td>\n",
       "      <td>El-Monde Productions</td>\n",
       "      <td>...</td>\n",
       "      <td>3.6</td>\n",
       "      <td>4.538027e-05</td>\n",
       "      <td>4.2</td>\n",
       "      <td>4.0</td>\n",
       "      <td>3.6</td>\n",
       "      <td>0.000104</td>\n",
       "      <td>3.5</td>\n",
       "      <td>0.000019</td>\n",
       "      <td>Medium</td>\n",
       "      <td>1</td>\n",
       "    </tr>\n",
       "    <tr>\n",
       "      <th>17937</th>\n",
       "      <td>tt0077987</td>\n",
       "      <td>Nicole</td>\n",
       "      <td>1976</td>\n",
       "      <td>Drama</td>\n",
       "      <td>91</td>\n",
       "      <td>USA</td>\n",
       "      <td>English</td>\n",
       "      <td>István Ventilla</td>\n",
       "      <td>István Ventilla, Louis Horvath</td>\n",
       "      <td>Zephyr</td>\n",
       "      <td>...</td>\n",
       "      <td>3.4</td>\n",
       "      <td>1.852256e-06</td>\n",
       "      <td>4.3</td>\n",
       "      <td>4.0</td>\n",
       "      <td>3.4</td>\n",
       "      <td>0.000051</td>\n",
       "      <td>9.0</td>\n",
       "      <td>0.000015</td>\n",
       "      <td>Medium</td>\n",
       "      <td>1</td>\n",
       "    </tr>\n",
       "    <tr>\n",
       "      <th>18416</th>\n",
       "      <td>tt0079626</td>\n",
       "      <td>Night Creature</td>\n",
       "      <td>1978</td>\n",
       "      <td>Adventure, Horror, Thriller</td>\n",
       "      <td>83</td>\n",
       "      <td>USA</td>\n",
       "      <td>English</td>\n",
       "      <td>Lee Madden</td>\n",
       "      <td>Lee Madden, Hugh Smith</td>\n",
       "      <td>Lee Madden Associates</td>\n",
       "      <td>...</td>\n",
       "      <td>3.6</td>\n",
       "      <td>4.399107e-05</td>\n",
       "      <td>3.9</td>\n",
       "      <td>4.0</td>\n",
       "      <td>3.6</td>\n",
       "      <td>0.000094</td>\n",
       "      <td>5.4</td>\n",
       "      <td>0.000052</td>\n",
       "      <td>Medium</td>\n",
       "      <td>1</td>\n",
       "    </tr>\n",
       "    <tr>\n",
       "      <th>19322</th>\n",
       "      <td>tt0082620</td>\n",
       "      <td>Kiss Daddy Goodbye</td>\n",
       "      <td>1981</td>\n",
       "      <td>Horror</td>\n",
       "      <td>92</td>\n",
       "      <td>USA</td>\n",
       "      <td>English</td>\n",
       "      <td>Patrick Regan</td>\n",
       "      <td>Alain Silver, Patrick Regan</td>\n",
       "      <td>Pendragon Film</td>\n",
       "      <td>...</td>\n",
       "      <td>3.6</td>\n",
       "      <td>6.343976e-05</td>\n",
       "      <td>4.1</td>\n",
       "      <td>3.0</td>\n",
       "      <td>3.5</td>\n",
       "      <td>0.000124</td>\n",
       "      <td>3.9</td>\n",
       "      <td>0.000070</td>\n",
       "      <td>Medium</td>\n",
       "      <td>1</td>\n",
       "    </tr>\n",
       "    <tr>\n",
       "      <th>...</th>\n",
       "      <td>...</td>\n",
       "      <td>...</td>\n",
       "      <td>...</td>\n",
       "      <td>...</td>\n",
       "      <td>...</td>\n",
       "      <td>...</td>\n",
       "      <td>...</td>\n",
       "      <td>...</td>\n",
       "      <td>...</td>\n",
       "      <td>...</td>\n",
       "      <td>...</td>\n",
       "      <td>...</td>\n",
       "      <td>...</td>\n",
       "      <td>...</td>\n",
       "      <td>...</td>\n",
       "      <td>...</td>\n",
       "      <td>...</td>\n",
       "      <td>...</td>\n",
       "      <td>...</td>\n",
       "      <td>...</td>\n",
       "      <td>...</td>\n",
       "    </tr>\n",
       "    <tr>\n",
       "      <th>79919</th>\n",
       "      <td>tt8031130</td>\n",
       "      <td>Shadow Wolves</td>\n",
       "      <td>2019</td>\n",
       "      <td>Action, Adventure, Thriller</td>\n",
       "      <td>95</td>\n",
       "      <td>USA, UK</td>\n",
       "      <td>English</td>\n",
       "      <td>McKay Daines</td>\n",
       "      <td>McKay Daines</td>\n",
       "      <td>Caedmon Entertainment</td>\n",
       "      <td>...</td>\n",
       "      <td>3.5</td>\n",
       "      <td>9.724343e-06</td>\n",
       "      <td>4.3</td>\n",
       "      <td>4.0</td>\n",
       "      <td>3.5</td>\n",
       "      <td>0.000060</td>\n",
       "      <td>5.1</td>\n",
       "      <td>0.000041</td>\n",
       "      <td>Medium</td>\n",
       "      <td>1</td>\n",
       "    </tr>\n",
       "    <tr>\n",
       "      <th>80408</th>\n",
       "      <td>tt8483812</td>\n",
       "      <td>Mocking Of Christ</td>\n",
       "      <td>2018</td>\n",
       "      <td>Drama</td>\n",
       "      <td>152</td>\n",
       "      <td>Republic of Macedonia, Greece, France</td>\n",
       "      <td>Macedonian</td>\n",
       "      <td>Jani Bojadzi</td>\n",
       "      <td>Jani Bojadzi</td>\n",
       "      <td>Candela</td>\n",
       "      <td>...</td>\n",
       "      <td>3.6</td>\n",
       "      <td>3.334060e-05</td>\n",
       "      <td>7.1</td>\n",
       "      <td>10.0</td>\n",
       "      <td>6.0</td>\n",
       "      <td>0.000060</td>\n",
       "      <td>5.6</td>\n",
       "      <td>0.000082</td>\n",
       "      <td>Medium</td>\n",
       "      <td>1</td>\n",
       "    </tr>\n",
       "    <tr>\n",
       "      <th>80478</th>\n",
       "      <td>tt8554826</td>\n",
       "      <td>Cheat the Hangman</td>\n",
       "      <td>2018</td>\n",
       "      <td>Drama, Western</td>\n",
       "      <td>88</td>\n",
       "      <td>USA</td>\n",
       "      <td>English</td>\n",
       "      <td>Christopher Forbes</td>\n",
       "      <td>Jezibell Anat, Christopher Forbes</td>\n",
       "      <td>ITN Films</td>\n",
       "      <td>...</td>\n",
       "      <td>3.4</td>\n",
       "      <td>9.261279e-07</td>\n",
       "      <td>5.5</td>\n",
       "      <td>5.0</td>\n",
       "      <td>2.6</td>\n",
       "      <td>0.000031</td>\n",
       "      <td>5.2</td>\n",
       "      <td>0.000026</td>\n",
       "      <td>Medium</td>\n",
       "      <td>1</td>\n",
       "    </tr>\n",
       "    <tr>\n",
       "      <th>80734</th>\n",
       "      <td>tt8861786</td>\n",
       "      <td>Puppy Star Christmas</td>\n",
       "      <td>2018</td>\n",
       "      <td>Family</td>\n",
       "      <td>91</td>\n",
       "      <td>USA</td>\n",
       "      <td>English</td>\n",
       "      <td>Robert Vince</td>\n",
       "      <td>Robert Vince, Piers Rae</td>\n",
       "      <td>Air Bud Entertainment</td>\n",
       "      <td>...</td>\n",
       "      <td>3.5</td>\n",
       "      <td>2.315320e-06</td>\n",
       "      <td>4.3</td>\n",
       "      <td>4.0</td>\n",
       "      <td>3.4</td>\n",
       "      <td>0.000042</td>\n",
       "      <td>4.4</td>\n",
       "      <td>0.000063</td>\n",
       "      <td>Medium</td>\n",
       "      <td>1</td>\n",
       "    </tr>\n",
       "    <tr>\n",
       "      <th>80748</th>\n",
       "      <td>tt8890230</td>\n",
       "      <td>Live</td>\n",
       "      <td>2018</td>\n",
       "      <td>Drama, Horror, Thriller</td>\n",
       "      <td>90</td>\n",
       "      <td>USA</td>\n",
       "      <td>English</td>\n",
       "      <td>Michael Greene</td>\n",
       "      <td>Michael Greene</td>\n",
       "      <td>Everyone Can Eat</td>\n",
       "      <td>...</td>\n",
       "      <td>3.6</td>\n",
       "      <td>1.296579e-05</td>\n",
       "      <td>4.7</td>\n",
       "      <td>4.0</td>\n",
       "      <td>3.4</td>\n",
       "      <td>0.000051</td>\n",
       "      <td>5.4</td>\n",
       "      <td>0.000078</td>\n",
       "      <td>Medium</td>\n",
       "      <td>1</td>\n",
       "    </tr>\n",
       "  </tbody>\n",
       "</table>\n",
       "<p>390 rows × 21 columns</p>\n",
       "</div>"
      ],
      "text/plain": [
       "      imdb_title_id                               title  year  \\\n",
       "13570     tt0064726              Night of Bloody Horror  1969   \n",
       "14745     tt0068172  The Adult Version of Jekyll & Hide  1972   \n",
       "17937     tt0077987                              Nicole  1976   \n",
       "18416     tt0079626                      Night Creature  1978   \n",
       "19322     tt0082620                  Kiss Daddy Goodbye  1981   \n",
       "...             ...                                 ...   ...   \n",
       "79919     tt8031130                       Shadow Wolves  2019   \n",
       "80408     tt8483812                   Mocking Of Christ  2018   \n",
       "80478     tt8554826                   Cheat the Hangman  2018   \n",
       "80734     tt8861786                Puppy Star Christmas  2018   \n",
       "80748     tt8890230                                Live  2018   \n",
       "\n",
       "                             genre  duration  \\\n",
       "13570                       Horror        89   \n",
       "14745               Sci-Fi, Horror        92   \n",
       "17937                        Drama        91   \n",
       "18416  Adventure, Horror, Thriller        83   \n",
       "19322                       Horror        92   \n",
       "...                            ...       ...   \n",
       "79919  Action, Adventure, Thriller        95   \n",
       "80408                        Drama       152   \n",
       "80478               Drama, Western        88   \n",
       "80734                       Family        91   \n",
       "80748      Drama, Horror, Thriller        90   \n",
       "\n",
       "                                     country    language            director  \\\n",
       "13570                                    USA     English    Joy N. Houck Jr.   \n",
       "14745                                    USA     English         Lee Raymond   \n",
       "17937                                    USA     English     István Ventilla   \n",
       "18416                                    USA     English          Lee Madden   \n",
       "19322                                    USA     English       Patrick Regan   \n",
       "...                                      ...         ...                 ...   \n",
       "79919                                USA, UK     English        McKay Daines   \n",
       "80408  Republic of Macedonia, Greece, France  Macedonian        Jani Bojadzi   \n",
       "80478                                    USA     English  Christopher Forbes   \n",
       "80734                                    USA     English        Robert Vince   \n",
       "80748                                    USA     English      Michael Greene   \n",
       "\n",
       "                                   writer     production_company  ...  \\\n",
       "13570  Joy N. Houck Jr., Robert A. Weaver              Cinema IV  ...   \n",
       "14745                        Robert Birch   El-Monde Productions  ...   \n",
       "17937      István Ventilla, Louis Horvath                 Zephyr  ...   \n",
       "18416              Lee Madden, Hugh Smith  Lee Madden Associates  ...   \n",
       "19322         Alain Silver, Patrick Regan         Pendragon Film  ...   \n",
       "...                                   ...                    ...  ...   \n",
       "79919                        McKay Daines  Caedmon Entertainment  ...   \n",
       "80408                        Jani Bojadzi                Candela  ...   \n",
       "80478   Jezibell Anat, Christopher Forbes              ITN Films  ...   \n",
       "80734             Robert Vince, Piers Rae  Air Bud Entertainment  ...   \n",
       "80748                      Michael Greene       Everyone Can Eat  ...   \n",
       "\n",
       "      avg_vote         votes  mean_vote  median_vote  males_allages_avg_vote  \\\n",
       "13570      3.6  1.018741e-04        4.0          4.0                     3.5   \n",
       "14745      3.6  4.538027e-05        4.2          4.0                     3.6   \n",
       "17937      3.4  1.852256e-06        4.3          4.0                     3.4   \n",
       "18416      3.6  4.399107e-05        3.9          4.0                     3.6   \n",
       "19322      3.6  6.343976e-05        4.1          3.0                     3.5   \n",
       "...        ...           ...        ...          ...                     ...   \n",
       "79919      3.5  9.724343e-06        4.3          4.0                     3.5   \n",
       "80408      3.6  3.334060e-05        7.1         10.0                     6.0   \n",
       "80478      3.4  9.261279e-07        5.5          5.0                     2.6   \n",
       "80734      3.5  2.315320e-06        4.3          4.0                     3.4   \n",
       "80748      3.6  1.296579e-05        4.7          4.0                     3.4   \n",
       "\n",
       "       males_allages_votes  females_allages_avg_vote  females_allages_votes  \\\n",
       "13570             0.000158                       3.8               0.000107   \n",
       "14745             0.000104                       3.5               0.000019   \n",
       "17937             0.000051                       9.0               0.000015   \n",
       "18416             0.000094                       5.4               0.000052   \n",
       "19322             0.000124                       3.9               0.000070   \n",
       "...                    ...                       ...                    ...   \n",
       "79919             0.000060                       5.1               0.000041   \n",
       "80408             0.000060                       5.6               0.000082   \n",
       "80478             0.000031                       5.2               0.000026   \n",
       "80734             0.000042                       4.4               0.000063   \n",
       "80748             0.000051                       5.4               0.000078   \n",
       "\n",
       "       avg_vote_disc outlier  \n",
       "13570         Medium       1  \n",
       "14745         Medium       1  \n",
       "17937         Medium       1  \n",
       "18416         Medium       1  \n",
       "19322         Medium       1  \n",
       "...              ...     ...  \n",
       "79919         Medium       1  \n",
       "80408         Medium       1  \n",
       "80478         Medium       1  \n",
       "80734         Medium       1  \n",
       "80748         Medium       1  \n",
       "\n",
       "[390 rows x 21 columns]"
      ]
     },
     "execution_count": 65,
     "metadata": {},
     "output_type": "execute_result"
    }
   ],
   "source": [
    "movies_ratings[movies_ratings['avg_vote'] < (q1-1.5*iqr)]"
   ]
  },
  {
   "cell_type": "code",
   "execution_count": 66,
   "metadata": {},
   "outputs": [
    {
     "data": {
      "text/html": [
       "<div>\n",
       "<style scoped>\n",
       "    .dataframe tbody tr th:only-of-type {\n",
       "        vertical-align: middle;\n",
       "    }\n",
       "\n",
       "    .dataframe tbody tr th {\n",
       "        vertical-align: top;\n",
       "    }\n",
       "\n",
       "    .dataframe thead th {\n",
       "        text-align: right;\n",
       "    }\n",
       "</style>\n",
       "<table border=\"1\" class=\"dataframe\">\n",
       "  <thead>\n",
       "    <tr style=\"text-align: right;\">\n",
       "      <th></th>\n",
       "      <th>imdb_title_id</th>\n",
       "      <th>title</th>\n",
       "      <th>year</th>\n",
       "      <th>genre</th>\n",
       "      <th>duration</th>\n",
       "      <th>country</th>\n",
       "      <th>language</th>\n",
       "      <th>director</th>\n",
       "      <th>writer</th>\n",
       "      <th>production_company</th>\n",
       "      <th>...</th>\n",
       "      <th>avg_vote</th>\n",
       "      <th>votes</th>\n",
       "      <th>mean_vote</th>\n",
       "      <th>median_vote</th>\n",
       "      <th>males_allages_avg_vote</th>\n",
       "      <th>males_allages_votes</th>\n",
       "      <th>females_allages_avg_vote</th>\n",
       "      <th>females_allages_votes</th>\n",
       "      <th>avg_vote_disc</th>\n",
       "      <th>outlier</th>\n",
       "    </tr>\n",
       "  </thead>\n",
       "  <tbody>\n",
       "  </tbody>\n",
       "</table>\n",
       "<p>0 rows × 21 columns</p>\n",
       "</div>"
      ],
      "text/plain": [
       "Empty DataFrame\n",
       "Columns: [imdb_title_id, title, year, genre, duration, country, language, director, writer, production_company, actors, avg_vote, votes, mean_vote, median_vote, males_allages_avg_vote, males_allages_votes, females_allages_avg_vote, females_allages_votes, avg_vote_disc, outlier]\n",
       "Index: []\n",
       "\n",
       "[0 rows x 21 columns]"
      ]
     },
     "execution_count": 66,
     "metadata": {},
     "output_type": "execute_result"
    }
   ],
   "source": [
    "movies_ratings[movies_ratings['avg_vote'] > (q3 + 1.5*iqr)]"
   ]
  },
  {
   "cell_type": "code",
   "execution_count": 67,
   "metadata": {},
   "outputs": [
    {
     "data": {
      "text/html": [
       "<div>\n",
       "<style scoped>\n",
       "    .dataframe tbody tr th:only-of-type {\n",
       "        vertical-align: middle;\n",
       "    }\n",
       "\n",
       "    .dataframe tbody tr th {\n",
       "        vertical-align: top;\n",
       "    }\n",
       "\n",
       "    .dataframe thead th {\n",
       "        text-align: right;\n",
       "    }\n",
       "</style>\n",
       "<table border=\"1\" class=\"dataframe\">\n",
       "  <thead>\n",
       "    <tr style=\"text-align: right;\">\n",
       "      <th></th>\n",
       "      <th>avg_vote</th>\n",
       "      <th>title</th>\n",
       "    </tr>\n",
       "  </thead>\n",
       "  <tbody>\n",
       "    <tr>\n",
       "      <th>64274</th>\n",
       "      <td>3.7</td>\n",
       "      <td>Bula Quo!</td>\n",
       "    </tr>\n",
       "    <tr>\n",
       "      <th>37553</th>\n",
       "      <td>3.7</td>\n",
       "      <td>Crocodile 2: Death Swamp</td>\n",
       "    </tr>\n",
       "    <tr>\n",
       "      <th>55172</th>\n",
       "      <td>3.7</td>\n",
       "      <td>Sovia</td>\n",
       "    </tr>\n",
       "    <tr>\n",
       "      <th>70507</th>\n",
       "      <td>3.7</td>\n",
       "      <td>Rey Gitano</td>\n",
       "    </tr>\n",
       "    <tr>\n",
       "      <th>50587</th>\n",
       "      <td>3.7</td>\n",
       "      <td>Minty: The Assassin</td>\n",
       "    </tr>\n",
       "    <tr>\n",
       "      <th>...</th>\n",
       "      <td>...</td>\n",
       "      <td>...</td>\n",
       "    </tr>\n",
       "    <tr>\n",
       "      <th>46108</th>\n",
       "      <td>8.1</td>\n",
       "      <td>Maha'lai muang rae</td>\n",
       "    </tr>\n",
       "    <tr>\n",
       "      <th>48577</th>\n",
       "      <td>8.1</td>\n",
       "      <td>Tatar Ramazan Sürgünde</td>\n",
       "    </tr>\n",
       "    <tr>\n",
       "      <th>42009</th>\n",
       "      <td>8.1</td>\n",
       "      <td>O vasilias</td>\n",
       "    </tr>\n",
       "    <tr>\n",
       "      <th>77274</th>\n",
       "      <td>8.2</td>\n",
       "      <td>Mr. Plinkett's Star Trek 2009 Review</td>\n",
       "    </tr>\n",
       "    <tr>\n",
       "      <th>78678</th>\n",
       "      <td>8.4</td>\n",
       "      <td>Philophobia</td>\n",
       "    </tr>\n",
       "  </tbody>\n",
       "</table>\n",
       "<p>61188 rows × 2 columns</p>\n",
       "</div>"
      ],
      "text/plain": [
       "       avg_vote                                 title\n",
       "64274       3.7                             Bula Quo!\n",
       "37553       3.7              Crocodile 2: Death Swamp\n",
       "55172       3.7                                 Sovia\n",
       "70507       3.7                            Rey Gitano\n",
       "50587       3.7                   Minty: The Assassin\n",
       "...         ...                                   ...\n",
       "46108       8.1                    Maha'lai muang rae\n",
       "48577       8.1                Tatar Ramazan Sürgünde\n",
       "42009       8.1                            O vasilias\n",
       "77274       8.2  Mr. Plinkett's Star Trek 2009 Review\n",
       "78678       8.4                           Philophobia\n",
       "\n",
       "[61188 rows x 2 columns]"
      ]
     },
     "execution_count": 67,
     "metadata": {},
     "output_type": "execute_result"
    }
   ],
   "source": [
    "movies_ratings = movies_ratings[(movies_ratings['avg_vote'] > (q1 - 1.5*iqr)) & (movies_ratings['avg_vote'] < (q3 + 1.5*iqr)) ]\n",
    "movies_ratings.sort_values(by='avg_vote')[['avg_vote', 'title']]"
   ]
  },
  {
   "cell_type": "code",
   "execution_count": 69,
   "metadata": {},
   "outputs": [
    {
     "data": {
      "text/plain": [
       "<AxesSubplot:>"
      ]
     },
     "execution_count": 69,
     "metadata": {},
     "output_type": "execute_result"
    },
    {
     "data": {
      "image/png": "[encoded data removed]",
      "text/plain": [
       "<Figure size 432x288 with 1 Axes>"
      ]
     },
     "metadata": {},
     "output_type": "display_data"
    }
   ],
   "source": [
    "movies_ratings['avg_vote'].plot.box()"
   ]
  },
  {
   "cell_type": "markdown",
   "metadata": {},
   "source": [
    "Agora para as mulheres"
   ]
  },
  {
   "cell_type": "code",
   "execution_count": 71,
   "metadata": {},
   "outputs": [
    {
     "data": {
      "text/plain": [
       "1.3000000000000007"
      ]
     },
     "execution_count": 71,
     "metadata": {},
     "output_type": "execute_result"
    }
   ],
   "source": [
    "q1 = movies_ratings['females_allages_avg_vote'].quantile(q=0.25)\n",
    "q3 = movies_ratings['females_allages_avg_vote'].quantile(q=0.75)\n",
    "iqr = q3 - q1\n",
    "iqr"
   ]
  },
  {
   "cell_type": "code",
   "execution_count": 73,
   "metadata": {},
   "outputs": [
    {
     "data": {
      "text/html": [
       "<div>\n",
       "<style scoped>\n",
       "    .dataframe tbody tr th:only-of-type {\n",
       "        vertical-align: middle;\n",
       "    }\n",
       "\n",
       "    .dataframe tbody tr th {\n",
       "        vertical-align: top;\n",
       "    }\n",
       "\n",
       "    .dataframe thead th {\n",
       "        text-align: right;\n",
       "    }\n",
       "</style>\n",
       "<table border=\"1\" class=\"dataframe\">\n",
       "  <thead>\n",
       "    <tr style=\"text-align: right;\">\n",
       "      <th></th>\n",
       "      <th>title</th>\n",
       "      <th>females_allages_avg_vote</th>\n",
       "    </tr>\n",
       "  </thead>\n",
       "  <tbody>\n",
       "    <tr>\n",
       "      <th>2683</th>\n",
       "      <td>Slave Ship</td>\n",
       "      <td>3.3</td>\n",
       "    </tr>\n",
       "    <tr>\n",
       "      <th>5874</th>\n",
       "      <td>Federal Agents vs. Underworld, Inc.</td>\n",
       "      <td>3.4</td>\n",
       "    </tr>\n",
       "    <tr>\n",
       "      <th>8263</th>\n",
       "      <td>Checkpoint</td>\n",
       "      <td>2.3</td>\n",
       "    </tr>\n",
       "    <tr>\n",
       "      <th>9700</th>\n",
       "      <td>Tenemos 18 años</td>\n",
       "      <td>2.5</td>\n",
       "    </tr>\n",
       "    <tr>\n",
       "      <th>11885</th>\n",
       "      <td>Every Day's a Holiday</td>\n",
       "      <td>2.8</td>\n",
       "    </tr>\n",
       "    <tr>\n",
       "      <th>...</th>\n",
       "      <td>...</td>\n",
       "      <td>...</td>\n",
       "    </tr>\n",
       "    <tr>\n",
       "      <th>80676</th>\n",
       "      <td>Mar Gaye Oye Loko</td>\n",
       "      <td>3.3</td>\n",
       "    </tr>\n",
       "    <tr>\n",
       "      <th>80808</th>\n",
       "      <td>Kodathi Samaksham Balan Vakeel</td>\n",
       "      <td>3.0</td>\n",
       "    </tr>\n",
       "    <tr>\n",
       "      <th>80962</th>\n",
       "      <td>Ittymaani: Made in China</td>\n",
       "      <td>2.4</td>\n",
       "    </tr>\n",
       "    <tr>\n",
       "      <th>81015</th>\n",
       "      <td>Miszmasz czyli Kogel Mogel 3</td>\n",
       "      <td>3.2</td>\n",
       "    </tr>\n",
       "    <tr>\n",
       "      <th>81224</th>\n",
       "      <td>Kanpuriye</td>\n",
       "      <td>3.3</td>\n",
       "    </tr>\n",
       "  </tbody>\n",
       "</table>\n",
       "<p>654 rows × 2 columns</p>\n",
       "</div>"
      ],
      "text/plain": [
       "                                     title  females_allages_avg_vote\n",
       "2683                            Slave Ship                       3.3\n",
       "5874   Federal Agents vs. Underworld, Inc.                       3.4\n",
       "8263                            Checkpoint                       2.3\n",
       "9700                       Tenemos 18 años                       2.5\n",
       "11885                Every Day's a Holiday                       2.8\n",
       "...                                    ...                       ...\n",
       "80676                    Mar Gaye Oye Loko                       3.3\n",
       "80808       Kodathi Samaksham Balan Vakeel                       3.0\n",
       "80962             Ittymaani: Made in China                       2.4\n",
       "81015         Miszmasz czyli Kogel Mogel 3                       3.2\n",
       "81224                            Kanpuriye                       3.3\n",
       "\n",
       "[654 rows x 2 columns]"
      ]
     },
     "execution_count": 73,
     "metadata": {},
     "output_type": "execute_result"
    }
   ],
   "source": [
    "movies_ratings[movies_ratings['females_allages_avg_vote'] < (q1-1.5*iqr)][['title', 'females_allages_avg_vote']]"
   ]
  },
  {
   "cell_type": "code",
   "execution_count": 74,
   "metadata": {},
   "outputs": [
    {
     "data": {
      "text/html": [
       "<div>\n",
       "<style scoped>\n",
       "    .dataframe tbody tr th:only-of-type {\n",
       "        vertical-align: middle;\n",
       "    }\n",
       "\n",
       "    .dataframe tbody tr th {\n",
       "        vertical-align: top;\n",
       "    }\n",
       "\n",
       "    .dataframe thead th {\n",
       "        text-align: right;\n",
       "    }\n",
       "</style>\n",
       "<table border=\"1\" class=\"dataframe\">\n",
       "  <thead>\n",
       "    <tr style=\"text-align: right;\">\n",
       "      <th></th>\n",
       "      <th>title</th>\n",
       "      <th>females_allages_avg_vote</th>\n",
       "    </tr>\n",
       "  </thead>\n",
       "  <tbody>\n",
       "    <tr>\n",
       "      <th>5716</th>\n",
       "      <td>Sinister Journey</td>\n",
       "      <td>9.0</td>\n",
       "    </tr>\n",
       "    <tr>\n",
       "      <th>6651</th>\n",
       "      <td>New Mexico</td>\n",
       "      <td>10.0</td>\n",
       "    </tr>\n",
       "    <tr>\n",
       "      <th>7288</th>\n",
       "      <td>Jack Slade</td>\n",
       "      <td>9.8</td>\n",
       "    </tr>\n",
       "    <tr>\n",
       "      <th>8472</th>\n",
       "      <td>Si tous les gars du monde...</td>\n",
       "      <td>9.0</td>\n",
       "    </tr>\n",
       "    <tr>\n",
       "      <th>9909</th>\n",
       "      <td>Kemono no nemuri</td>\n",
       "      <td>10.0</td>\n",
       "    </tr>\n",
       "    <tr>\n",
       "      <th>...</th>\n",
       "      <td>...</td>\n",
       "      <td>...</td>\n",
       "    </tr>\n",
       "    <tr>\n",
       "      <th>80040</th>\n",
       "      <td>Last American Horror Show</td>\n",
       "      <td>9.0</td>\n",
       "    </tr>\n",
       "    <tr>\n",
       "      <th>80383</th>\n",
       "      <td>Pet Graveyard</td>\n",
       "      <td>9.0</td>\n",
       "    </tr>\n",
       "    <tr>\n",
       "      <th>80524</th>\n",
       "      <td>Kidu</td>\n",
       "      <td>10.0</td>\n",
       "    </tr>\n",
       "    <tr>\n",
       "      <th>81169</th>\n",
       "      <td>Natpe Thunai</td>\n",
       "      <td>9.5</td>\n",
       "    </tr>\n",
       "    <tr>\n",
       "      <th>81261</th>\n",
       "      <td>Subharathri</td>\n",
       "      <td>10.0</td>\n",
       "    </tr>\n",
       "  </tbody>\n",
       "</table>\n",
       "<p>154 rows × 2 columns</p>\n",
       "</div>"
      ],
      "text/plain": [
       "                              title  females_allages_avg_vote\n",
       "5716               Sinister Journey                       9.0\n",
       "6651                     New Mexico                      10.0\n",
       "7288                     Jack Slade                       9.8\n",
       "8472   Si tous les gars du monde...                       9.0\n",
       "9909               Kemono no nemuri                      10.0\n",
       "...                             ...                       ...\n",
       "80040     Last American Horror Show                       9.0\n",
       "80383                 Pet Graveyard                       9.0\n",
       "80524                          Kidu                      10.0\n",
       "81169                  Natpe Thunai                       9.5\n",
       "81261                   Subharathri                      10.0\n",
       "\n",
       "[154 rows x 2 columns]"
      ]
     },
     "execution_count": 74,
     "metadata": {},
     "output_type": "execute_result"
    }
   ],
   "source": [
    "movies_ratings[movies_ratings['females_allages_avg_vote'] > (q3 + 1.5*iqr)][['title', 'females_allages_avg_vote']]"
   ]
  },
  {
   "cell_type": "code",
   "execution_count": 75,
   "metadata": {},
   "outputs": [
    {
     "data": {
      "text/plain": [
       "60380"
      ]
     },
     "execution_count": 75,
     "metadata": {},
     "output_type": "execute_result"
    }
   ],
   "source": [
    "movies_ratings = movies_ratings[(movies_ratings['females_allages_avg_vote'] > (q1-1.5*iqr)) & (movies_ratings['females_allages_avg_vote'] < (q3+1.5*iqr))]\n",
    "len(movies_ratings)"
   ]
  },
  {
   "cell_type": "code",
   "execution_count": 79,
   "metadata": {},
   "outputs": [
    {
     "data": {
      "text/plain": [
       "<AxesSubplot:>"
      ]
     },
     "execution_count": 79,
     "metadata": {},
     "output_type": "execute_result"
    },
    {
     "data": {
      "image/png": "[encoded data removed]",
      "text/plain": [
       "<Figure size 432x288 with 1 Axes>"
      ]
     },
     "metadata": {},
     "output_type": "display_data"
    }
   ],
   "source": [
    "movies_ratings['females_allages_avg_vote'].plot.box()\n"
   ]
  },
  {
   "cell_type": "markdown",
   "metadata": {},
   "source": [
    "Ainda sobraram alguns outliers então vou repetir o processo"
   ]
  },
  {
   "cell_type": "code",
   "execution_count": 62,
   "metadata": {},
   "outputs": [
    {
     "data": {
      "text/plain": [
       "<AxesSubplot:>"
      ]
     },
     "execution_count": 62,
     "metadata": {},
     "output_type": "execute_result"
    },
    {
     "data": {
      "image/png": "[encoded data removed]",
      "text/plain": [
       "<Figure size 432x288 with 1 Axes>"
      ]
     },
     "metadata": {},
     "output_type": "display_data"
    }
   ],
   "source": [
    "movies_ratings['females_allages_avg_vote'].hist()"
   ]
  },
  {
   "cell_type": "code",
   "execution_count": 88,
   "metadata": {},
   "outputs": [
    {
     "data": {
      "text/plain": [
       "1.2000000000000002"
      ]
     },
     "execution_count": 88,
     "metadata": {},
     "output_type": "execute_result"
    }
   ],
   "source": [
    "q1 = movies_ratings['females_allages_avg_vote'].quantile(q=0.25)\n",
    "q3 = movies_ratings['females_allages_avg_vote'].quantile(q=0.75)\n",
    "iqr = q3 - q1\n",
    "iqr"
   ]
  },
  {
   "cell_type": "code",
   "execution_count": 90,
   "metadata": {},
   "outputs": [
    {
     "data": {
      "text/plain": [
       "59537"
      ]
     },
     "execution_count": 90,
     "metadata": {},
     "output_type": "execute_result"
    }
   ],
   "source": [
    "movies_ratings = movies_ratings[(movies_ratings['females_allages_avg_vote'] > (q1-1.5*iqr)) & (movies_ratings['females_allages_avg_vote'] < (q3+1.5*iqr))]\n",
    "len(movies_ratings)"
   ]
  },
  {
   "cell_type": "code",
   "execution_count": 91,
   "metadata": {},
   "outputs": [
    {
     "data": {
      "text/plain": [
       "<AxesSubplot:>"
      ]
     },
     "execution_count": 91,
     "metadata": {},
     "output_type": "execute_result"
    },
    {
     "data": {
      "image/png": "[encoded data removed]",
      "text/plain": [
       "<Figure size 432x288 with 1 Axes>"
      ]
     },
     "metadata": {},
     "output_type": "display_data"
    }
   ],
   "source": [
    "movies_ratings['females_allages_avg_vote'].plot.box()"
   ]
  },
  {
   "cell_type": "markdown",
   "metadata": {},
   "source": [
    "Agora para os homens"
   ]
  },
  {
   "cell_type": "code",
   "execution_count": 92,
   "metadata": {},
   "outputs": [
    {
     "data": {
      "text/plain": [
       "1.2000000000000002"
      ]
     },
     "execution_count": 92,
     "metadata": {},
     "output_type": "execute_result"
    }
   ],
   "source": [
    "q1 = movies_ratings['males_allages_avg_vote'].quantile(q=0.25)\n",
    "q3 = movies_ratings['males_allages_avg_vote'].quantile(q=0.75)\n",
    "iqr = q3 - q1\n",
    "iqr"
   ]
  },
  {
   "cell_type": "code",
   "execution_count": 93,
   "metadata": {},
   "outputs": [
    {
     "data": {
      "text/plain": [
       "59537"
      ]
     },
     "execution_count": 93,
     "metadata": {},
     "output_type": "execute_result"
    }
   ],
   "source": [
    "movies_ratings = movies_ratings[(movies_ratings['males_allages_avg_vote'] > (q1-1.5*iqr)) & (movies_ratings['males_allages_avg_vote'] < (q3+1.5*iqr))]\n",
    "len(movies_ratings)"
   ]
  },
  {
   "cell_type": "code",
   "execution_count": 94,
   "metadata": {},
   "outputs": [
    {
     "data": {
      "text/plain": [
       "<AxesSubplot:>"
      ]
     },
     "execution_count": 94,
     "metadata": {},
     "output_type": "execute_result"
    },
    {
     "data": {
      "image/png": "[encoded data removed]",
      "text/plain": [
       "<Figure size 432x288 with 1 Axes>"
      ]
     },
     "metadata": {},
     "output_type": "display_data"
    }
   ],
   "source": [
    "movies_ratings['males_allages_avg_vote'].plot.box()"
   ]
  },
  {
   "cell_type": "markdown",
   "metadata": {},
   "source": [
    "## Visualização de dados\n"
   ]
  },
  {
   "cell_type": "code",
   "execution_count": 95,
   "metadata": {},
   "outputs": [
    {
     "data": {
      "image/png": "[encoded data removed]",
      "text/plain": [
       "<Figure size 1080x720 with 1 Axes>"
      ]
     },
     "metadata": {},
     "output_type": "display_data"
    }
   ],
   "source": [
    "#distribuição de filmes lançados ao longo dos anos \n",
    "plt.figure(figsize=(15, 10))\n",
    "plt.hist(movies_ratings['year'], bins=100)\n",
    "plt.show()"
   ]
  },
  {
   "cell_type": "code",
   "execution_count": 96,
   "metadata": {},
   "outputs": [
    {
     "data": {
      "text/plain": [
       "Drama          19442\n",
       "Comedy         18090\n",
       "Action          6548\n",
       "Crime           4176\n",
       "Horror          2399\n",
       "Adventure       2309\n",
       "Biography       1441\n",
       "Animation       1395\n",
       "Thriller         892\n",
       "Romance          554\n",
       "Western          494\n",
       "Family           483\n",
       "Mystery          403\n",
       "Fantasy          298\n",
       "Musical          230\n",
       "Sci-Fi           186\n",
       "War               60\n",
       "History           55\n",
       "Music             48\n",
       "Film-Noir         23\n",
       "Sport              9\n",
       "Documentary        2\n",
       "Name: first_genre, dtype: int64"
      ]
     },
     "execution_count": 96,
     "metadata": {},
     "output_type": "execute_result"
    }
   ],
   "source": [
    "#média dos ratings dos filmes em relação ao gênero\n",
    "\n",
    "#peguei só o primeiro gênero de cada filme para comparar\n",
    "\n",
    "movies_ratings['first_genre'] = movies.genre.str.split(',').str[0]\n",
    "movies_ratings.first_genre.value_counts()"
   ]
  },
  {
   "cell_type": "code",
   "execution_count": 97,
   "metadata": {},
   "outputs": [
    {
     "data": {
      "image/png": "[encoded data removed]",
      "text/plain": [
       "<Figure size 1080x720 with 1 Axes>"
      ]
     },
     "metadata": {},
     "output_type": "display_data"
    }
   ],
   "source": [
    "most_popular_genres = movies_ratings.first_genre.value_counts()[:10]\n",
    "#barplot dos 10 gêneros mais populares\n",
    "plt.figure(figsize=(15, 10))\n",
    "sea.set_theme(style=\"whitegrid\")\n",
    "sea.barplot(x= most_popular_genres.values, y =most_popular_genres.index)\n",
    "plt.show()\n"
   ]
  },
  {
   "cell_type": "markdown",
   "metadata": {},
   "source": [
    "Eu achei estranho o gênero romance estar tão abaixo nos números, o que pode significar que somente o primeiro gênero não seja o suficiente para definir a temática do filme, então decidir pegar os dois primeiros gêneros, mais do que isso geraria um subconjuntos demais."
   ]
  },
  {
   "cell_type": "code",
   "execution_count": 100,
   "metadata": {},
   "outputs": [],
   "source": [
    "try:\n",
    "    movies_ratings['genre_subset'] = list(map(\",\".join, movies_ratings.genre.str.split(',').str[:2]))\n",
    "except:\n",
    "    movies_ratings['genre_subset'] = movies_ratings.genre.str.split(',').str[0]\n",
    "       \n"
   ]
  },
  {
   "cell_type": "code",
   "execution_count": 101,
   "metadata": {},
   "outputs": [
    {
     "data": {
      "image/png": "[encoded data removed]",
      "text/plain": [
       "<Figure size 1440x720 with 1 Axes>"
      ]
     },
     "metadata": {},
     "output_type": "display_data"
    }
   ],
   "source": [
    "most_popular_genres = movies_ratings.genre_subset.value_counts()[:10]\n",
    "#barplot dos 10 gêneros mais populares\n",
    "plt.figure(figsize=(20, 10))\n",
    "sea.set_theme(style=\"whitegrid\")\n",
    "sea.barplot(x= most_popular_genres.values, y =most_popular_genres.index)\n",
    "plt.show()"
   ]
  },
  {
   "cell_type": "markdown",
   "metadata": {},
   "source": [
    "Agora parece mais significativo, mostrando comédias românticas e comédias drámaticas, entre outros como gêneros populares\n"
   ]
  },
  {
   "cell_type": "markdown",
   "metadata": {},
   "source": [
    "Abaixo mais dez subconjuntos de gêneros populares completando 20 ao todo.\n"
   ]
  },
  {
   "cell_type": "code",
   "execution_count": 102,
   "metadata": {},
   "outputs": [
    {
     "data": {
      "image/png": "[encoded data removed]",
      "text/plain": [
       "<Figure size 1440x720 with 1 Axes>"
      ]
     },
     "metadata": {},
     "output_type": "display_data"
    }
   ],
   "source": [
    "less_popular_genres = movies_ratings.genre_subset.value_counts()[10:20]\n",
    "#barplot dos 10 gêneros mais populares\n",
    "plt.figure(figsize=(20, 10))\n",
    "sea.set_theme(style=\"whitegrid\")\n",
    "sea.barplot(x= less_popular_genres.values, y =less_popular_genres.index)\n",
    "plt.show()"
   ]
  },
  {
   "cell_type": "code",
   "execution_count": 103,
   "metadata": {},
   "outputs": [
    {
     "data": {
      "text/plain": [
       "<Figure size 1080x720 with 0 Axes>"
      ]
     },
     "metadata": {},
     "output_type": "display_data"
    },
    {
     "data": {
      "image/png": "[encoded data removed]",
      "text/plain": [
       "<Figure size 1440x720 with 1 Axes>"
      ]
     },
     "metadata": {},
     "output_type": "display_data"
    }
   ],
   "source": [
    "# O boxen é um tipo diferente de boxplot, mostra melhor como é a distribuição entre os quartis\n",
    "top_genres = list(most_popular_genres.index)\n",
    "df1 = movies_ratings[movies_ratings.genre_subset.isin(top_genres)]\n",
    "plt.figure(figsize=(15,10))\n",
    "sea.catplot(x='genre_subset', y = 'avg_vote', kind='boxen',height=10, aspect=2, data = df1)\n",
    "plt.show()"
   ]
  },
  {
   "cell_type": "code",
   "execution_count": 104,
   "metadata": {},
   "outputs": [
    {
     "data": {
      "text/plain": [
       "<Figure size 1080x720 with 0 Axes>"
      ]
     },
     "metadata": {},
     "output_type": "display_data"
    },
    {
     "data": {
      "image/png": "[encoded data removed]",
      "text/plain": [
       "<Figure size 1440x720 with 1 Axes>"
      ]
     },
     "metadata": {},
     "output_type": "display_data"
    }
   ],
   "source": [
    "bottom_genres = list(less_popular_genres.index)\n",
    "df2 = movies_ratings[movies_ratings.genre_subset.isin(bottom_genres)]\n",
    "plt.figure(figsize=(15,10))\n",
    "sea.catplot(x='genre_subset', y = 'avg_vote', kind='boxen',height=10, aspect=2, data = df2)\n",
    "plt.show()"
   ]
  },
  {
   "cell_type": "code",
   "execution_count": 111,
   "metadata": {},
   "outputs": [],
   "source": [
    "df1 = movies_ratings[movies_ratings.genre_subset.isin(top_genres)]"
   ]
  },
  {
   "cell_type": "code",
   "execution_count": 113,
   "metadata": {},
   "outputs": [
    {
     "data": {
      "text/plain": [
       "<seaborn.axisgrid.FacetGrid at 0x7fdcb5a85400>"
      ]
     },
     "execution_count": 113,
     "metadata": {},
     "output_type": "execute_result"
    },
    {
     "data": {
      "image/png": "[encoded data removed]",
      "text/plain": [
       "<Figure size 863.475x720 with 1 Axes>"
      ]
     },
     "metadata": {},
     "output_type": "display_data"
    }
   ],
   "source": [
    "sea.displot(df1, x='year', hue = 'genre_subset', kind='kde', height=10)"
   ]
  },
  {
   "cell_type": "code",
   "execution_count": 116,
   "metadata": {},
   "outputs": [
    {
     "data": {
      "text/plain": [
       "<seaborn.axisgrid.FacetGrid at 0x7fdcb5d078d0>"
      ]
     },
     "execution_count": 116,
     "metadata": {},
     "output_type": "execute_result"
    },
    {
     "data": {
      "image/png": "[encoded data removed]",
      "text/plain": [
       "<Figure size 360x360 with 1 Axes>"
      ]
     },
     "metadata": {},
     "output_type": "display_data"
    }
   ],
   "source": [
    "brasileiros = movies[movies.country.str.match(\"^Brazil\\.*\", na=False)]\n",
    "\n",
    "sea.displot(brasileiros, x='avg_vote', kind='kde')"
   ]
  },
  {
   "cell_type": "code",
   "execution_count": 118,
   "metadata": {},
   "outputs": [
    {
     "data": {
      "text/plain": [
       "array([[<AxesSubplot:title={'center':'year'}>]], dtype=object)"
      ]
     },
     "execution_count": 118,
     "metadata": {},
     "output_type": "execute_result"
    },
    {
     "data": {
      "image/png": "[encoded data removed]",
      "text/plain": [
       "<Figure size 432x288 with 1 Axes>"
      ]
     },
     "metadata": {},
     "output_type": "display_data"
    }
   ],
   "source": [
    "brasileiros.hist('year', bins=100)"
   ]
  },
  {
   "cell_type": "markdown",
   "metadata": {},
   "source": [
    "## Testes de Hipótese\n"
   ]
  },
  {
   "cell_type": "markdown",
   "metadata": {},
   "source": [
    "1º Teste: Comparar média dos votos de homens e mulheres \n"
   ]
  },
  {
   "cell_type": "markdown",
   "metadata": {},
   "source": [
    "É um teste pareado, eu vou pegar a mesma amostra em situações diferentes: médias dos votos de homens e mulheres.\n",
    "É preciso checar se a difereça entre as amostras segue ou não uma distribuição normal para decidir qual teste será feito: O t teste pareado ou o wilcoxon test."
   ]
  },
  {
   "cell_type": "markdown",
   "metadata": {},
   "source": [
    "Como meu dataset é muito grande, vou pegar amostras de tamanho 10000 para realizar o teste de kolmorogov-smirnov para testar a normalidade. "
   ]
  },
  {
   "cell_type": "markdown",
   "metadata": {},
   "source": [
    "(Nesse caso eu realmente fiquei em dúvida se devia usar o dataset inteiro, mas decidi considerar o dataset como população e escolher uma amostra aleatória)"
   ]
  },
  {
   "cell_type": "code",
   "execution_count": 247,
   "metadata": {},
   "outputs": [],
   "source": [
    "from random import sample"
   ]
  },
  {
   "cell_type": "code",
   "execution_count": 248,
   "metadata": {},
   "outputs": [],
   "source": [
    "s = sample(list(movies_ratings['imdb_title_id']), 10000)"
   ]
  },
  {
   "cell_type": "code",
   "execution_count": 249,
   "metadata": {},
   "outputs": [],
   "source": [
    "amostra = movies_ratings[movies_ratings.imdb_title_id.isin(s)]"
   ]
  },
  {
   "cell_type": "code",
   "execution_count": 250,
   "metadata": {},
   "outputs": [
    {
     "data": {
      "text/plain": [
       "<AxesSubplot:>"
      ]
     },
     "execution_count": 250,
     "metadata": {},
     "output_type": "execute_result"
    },
    {
     "data": {
      "image/png": "[encoded data removed]",
      "text/plain": [
       "<Figure size 432x288 with 1 Axes>"
      ]
     },
     "metadata": {},
     "output_type": "display_data"
    }
   ],
   "source": [
    "#Não pode haver outliers\n",
    "sea.boxplot(data= amostra[['males_allages_avg_vote', 'females_allages_avg_vote']])"
   ]
  },
  {
   "cell_type": "code",
   "execution_count": 251,
   "metadata": {},
   "outputs": [
    {
     "name": "stderr",
     "output_type": "stream",
     "text": [
      "/home/carolina/.local/lib/python3.6/site-packages/ipykernel_launcher.py:1: SettingWithCopyWarning: \n",
      "A value is trying to be set on a copy of a slice from a DataFrame.\n",
      "Try using .loc[row_indexer,col_indexer] = value instead\n",
      "\n",
      "See the caveats in the documentation: https://pandas.pydata.org/pandas-docs/stable/user_guide/indexing.html#returning-a-view-versus-a-copy\n",
      "  \"\"\"Entry point for launching an IPython kernel.\n"
     ]
    }
   ],
   "source": [
    "amostra['avg_votes_df'] = (amostra['females_allages_avg_vote'] - amostra['males_allages_avg_vote'])"
   ]
  },
  {
   "cell_type": "code",
   "execution_count": 252,
   "metadata": {},
   "outputs": [
    {
     "data": {
      "text/html": [
       "<div>\n",
       "<style scoped>\n",
       "    .dataframe tbody tr th:only-of-type {\n",
       "        vertical-align: middle;\n",
       "    }\n",
       "\n",
       "    .dataframe tbody tr th {\n",
       "        vertical-align: top;\n",
       "    }\n",
       "\n",
       "    .dataframe thead th {\n",
       "        text-align: right;\n",
       "    }\n",
       "</style>\n",
       "<table border=\"1\" class=\"dataframe\">\n",
       "  <thead>\n",
       "    <tr style=\"text-align: right;\">\n",
       "      <th></th>\n",
       "      <th>females_allages_avg_vote</th>\n",
       "      <th>males_allages_avg_vote</th>\n",
       "      <th>avg_votes_df</th>\n",
       "    </tr>\n",
       "  </thead>\n",
       "  <tbody>\n",
       "    <tr>\n",
       "      <th>20</th>\n",
       "      <td>6.9</td>\n",
       "      <td>6.5</td>\n",
       "      <td>0.4</td>\n",
       "    </tr>\n",
       "    <tr>\n",
       "      <th>36</th>\n",
       "      <td>6.0</td>\n",
       "      <td>5.8</td>\n",
       "      <td>0.2</td>\n",
       "    </tr>\n",
       "    <tr>\n",
       "      <th>42</th>\n",
       "      <td>5.8</td>\n",
       "      <td>5.7</td>\n",
       "      <td>0.1</td>\n",
       "    </tr>\n",
       "    <tr>\n",
       "      <th>46</th>\n",
       "      <td>6.3</td>\n",
       "      <td>6.4</td>\n",
       "      <td>-0.1</td>\n",
       "    </tr>\n",
       "    <tr>\n",
       "      <th>47</th>\n",
       "      <td>6.9</td>\n",
       "      <td>6.6</td>\n",
       "      <td>0.3</td>\n",
       "    </tr>\n",
       "    <tr>\n",
       "      <th>...</th>\n",
       "      <td>...</td>\n",
       "      <td>...</td>\n",
       "      <td>...</td>\n",
       "    </tr>\n",
       "    <tr>\n",
       "      <th>81243</th>\n",
       "      <td>6.5</td>\n",
       "      <td>5.9</td>\n",
       "      <td>0.6</td>\n",
       "    </tr>\n",
       "    <tr>\n",
       "      <th>81245</th>\n",
       "      <td>4.6</td>\n",
       "      <td>6.0</td>\n",
       "      <td>-1.4</td>\n",
       "    </tr>\n",
       "    <tr>\n",
       "      <th>81250</th>\n",
       "      <td>7.0</td>\n",
       "      <td>7.4</td>\n",
       "      <td>-0.4</td>\n",
       "    </tr>\n",
       "    <tr>\n",
       "      <th>81251</th>\n",
       "      <td>5.8</td>\n",
       "      <td>6.7</td>\n",
       "      <td>-0.9</td>\n",
       "    </tr>\n",
       "    <tr>\n",
       "      <th>81260</th>\n",
       "      <td>5.6</td>\n",
       "      <td>5.0</td>\n",
       "      <td>0.6</td>\n",
       "    </tr>\n",
       "  </tbody>\n",
       "</table>\n",
       "<p>10000 rows × 3 columns</p>\n",
       "</div>"
      ],
      "text/plain": [
       "       females_allages_avg_vote  males_allages_avg_vote  avg_votes_df\n",
       "20                          6.9                     6.5           0.4\n",
       "36                          6.0                     5.8           0.2\n",
       "42                          5.8                     5.7           0.1\n",
       "46                          6.3                     6.4          -0.1\n",
       "47                          6.9                     6.6           0.3\n",
       "...                         ...                     ...           ...\n",
       "81243                       6.5                     5.9           0.6\n",
       "81245                       4.6                     6.0          -1.4\n",
       "81250                       7.0                     7.4          -0.4\n",
       "81251                       5.8                     6.7          -0.9\n",
       "81260                       5.6                     5.0           0.6\n",
       "\n",
       "[10000 rows x 3 columns]"
      ]
     },
     "execution_count": 252,
     "metadata": {},
     "output_type": "execute_result"
    }
   ],
   "source": [
    "amostra[['females_allages_avg_vote','males_allages_avg_vote', 'avg_votes_df']]"
   ]
  },
  {
   "cell_type": "code",
   "execution_count": 253,
   "metadata": {},
   "outputs": [
    {
     "data": {
      "text/plain": [
       "<AxesSubplot:>"
      ]
     },
     "execution_count": 253,
     "metadata": {},
     "output_type": "execute_result"
    },
    {
     "data": {
      "image/png": "[encoded data removed]",
      "text/plain": [
       "<Figure size 432x288 with 1 Axes>"
      ]
     },
     "metadata": {},
     "output_type": "display_data"
    }
   ],
   "source": [
    "#não pode haver outliers\n",
    "amostra['avg_votes_df'].plot.box()"
   ]
  },
  {
   "cell_type": "markdown",
   "metadata": {},
   "source": [
    "O teste de kolmorogov-smirnov é sensível a outliers então vou removê-los com o método de tukey."
   ]
  },
  {
   "cell_type": "code",
   "execution_count": 254,
   "metadata": {},
   "outputs": [
    {
     "data": {
      "text/plain": [
       "0.5999999999999996"
      ]
     },
     "execution_count": 254,
     "metadata": {},
     "output_type": "execute_result"
    }
   ],
   "source": [
    "q1 = amostra['avg_votes_df'].quantile(q=0.25)\n",
    "q3 = amostra['avg_votes_df'].quantile(q=0.75)\n",
    "iqr = q3 - q1\n",
    "iqr"
   ]
  },
  {
   "cell_type": "code",
   "execution_count": 255,
   "metadata": {},
   "outputs": [
    {
     "data": {
      "text/plain": [
       "9263"
      ]
     },
     "execution_count": 255,
     "metadata": {},
     "output_type": "execute_result"
    }
   ],
   "source": [
    "amostra = amostra[(amostra['avg_votes_df'] > (q1-1.5*iqr)) & (amostra['avg_votes_df'] < (q3+1.5*iqr))]\n",
    "len(amostra)"
   ]
  },
  {
   "cell_type": "code",
   "execution_count": 257,
   "metadata": {},
   "outputs": [
    {
     "data": {
      "text/plain": [
       "<AxesSubplot:>"
      ]
     },
     "execution_count": 257,
     "metadata": {},
     "output_type": "execute_result"
    },
    {
     "data": {
      "image/png": "[encoded data removed]",
      "text/plain": [
       "<Figure size 432x288 with 1 Axes>"
      ]
     },
     "metadata": {},
     "output_type": "display_data"
    }
   ],
   "source": [
    "amostra['avg_votes_df'].plot.box()"
   ]
  },
  {
   "cell_type": "code",
   "execution_count": 262,
   "metadata": {},
   "outputs": [
    {
     "name": "stdout",
     "output_type": "stream",
     "text": [
      "0.27791066568754497\n"
     ]
    },
    {
     "data": {
      "text/plain": [
       "True"
      ]
     },
     "execution_count": 262,
     "metadata": {},
     "output_type": "execute_result"
    }
   ],
   "source": [
    "s, p = st.kstest(amostra['avg_votes_df'], 'norm')\n",
    "print(s)\n",
    "# Se p for menor que 0.05 rejeitamos a hipótese nula de que a distribuição é normal\n",
    "p < 0.05\n"
   ]
  },
  {
   "cell_type": "code",
   "execution_count": 259,
   "metadata": {},
   "outputs": [
    {
     "data": {
      "text/plain": [
       "<seaborn.axisgrid.FacetGrid at 0x7fdcb6028d68>"
      ]
     },
     "execution_count": 259,
     "metadata": {},
     "output_type": "execute_result"
    },
    {
     "data": {
      "image/png": "[encoded data removed]",
      "text/plain": [
       "<Figure size 360x360 with 1 Axes>"
      ]
     },
     "metadata": {},
     "output_type": "display_data"
    }
   ],
   "source": [
    "sea.displot(amostra['avg_votes_df'], bins=10)"
   ]
  },
  {
   "cell_type": "markdown",
   "metadata": {},
   "source": [
    "O histograma mostra uma distribuição bastante parecida com uma normal. Eu decidi usar um QQplot pra ficar mais claro"
   ]
  },
  {
   "cell_type": "code",
   "execution_count": 213,
   "metadata": {},
   "outputs": [],
   "source": [
    "import pylab "
   ]
  },
  {
   "cell_type": "code",
   "execution_count": 260,
   "metadata": {},
   "outputs": [
    {
     "data": {
      "image/png": "[encoded data removed]",
      "text/plain": [
       "<Figure size 432x288 with 1 Axes>"
      ]
     },
     "metadata": {},
     "output_type": "display_data"
    }
   ],
   "source": [
    "st.probplot(amostra['avg_votes_df'], dist=\"norm\", plot=pylab)\n",
    "pylab.show()"
   ]
  },
  {
   "cell_type": "markdown",
   "metadata": {},
   "source": [
    "Para termos uma distribuição normal os pontinhos azuis precisam seguir a linha vermelha e temos um desvio nas extremidades, logo não é normal."
   ]
  },
  {
   "cell_type": "markdown",
   "metadata": {},
   "source": [
    "Então o teste utilizado será o Wilcoxon"
   ]
  },
  {
   "cell_type": "code",
   "execution_count": null,
   "metadata": {},
   "outputs": [],
   "source": [
    "s, p = st.wilcoxon(amostra['females_allages_avg_vote'], amostra['males_allages_avg_vote'])\n",
    "p < 0.05"
   ]
  },
  {
   "cell_type": "markdown",
   "metadata": {},
   "source": [
    "Realmente a distribuição da diferença não é simétrica em relação a 0 como podemos ver no boxplot."
   ]
  },
  {
   "cell_type": "code",
   "execution_count": 271,
   "metadata": {},
   "outputs": [
    {
     "data": {
      "text/plain": [
       "<AxesSubplot:>"
      ]
     },
     "execution_count": 271,
     "metadata": {},
     "output_type": "execute_result"
    },
    {
     "data": {
      "image/png": "[encoded data removed]",
      "text/plain": [
       "<Figure size 432x288 with 1 Axes>"
      ]
     },
     "metadata": {},
     "output_type": "display_data"
    }
   ],
   "source": [
    "amostra['avg_votes_df'].plot.box()"
   ]
  },
  {
   "cell_type": "markdown",
   "metadata": {},
   "source": [
    "2º Teste\n",
    "\n",
    "Quero comparar as distribuições das médias para filmes de drama e comédia. O teste é não pareado porque os indivíduos são diferentes."
   ]
  },
  {
   "cell_type": "markdown",
   "metadata": {},
   "source": [
    "Vou continuar com a amostra utilizada no teste anterior."
   ]
  },
  {
   "cell_type": "code",
   "execution_count": 273,
   "metadata": {},
   "outputs": [
    {
     "data": {
      "text/plain": [
       "Drama          3101\n",
       "Comedy         2809\n",
       "Action          948\n",
       "Crime           660\n",
       "Horror          364\n",
       "Adventure       351\n",
       "Biography       226\n",
       "Animation       225\n",
       "Thriller        138\n",
       "Romance          85\n",
       "Western          72\n",
       "Family           71\n",
       "Mystery          62\n",
       "Musical          49\n",
       "Fantasy          48\n",
       "Sci-Fi           20\n",
       "Music            12\n",
       "War               9\n",
       "History           8\n",
       "Film-Noir         3\n",
       "Documentary       1\n",
       "Sport             1\n",
       "Name: first_genre, dtype: int64"
      ]
     },
     "execution_count": 273,
     "metadata": {},
     "output_type": "execute_result"
    }
   ],
   "source": [
    "amostra.first_genre.value_counts()"
   ]
  },
  {
   "cell_type": "markdown",
   "metadata": {},
   "source": [
    "As observações precisam ter o mesmo tamanho"
   ]
  },
  {
   "cell_type": "code",
   "execution_count": 282,
   "metadata": {},
   "outputs": [
    {
     "data": {
      "text/plain": [
       "(2800, 24)"
      ]
     },
     "execution_count": 282,
     "metadata": {},
     "output_type": "execute_result"
    }
   ],
   "source": [
    "drama = amostra[amostra.first_genre=='Drama'][:2800]\n",
    "drama.shape"
   ]
  },
  {
   "cell_type": "code",
   "execution_count": 283,
   "metadata": {},
   "outputs": [
    {
     "data": {
      "text/plain": [
       "(2800, 24)"
      ]
     },
     "execution_count": 283,
     "metadata": {},
     "output_type": "execute_result"
    }
   ],
   "source": [
    "comedia = amostra[amostra.first_genre=='Comedy'][:2800]\n",
    "comedia.shape"
   ]
  },
  {
   "cell_type": "code",
   "execution_count": 285,
   "metadata": {},
   "outputs": [
    {
     "data": {
      "text/plain": [
       "<seaborn.axisgrid.FacetGrid at 0x7fdcb5b0dc18>"
      ]
     },
     "execution_count": 285,
     "metadata": {},
     "output_type": "execute_result"
    },
    {
     "data": {
      "image/png": "[encoded data removed]",
      "text/plain": [
       "<Figure size 360x360 with 1 Axes>"
      ]
     },
     "metadata": {},
     "output_type": "display_data"
    }
   ],
   "source": [
    "sea.displot(drama['avg_vote'], bins=10)"
   ]
  },
  {
   "cell_type": "markdown",
   "metadata": {},
   "source": [
    "Desta vez eu vou utilizar o teste de shapiro já que a amostra é pequena."
   ]
  },
  {
   "cell_type": "code",
   "execution_count": 292,
   "metadata": {},
   "outputs": [
    {
     "data": {
      "text/plain": [
       "True"
      ]
     },
     "execution_count": 292,
     "metadata": {},
     "output_type": "execute_result"
    }
   ],
   "source": [
    "s, p = st.shapiro(drama['avg_vote'])\n",
    "# Se p for menor que 0.05 rejeitamos a hipótese de que a distribuição é normal\n",
    "p < 0.05"
   ]
  },
  {
   "cell_type": "code",
   "execution_count": 293,
   "metadata": {},
   "outputs": [
    {
     "data": {
      "image/png": "[encoded data removed]",
      "text/plain": [
       "<Figure size 432x288 with 1 Axes>"
      ]
     },
     "metadata": {},
     "output_type": "display_data"
    }
   ],
   "source": [
    "st.probplot(drama['avg_vote'], dist=\"norm\", plot=pylab)\n",
    "pylab.show()"
   ]
  },
  {
   "cell_type": "code",
   "execution_count": 286,
   "metadata": {},
   "outputs": [
    {
     "data": {
      "text/plain": [
       "<seaborn.axisgrid.FacetGrid at 0x7fdcb6399a90>"
      ]
     },
     "execution_count": 286,
     "metadata": {},
     "output_type": "execute_result"
    },
    {
     "data": {
      "image/png": "[encoded data removed]",
      "text/plain": [
       "<Figure size 360x360 with 1 Axes>"
      ]
     },
     "metadata": {},
     "output_type": "display_data"
    }
   ],
   "source": [
    "sea.displot(comedia['avg_vote'], bins=10)"
   ]
  },
  {
   "cell_type": "code",
   "execution_count": 291,
   "metadata": {},
   "outputs": [
    {
     "data": {
      "text/plain": [
       "True"
      ]
     },
     "execution_count": 291,
     "metadata": {},
     "output_type": "execute_result"
    }
   ],
   "source": [
    "s, p = st.shapiro(comedia['avg_vote'])\n",
    "# Se p for menor que 0.05 rejeitamos a hipótese de que a distribuição é normal\n",
    "p < 0.05"
   ]
  },
  {
   "cell_type": "code",
   "execution_count": 294,
   "metadata": {},
   "outputs": [
    {
     "data": {
      "image/png": "[encoded data removed]",
      "text/plain": [
       "<Figure size 432x288 with 1 Axes>"
      ]
     },
     "metadata": {},
     "output_type": "display_data"
    }
   ],
   "source": [
    "st.probplot(comedia['avg_vote'], dist=\"norm\", plot=pylab)\n",
    "pylab.show()"
   ]
  },
  {
   "cell_type": "markdown",
   "metadata": {},
   "source": [
    "Nesse caso, o teste utilizado será o Mann Whitney para 2 grupos não pareados"
   ]
  },
  {
   "cell_type": "code",
   "execution_count": 301,
   "metadata": {},
   "outputs": [
    {
     "name": "stdout",
     "output_type": "stream",
     "text": [
      "3159549.0\n",
      "1.347357237061849e-36\n"
     ]
    },
    {
     "data": {
      "text/plain": [
       "True"
      ]
     },
     "execution_count": 301,
     "metadata": {},
     "output_type": "execute_result"
    }
   ],
   "source": [
    "s, p = st.mannwhitneyu(drama['avg_vote'], comedia['avg_vote'])\n",
    "print(s)\n",
    "print(p)\n",
    "\n",
    "# Se p for menor que 0.05, rejeitamos a hipótese de que as amostras vem de populações com mesma distribuição.\n",
    "p < 0.05"
   ]
  },
  {
   "cell_type": "code",
   "execution_count": 302,
   "metadata": {},
   "outputs": [
    {
     "data": {
      "text/plain": [
       "<AxesSubplot:>"
      ]
     },
     "execution_count": 302,
     "metadata": {},
     "output_type": "execute_result"
    },
    {
     "data": {
      "image/png": "[encoded data removed]",
      "text/plain": [
       "<Figure size 432x288 with 1 Axes>"
      ]
     },
     "metadata": {},
     "output_type": "display_data"
    }
   ],
   "source": [
    "sea.boxplot(data = [drama['avg_vote'], comedia['avg_vote']])"
   ]
  }
 ],
 "metadata": {
  "kernelspec": {
   "display_name": "Python 3",
   "language": "python",
   "name": "python3"
  },
  "language_info": {
   "codemirror_mode": {
    "name": "ipython",
    "version": 3
   },
   "file_extension": ".py",
   "mimetype": "text/x-python",
   "name": "python",
   "nbconvert_exporter": "python",
   "pygments_lexer": "ipython3",
   "version": "3.6.9"
  }
 },
 "nbformat": 4,
 "nbformat_minor": 4
}
