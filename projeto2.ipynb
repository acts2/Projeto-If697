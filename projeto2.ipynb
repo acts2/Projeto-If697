{
 "cells": [
  {
   "cell_type": "code",
   "execution_count": 1,
   "metadata": {},
   "outputs": [],
   "source": [
    "import pandas as pd\n",
    "import numpy as np\n",
    "import matplotlib.pyplot as plt\n",
    "\n",
    "from sklearn.model_selection import GridSearchCV\n",
    "from sklearn.model_selection import train_test_split, validation_curve\n",
    "from sklearn.metrics import accuracy_score, precision_score, recall_score, f1_score, plot_confusion_matrix\n",
    "from sklearn.ensemble import RandomForestClassifier\n",
    "from sklearn.neural_network import MLPClassifier\n",
    "from sklearn.linear_model import SGDClassifier\n",
    "from sklearn.tree import DecisionTreeClassifier\n",
    "from sklearn.svm import SVC\n",
    "\n",
    "import mlflow\n",
    "import mlflow.sklearn\n",
    "\n",
    "import optuna\n"
   ]
  },
  {
   "cell_type": "markdown",
   "metadata": {},
   "source": [
    "## Escolha da feature para predição"
   ]
  },
  {
   "cell_type": "markdown",
   "metadata": {},
   "source": [
    "Para a predição eu escolhi tentar prever qual o gênero do filme, portanto uma classificação. Porém há uma grande quantidade de gêneros, e mais de um gênero para um filme, na maioria das vezes. Então eu decidi limitar a classificação para os dois gêneros mais populares: Drama e Comédia. Para isso filtrei apenas os filmes que tem drama ou comédia como gênero principal e além disso exclui qualquer filme que tenha ambos os gêneros para ter certeza que eles estão bem separados"
   ]
  },
  {
   "cell_type": "markdown",
   "metadata": {},
   "source": [
    "## Pré-processamento"
   ]
  },
  {
   "cell_type": "markdown",
   "metadata": {},
   "source": [
    "Antes de fazer a predição é preciso primeiro fazer um novo pré-processamento nas features e transformá-las na forma adequada para o treinamento."
   ]
  },
  {
   "cell_type": "code",
   "execution_count": 2,
   "metadata": {},
   "outputs": [],
   "source": [
    "mr = pd.read_csv('/home/carolina/Documents/Projeto-If697/datasets/movies_ratings.csv')"
   ]
  },
  {
   "cell_type": "code",
   "execution_count": 3,
   "metadata": {},
   "outputs": [],
   "source": [
    "mr.drop(columns='outlier', inplace=True)\n"
   ]
  },
  {
   "cell_type": "code",
   "execution_count": 4,
   "metadata": {},
   "outputs": [],
   "source": [
    "#Filtra dataframe entre filmes cujo primeiro gênero é ou Drama ou Comédia e exclui filmes que tem ambos os gêneros\n",
    "mr1 = pd.DataFrame(mr[(mr.genre.str.match('^(?!.*Drama.*).*$')) & (mr.genre.str.match('^Comedy.*')) |\n",
    "  (mr.genre.str.match('^(?!.*Comedy.*).*$')) & (mr.genre.str.match('^Drama.*'))]).reset_index()"
   ]
  },
  {
   "cell_type": "code",
   "execution_count": 5,
   "metadata": {},
   "outputs": [],
   "source": [
    "#Nova coluna para classificação\n",
    "mr1['genre_target'] = mr1.genre.str.split(',').str[0]"
   ]
  },
  {
   "cell_type": "code",
   "execution_count": 6,
   "metadata": {},
   "outputs": [
    {
     "data": {
      "text/plain": [
       "0         Drama\n",
       "1         Drama\n",
       "2         Drama\n",
       "3         Drama\n",
       "4         Drama\n",
       "          ...  \n",
       "30677    Comedy\n",
       "30678     Drama\n",
       "30679    Comedy\n",
       "30680    Comedy\n",
       "30681    Comedy\n",
       "Name: genre_target, Length: 30682, dtype: object"
      ]
     },
     "execution_count": 6,
     "metadata": {},
     "output_type": "execute_result"
    }
   ],
   "source": [
    "mr1.genre_target"
   ]
  },
  {
   "cell_type": "code",
   "execution_count": 7,
   "metadata": {},
   "outputs": [
    {
     "data": {
      "text/plain": [
       "(30682, 22)"
      ]
     },
     "execution_count": 7,
     "metadata": {},
     "output_type": "execute_result"
    }
   ],
   "source": [
    "mr1.shape"
   ]
  },
  {
   "cell_type": "code",
   "execution_count": 8,
   "metadata": {},
   "outputs": [],
   "source": [
    "#Selecionamos apenas as colunas que tem tipo \"object\" para transformá-las no tipo \"category\"\n",
    "mr1[mr1.select_dtypes(['object']).columns] = mr1.select_dtypes(['object']).apply(lambda x: x.astype('category'))"
   ]
  },
  {
   "cell_type": "markdown",
   "metadata": {},
   "source": [
    "## Dados Categóricos\n",
    "As colunas categóricas possuem uma quantidade muito grande de valores possíveis o que torna difícil a utilização do One hot encoding. Eu decidi utilizar apenas a coluna de ator para o modelo. Para isso eu irei pegar os três atores principais de cada filme e contar quantos filmes de comédia ou de drama eles participaram."
   ]
  },
  {
   "cell_type": "code",
   "execution_count": 10,
   "metadata": {},
   "outputs": [
    {
     "data": {
      "text/html": [
       "<div>\n",
       "<style scoped>\n",
       "    .dataframe tbody tr th:only-of-type {\n",
       "        vertical-align: middle;\n",
       "    }\n",
       "\n",
       "    .dataframe tbody tr th {\n",
       "        vertical-align: top;\n",
       "    }\n",
       "\n",
       "    .dataframe thead th {\n",
       "        text-align: right;\n",
       "    }\n",
       "</style>\n",
       "<table border=\"1\" class=\"dataframe\">\n",
       "  <thead>\n",
       "    <tr style=\"text-align: right;\">\n",
       "      <th></th>\n",
       "      <th>index</th>\n",
       "      <th>imdb_title_id</th>\n",
       "      <th>title</th>\n",
       "      <th>year</th>\n",
       "      <th>genre</th>\n",
       "      <th>duration</th>\n",
       "      <th>country</th>\n",
       "      <th>language</th>\n",
       "      <th>director</th>\n",
       "      <th>writer</th>\n",
       "      <th>...</th>\n",
       "      <th>median_vote</th>\n",
       "      <th>males_allages_avg_vote</th>\n",
       "      <th>males_allages_votes</th>\n",
       "      <th>females_allages_avg_vote</th>\n",
       "      <th>females_allages_votes</th>\n",
       "      <th>avg_vote_disc</th>\n",
       "      <th>genre_target</th>\n",
       "      <th>actor1</th>\n",
       "      <th>actor2</th>\n",
       "      <th>actor3</th>\n",
       "    </tr>\n",
       "  </thead>\n",
       "  <tbody>\n",
       "    <tr>\n",
       "      <th>0</th>\n",
       "      <td>2</td>\n",
       "      <td>tt0002445</td>\n",
       "      <td>Quo Vadis?</td>\n",
       "      <td>1913</td>\n",
       "      <td>Drama, History</td>\n",
       "      <td>120</td>\n",
       "      <td>Italy</td>\n",
       "      <td>Italian</td>\n",
       "      <td>Enrico Guazzoni</td>\n",
       "      <td>Henryk Sienkiewicz, Enrico Guazzoni</td>\n",
       "      <td>...</td>\n",
       "      <td>6.0</td>\n",
       "      <td>6.2</td>\n",
       "      <td>0.000122</td>\n",
       "      <td>6.1</td>\n",
       "      <td>0.000074</td>\n",
       "      <td>Good</td>\n",
       "      <td>Drama</td>\n",
       "      <td>Amleto Novelli</td>\n",
       "      <td>Gustavo Serena</td>\n",
       "      <td>Carlo Cattaneo</td>\n",
       "    </tr>\n",
       "    <tr>\n",
       "      <th>1</th>\n",
       "      <td>5</td>\n",
       "      <td>tt0003167</td>\n",
       "      <td>Home, Sweet Home</td>\n",
       "      <td>1914</td>\n",
       "      <td>Drama</td>\n",
       "      <td>55</td>\n",
       "      <td>USA</td>\n",
       "      <td>English</td>\n",
       "      <td>D.W. Griffith</td>\n",
       "      <td>D.W. Griffith, H.E. Aitken</td>\n",
       "      <td>...</td>\n",
       "      <td>6.0</td>\n",
       "      <td>5.6</td>\n",
       "      <td>0.000082</td>\n",
       "      <td>5.6</td>\n",
       "      <td>0.000063</td>\n",
       "      <td>Good</td>\n",
       "      <td>Drama</td>\n",
       "      <td>Henry B. Walthall</td>\n",
       "      <td>Josephine Crowell</td>\n",
       "      <td>Lillian Gish</td>\n",
       "    </tr>\n",
       "    <tr>\n",
       "      <th>2</th>\n",
       "      <td>6</td>\n",
       "      <td>tt0003419</td>\n",
       "      <td>Der Student von Prag</td>\n",
       "      <td>1913</td>\n",
       "      <td>Drama, Fantasy, Horror</td>\n",
       "      <td>85</td>\n",
       "      <td>Germany</td>\n",
       "      <td>German, English</td>\n",
       "      <td>Paul Wegener, Stellan Rye</td>\n",
       "      <td>Hanns Heinz Ewers, Hanns Heinz Ewers</td>\n",
       "      <td>...</td>\n",
       "      <td>7.0</td>\n",
       "      <td>6.5</td>\n",
       "      <td>0.000840</td>\n",
       "      <td>6.7</td>\n",
       "      <td>0.000797</td>\n",
       "      <td>Good</td>\n",
       "      <td>Drama</td>\n",
       "      <td>Paul Wegener</td>\n",
       "      <td>Grete Berger</td>\n",
       "      <td>Lyda Salmonova</td>\n",
       "    </tr>\n",
       "    <tr>\n",
       "      <th>3</th>\n",
       "      <td>14</td>\n",
       "      <td>tt0004134</td>\n",
       "      <td>Hypocrites</td>\n",
       "      <td>1915</td>\n",
       "      <td>Drama</td>\n",
       "      <td>54</td>\n",
       "      <td>USA</td>\n",
       "      <td>English</td>\n",
       "      <td>Lois Weber</td>\n",
       "      <td>Lois Weber</td>\n",
       "      <td>...</td>\n",
       "      <td>7.0</td>\n",
       "      <td>6.5</td>\n",
       "      <td>0.000188</td>\n",
       "      <td>7.2</td>\n",
       "      <td>0.000330</td>\n",
       "      <td>Good</td>\n",
       "      <td>Drama</td>\n",
       "      <td>Courtenay Foote</td>\n",
       "      <td>Myrtle Stedman</td>\n",
       "      <td>Herbert Standing</td>\n",
       "    </tr>\n",
       "    <tr>\n",
       "      <th>4</th>\n",
       "      <td>15</td>\n",
       "      <td>tt0004150</td>\n",
       "      <td>In the Land of the Head Hunters</td>\n",
       "      <td>1914</td>\n",
       "      <td>Drama, History</td>\n",
       "      <td>65</td>\n",
       "      <td>USA</td>\n",
       "      <td>English</td>\n",
       "      <td>Edward S. Curtis</td>\n",
       "      <td>Edward S. Curtis</td>\n",
       "      <td>...</td>\n",
       "      <td>6.0</td>\n",
       "      <td>5.8</td>\n",
       "      <td>0.000200</td>\n",
       "      <td>6.6</td>\n",
       "      <td>0.000159</td>\n",
       "      <td>Good</td>\n",
       "      <td>Drama</td>\n",
       "      <td>Stanley Hunt</td>\n",
       "      <td>Sarah Constance Smith Hunt</td>\n",
       "      <td>Mrs. George Walkus</td>\n",
       "    </tr>\n",
       "  </tbody>\n",
       "</table>\n",
       "<p>5 rows × 25 columns</p>\n",
       "</div>"
      ],
      "text/plain": [
       "   index imdb_title_id                            title  year  \\\n",
       "0      2     tt0002445                       Quo Vadis?  1913   \n",
       "1      5     tt0003167                 Home, Sweet Home  1914   \n",
       "2      6     tt0003419             Der Student von Prag  1913   \n",
       "3     14     tt0004134                       Hypocrites  1915   \n",
       "4     15     tt0004150  In the Land of the Head Hunters  1914   \n",
       "\n",
       "                    genre  duration  country         language  \\\n",
       "0          Drama, History       120    Italy          Italian   \n",
       "1                   Drama        55      USA          English   \n",
       "2  Drama, Fantasy, Horror        85  Germany  German, English   \n",
       "3                   Drama        54      USA          English   \n",
       "4          Drama, History        65      USA          English   \n",
       "\n",
       "                    director                                writer  ...  \\\n",
       "0            Enrico Guazzoni   Henryk Sienkiewicz, Enrico Guazzoni  ...   \n",
       "1              D.W. Griffith            D.W. Griffith, H.E. Aitken  ...   \n",
       "2  Paul Wegener, Stellan Rye  Hanns Heinz Ewers, Hanns Heinz Ewers  ...   \n",
       "3                 Lois Weber                            Lois Weber  ...   \n",
       "4           Edward S. Curtis                      Edward S. Curtis  ...   \n",
       "\n",
       "  median_vote males_allages_avg_vote  males_allages_votes  \\\n",
       "0         6.0                    6.2             0.000122   \n",
       "1         6.0                    5.6             0.000082   \n",
       "2         7.0                    6.5             0.000840   \n",
       "3         7.0                    6.5             0.000188   \n",
       "4         6.0                    5.8             0.000200   \n",
       "\n",
       "   females_allages_avg_vote  females_allages_votes  avg_vote_disc  \\\n",
       "0                       6.1               0.000074           Good   \n",
       "1                       5.6               0.000063           Good   \n",
       "2                       6.7               0.000797           Good   \n",
       "3                       7.2               0.000330           Good   \n",
       "4                       6.6               0.000159           Good   \n",
       "\n",
       "   genre_target             actor1                       actor2  \\\n",
       "0         Drama     Amleto Novelli               Gustavo Serena   \n",
       "1         Drama  Henry B. Walthall            Josephine Crowell   \n",
       "2         Drama       Paul Wegener                 Grete Berger   \n",
       "3         Drama    Courtenay Foote               Myrtle Stedman   \n",
       "4         Drama       Stanley Hunt   Sarah Constance Smith Hunt   \n",
       "\n",
       "                actor3  \n",
       "0       Carlo Cattaneo  \n",
       "1         Lillian Gish  \n",
       "2       Lyda Salmonova  \n",
       "3     Herbert Standing  \n",
       "4   Mrs. George Walkus  \n",
       "\n",
       "[5 rows x 25 columns]"
      ]
     },
     "execution_count": 10,
     "metadata": {},
     "output_type": "execute_result"
    }
   ],
   "source": [
    "mr1['actor1'] = mr1.actors.str.split(',').str[0]\n",
    "mr1['actor2'] = mr1.actors.str.split(',').str[1]\n",
    "mr1['actor3'] = mr1.actors.str.split(',').str[2]\n",
    "mr1.head()"
   ]
  },
  {
   "cell_type": "code",
   "execution_count": 11,
   "metadata": {},
   "outputs": [],
   "source": [
    "com1 = pd.DataFrame(mr1[mr1['genre_target']=='Comedy'].actor1.value_counts().to_frame('actor1_comedy').reset_index())\n",
    "com1.rename(columns = {'index': 'actor1'}, inplace = True)\n"
   ]
  },
  {
   "cell_type": "code",
   "execution_count": 12,
   "metadata": {},
   "outputs": [],
   "source": [
    "dra1 = pd.DataFrame(mr1[mr1['genre_target']=='Drama'].actor1.value_counts().to_frame('actor1_drama').reset_index())\n",
    "dra1.rename(columns = {'index': 'actor1'}, inplace = True)\n"
   ]
  },
  {
   "cell_type": "code",
   "execution_count": 13,
   "metadata": {},
   "outputs": [
    {
     "data": {
      "text/plain": [
       "(17348, 3)"
      ]
     },
     "execution_count": 13,
     "metadata": {},
     "output_type": "execute_result"
    }
   ],
   "source": [
    "df = com1.merge(dra1, on='actor1', how='outer')\n",
    "df.shape"
   ]
  },
  {
   "cell_type": "code",
   "execution_count": 14,
   "metadata": {},
   "outputs": [],
   "source": [
    "com2 = pd.DataFrame(mr1[mr1['genre_target']=='Comedy'].actor2.value_counts().to_frame('actor2_comedy').reset_index())\n",
    "com2.rename(columns = {'index': 'actor2'}, inplace = True)\n"
   ]
  },
  {
   "cell_type": "code",
   "execution_count": 15,
   "metadata": {},
   "outputs": [],
   "source": [
    "dra2 = pd.DataFrame(mr1[mr1['genre_target']=='Drama'].actor2.value_counts().to_frame('actor2_drama').reset_index())\n",
    "dra2.rename(columns = {'index': 'actor2'}, inplace = True)\n"
   ]
  },
  {
   "cell_type": "code",
   "execution_count": 16,
   "metadata": {},
   "outputs": [
    {
     "data": {
      "text/plain": [
       "(20655, 3)"
      ]
     },
     "execution_count": 16,
     "metadata": {},
     "output_type": "execute_result"
    }
   ],
   "source": [
    "df2 = com2.merge(dra2, on='actor2',how='outer')\n",
    "df2.shape"
   ]
  },
  {
   "cell_type": "code",
   "execution_count": 17,
   "metadata": {},
   "outputs": [],
   "source": [
    "com3 = pd.DataFrame(mr1[mr1['genre_target']=='Comedy'].actor3.value_counts().to_frame('actor3_comedy').reset_index())\n",
    "com3.rename(columns = {'index': 'actor3'}, inplace = True)\n"
   ]
  },
  {
   "cell_type": "code",
   "execution_count": 18,
   "metadata": {},
   "outputs": [],
   "source": [
    "dra3 = pd.DataFrame(mr1[mr1['genre_target']=='Drama'].actor3.value_counts().to_frame('actor3_drama').reset_index())\n",
    "dra3.rename(columns = {'index': 'actor3'}, inplace = True)\n"
   ]
  },
  {
   "cell_type": "code",
   "execution_count": 19,
   "metadata": {},
   "outputs": [
    {
     "data": {
      "text/plain": [
       "(22644, 3)"
      ]
     },
     "execution_count": 19,
     "metadata": {},
     "output_type": "execute_result"
    }
   ],
   "source": [
    "df3 = com3.merge(dra3, on='actor3',how='outer')\n",
    "df3.shape"
   ]
  },
  {
   "cell_type": "code",
   "execution_count": 20,
   "metadata": {},
   "outputs": [],
   "source": [
    "mr2 = mr1.merge(df, on='actor1', how='outer')"
   ]
  },
  {
   "cell_type": "code",
   "execution_count": 21,
   "metadata": {},
   "outputs": [],
   "source": [
    "mr2 = mr2.merge(df2, on='actor2', how='outer')\n",
    "mr2 = mr2.merge(df3, on='actor3', how='outer')"
   ]
  },
  {
   "cell_type": "code",
   "execution_count": 22,
   "metadata": {},
   "outputs": [
    {
     "data": {
      "text/html": [
       "<div>\n",
       "<style scoped>\n",
       "    .dataframe tbody tr th:only-of-type {\n",
       "        vertical-align: middle;\n",
       "    }\n",
       "\n",
       "    .dataframe tbody tr th {\n",
       "        vertical-align: top;\n",
       "    }\n",
       "\n",
       "    .dataframe thead th {\n",
       "        text-align: right;\n",
       "    }\n",
       "</style>\n",
       "<table border=\"1\" class=\"dataframe\">\n",
       "  <thead>\n",
       "    <tr style=\"text-align: right;\">\n",
       "      <th></th>\n",
       "      <th>index</th>\n",
       "      <th>imdb_title_id</th>\n",
       "      <th>title</th>\n",
       "      <th>year</th>\n",
       "      <th>genre</th>\n",
       "      <th>duration</th>\n",
       "      <th>country</th>\n",
       "      <th>language</th>\n",
       "      <th>director</th>\n",
       "      <th>writer</th>\n",
       "      <th>...</th>\n",
       "      <th>genre_target</th>\n",
       "      <th>actor1</th>\n",
       "      <th>actor2</th>\n",
       "      <th>actor3</th>\n",
       "      <th>actor1_comedy</th>\n",
       "      <th>actor1_drama</th>\n",
       "      <th>actor2_comedy</th>\n",
       "      <th>actor2_drama</th>\n",
       "      <th>actor3_comedy</th>\n",
       "      <th>actor3_drama</th>\n",
       "    </tr>\n",
       "  </thead>\n",
       "  <tbody>\n",
       "    <tr>\n",
       "      <th>0</th>\n",
       "      <td>2</td>\n",
       "      <td>tt0002445</td>\n",
       "      <td>Quo Vadis?</td>\n",
       "      <td>1913</td>\n",
       "      <td>Drama, History</td>\n",
       "      <td>120</td>\n",
       "      <td>Italy</td>\n",
       "      <td>Italian</td>\n",
       "      <td>Enrico Guazzoni</td>\n",
       "      <td>Henryk Sienkiewicz, Enrico Guazzoni</td>\n",
       "      <td>...</td>\n",
       "      <td>Drama</td>\n",
       "      <td>Amleto Novelli</td>\n",
       "      <td>Gustavo Serena</td>\n",
       "      <td>Carlo Cattaneo</td>\n",
       "      <td>NaN</td>\n",
       "      <td>1.0</td>\n",
       "      <td>NaN</td>\n",
       "      <td>1.0</td>\n",
       "      <td>NaN</td>\n",
       "      <td>1.0</td>\n",
       "    </tr>\n",
       "    <tr>\n",
       "      <th>1</th>\n",
       "      <td>5</td>\n",
       "      <td>tt0003167</td>\n",
       "      <td>Home, Sweet Home</td>\n",
       "      <td>1914</td>\n",
       "      <td>Drama</td>\n",
       "      <td>55</td>\n",
       "      <td>USA</td>\n",
       "      <td>English</td>\n",
       "      <td>D.W. Griffith</td>\n",
       "      <td>D.W. Griffith, H.E. Aitken</td>\n",
       "      <td>...</td>\n",
       "      <td>Drama</td>\n",
       "      <td>Henry B. Walthall</td>\n",
       "      <td>Josephine Crowell</td>\n",
       "      <td>Lillian Gish</td>\n",
       "      <td>NaN</td>\n",
       "      <td>1.0</td>\n",
       "      <td>NaN</td>\n",
       "      <td>1.0</td>\n",
       "      <td>NaN</td>\n",
       "      <td>4.0</td>\n",
       "    </tr>\n",
       "    <tr>\n",
       "      <th>2</th>\n",
       "      <td>2858</td>\n",
       "      <td>tt0035746</td>\n",
       "      <td>Commandos Strike at Dawn</td>\n",
       "      <td>1942</td>\n",
       "      <td>Drama, History, War</td>\n",
       "      <td>98</td>\n",
       "      <td>USA</td>\n",
       "      <td>English</td>\n",
       "      <td>John Farrow</td>\n",
       "      <td>Irwin Shaw, C.S. Forester</td>\n",
       "      <td>...</td>\n",
       "      <td>Drama</td>\n",
       "      <td>Paul Muni</td>\n",
       "      <td>Anna Lee</td>\n",
       "      <td>Lillian Gish</td>\n",
       "      <td>NaN</td>\n",
       "      <td>6.0</td>\n",
       "      <td>1.0</td>\n",
       "      <td>2.0</td>\n",
       "      <td>NaN</td>\n",
       "      <td>4.0</td>\n",
       "    </tr>\n",
       "    <tr>\n",
       "      <th>3</th>\n",
       "      <td>9136</td>\n",
       "      <td>tt0060420</td>\n",
       "      <td>Follow Me, Boys!</td>\n",
       "      <td>1966</td>\n",
       "      <td>Drama, Family</td>\n",
       "      <td>131</td>\n",
       "      <td>USA</td>\n",
       "      <td>English</td>\n",
       "      <td>Norman Tokar</td>\n",
       "      <td>Louis Pelletier, MacKinlay Kantor</td>\n",
       "      <td>...</td>\n",
       "      <td>Drama</td>\n",
       "      <td>Fred MacMurray</td>\n",
       "      <td>Vera Miles</td>\n",
       "      <td>Lillian Gish</td>\n",
       "      <td>11.0</td>\n",
       "      <td>4.0</td>\n",
       "      <td>3.0</td>\n",
       "      <td>3.0</td>\n",
       "      <td>NaN</td>\n",
       "      <td>4.0</td>\n",
       "    </tr>\n",
       "    <tr>\n",
       "      <th>4</th>\n",
       "      <td>6929</td>\n",
       "      <td>tt0052033</td>\n",
       "      <td>Orders to Kill</td>\n",
       "      <td>1958</td>\n",
       "      <td>Drama, War</td>\n",
       "      <td>112</td>\n",
       "      <td>UK</td>\n",
       "      <td>English, French, German</td>\n",
       "      <td>Anthony Asquith</td>\n",
       "      <td>Donald Downes, George St. George</td>\n",
       "      <td>...</td>\n",
       "      <td>Drama</td>\n",
       "      <td>Eddie Albert</td>\n",
       "      <td>Paul Massie</td>\n",
       "      <td>Lillian Gish</td>\n",
       "      <td>3.0</td>\n",
       "      <td>1.0</td>\n",
       "      <td>NaN</td>\n",
       "      <td>1.0</td>\n",
       "      <td>NaN</td>\n",
       "      <td>4.0</td>\n",
       "    </tr>\n",
       "  </tbody>\n",
       "</table>\n",
       "<p>5 rows × 31 columns</p>\n",
       "</div>"
      ],
      "text/plain": [
       "   index imdb_title_id                     title  year                genre  \\\n",
       "0      2     tt0002445                Quo Vadis?  1913       Drama, History   \n",
       "1      5     tt0003167          Home, Sweet Home  1914                Drama   \n",
       "2   2858     tt0035746  Commandos Strike at Dawn  1942  Drama, History, War   \n",
       "3   9136     tt0060420          Follow Me, Boys!  1966        Drama, Family   \n",
       "4   6929     tt0052033            Orders to Kill  1958           Drama, War   \n",
       "\n",
       "   duration country                 language         director  \\\n",
       "0       120   Italy                  Italian  Enrico Guazzoni   \n",
       "1        55     USA                  English    D.W. Griffith   \n",
       "2        98     USA                  English      John Farrow   \n",
       "3       131     USA                  English     Norman Tokar   \n",
       "4       112      UK  English, French, German  Anthony Asquith   \n",
       "\n",
       "                                writer  ... genre_target             actor1  \\\n",
       "0  Henryk Sienkiewicz, Enrico Guazzoni  ...        Drama     Amleto Novelli   \n",
       "1           D.W. Griffith, H.E. Aitken  ...        Drama  Henry B. Walthall   \n",
       "2            Irwin Shaw, C.S. Forester  ...        Drama          Paul Muni   \n",
       "3    Louis Pelletier, MacKinlay Kantor  ...        Drama     Fred MacMurray   \n",
       "4     Donald Downes, George St. George  ...        Drama       Eddie Albert   \n",
       "\n",
       "               actor2           actor3  actor1_comedy  actor1_drama  \\\n",
       "0      Gustavo Serena   Carlo Cattaneo            NaN           1.0   \n",
       "1   Josephine Crowell     Lillian Gish            NaN           1.0   \n",
       "2            Anna Lee     Lillian Gish            NaN           6.0   \n",
       "3          Vera Miles     Lillian Gish           11.0           4.0   \n",
       "4         Paul Massie     Lillian Gish            3.0           1.0   \n",
       "\n",
       "   actor2_comedy  actor2_drama  actor3_comedy  actor3_drama  \n",
       "0            NaN           1.0            NaN           1.0  \n",
       "1            NaN           1.0            NaN           4.0  \n",
       "2            1.0           2.0            NaN           4.0  \n",
       "3            3.0           3.0            NaN           4.0  \n",
       "4            NaN           1.0            NaN           4.0  \n",
       "\n",
       "[5 rows x 31 columns]"
      ]
     },
     "execution_count": 22,
     "metadata": {},
     "output_type": "execute_result"
    }
   ],
   "source": [
    "mr2.head()"
   ]
  },
  {
   "cell_type": "markdown",
   "metadata": {},
   "source": [
    "Como novas colunas foram adicionadas assim como novos dados, algumas linhas voltaram a ter valores nulos, então isso precisa ser tratado."
   ]
  },
  {
   "cell_type": "code",
   "execution_count": 23,
   "metadata": {},
   "outputs": [
    {
     "data": {
      "text/plain": [
       "index                           0\n",
       "imdb_title_id                   0\n",
       "title                           0\n",
       "year                            0\n",
       "genre                           0\n",
       "duration                        0\n",
       "country                         0\n",
       "language                        0\n",
       "director                        0\n",
       "writer                          0\n",
       "production_company              0\n",
       "actors                          0\n",
       "avg_vote                        0\n",
       "votes                           0\n",
       "mean_vote                       0\n",
       "median_vote                     0\n",
       "males_allages_avg_vote          0\n",
       "males_allages_votes             0\n",
       "females_allages_avg_vote        0\n",
       "females_allages_votes           0\n",
       "avg_vote_disc                   0\n",
       "genre_target                    0\n",
       "actor1                          0\n",
       "actor2                         53\n",
       "actor3                        143\n",
       "actor1_comedy               13820\n",
       "actor1_drama                 7125\n",
       "actor2_comedy               15152\n",
       "actor2_drama                 7853\n",
       "actor3_comedy               16153\n",
       "actor3_drama                 8603\n",
       "dtype: int64"
      ]
     },
     "execution_count": 23,
     "metadata": {},
     "output_type": "execute_result"
    }
   ],
   "source": [
    "mr2.isnull().sum()"
   ]
  },
  {
   "cell_type": "code",
   "execution_count": 24,
   "metadata": {},
   "outputs": [],
   "source": [
    "#Substituindo com 0 quando não há nenhum credito de um ator em drama ou comédia\n",
    "mr2['actor1_comedy'].fillna(0, inplace=True)\n",
    "mr2['actor2_comedy'].fillna(0, inplace=True)\n",
    "mr2['actor3_comedy'].fillna(0, inplace=True)\n",
    "mr2['actor1_drama'].fillna(0, inplace=True)\n",
    "mr2['actor2_drama'].fillna(0, inplace=True)\n",
    "mr2['actor3_drama'].fillna(0, inplace=True)"
   ]
  },
  {
   "cell_type": "code",
   "execution_count": 25,
   "metadata": {},
   "outputs": [],
   "source": [
    "#Excluindo as poucas linhas onde há filmes com apenas dois ou um ator principal\n",
    "mr2.dropna(inplace=True)"
   ]
  },
  {
   "cell_type": "code",
   "execution_count": 26,
   "metadata": {},
   "outputs": [
    {
     "data": {
      "text/plain": [
       "(30539, 31)"
      ]
     },
     "execution_count": 26,
     "metadata": {},
     "output_type": "execute_result"
    }
   ],
   "source": [
    "mr2.shape"
   ]
  },
  {
   "cell_type": "markdown",
   "metadata": {},
   "source": [
    "## Divisão do dataset"
   ]
  },
  {
   "cell_type": "code",
   "execution_count": 27,
   "metadata": {},
   "outputs": [],
   "source": [
    "#Inicialmente eu preferi começar apenas com os dados do ator principal\n",
    "X = mr2[['year', 'duration', 'avg_vote', 'mean_vote', 'median_vote',\n",
    "         'males_allages_avg_vote','females_allages_avg_vote','actor1_comedy',\n",
    "         'actor1_drama']]#, 'actor2_comedy', 'actor2_drama', 'actor3_comedy', 'actor3_drama']]"
   ]
  },
  {
   "cell_type": "code",
   "execution_count": 28,
   "metadata": {},
   "outputs": [],
   "source": [
    "Y = mr2['genre_target']"
   ]
  },
  {
   "cell_type": "code",
   "execution_count": 29,
   "metadata": {},
   "outputs": [
    {
     "data": {
      "text/plain": [
       "0        1\n",
       "1        1\n",
       "2        1\n",
       "3        1\n",
       "4        1\n",
       "        ..\n",
       "30677    0\n",
       "30678    1\n",
       "30679    1\n",
       "30680    0\n",
       "30681    0\n",
       "Name: genre_target, Length: 30539, dtype: int8"
      ]
     },
     "execution_count": 29,
     "metadata": {},
     "output_type": "execute_result"
    }
   ],
   "source": [
    "#Drama = 1; Comedy = 0\n",
    "mr2['genre_target'] = mr2.genre_target.cat.codes\n",
    "mr2.genre_target"
   ]
  },
  {
   "cell_type": "code",
   "execution_count": 30,
   "metadata": {},
   "outputs": [],
   "source": [
    "Y = mr2['genre_target']"
   ]
  },
  {
   "cell_type": "code",
   "execution_count": 31,
   "metadata": {},
   "outputs": [
    {
     "data": {
      "text/plain": [
       "((30539, 9), (30539,))"
      ]
     },
     "execution_count": 31,
     "metadata": {},
     "output_type": "execute_result"
    }
   ],
   "source": [
    "X.shape, Y.shape"
   ]
  },
  {
   "cell_type": "code",
   "execution_count": 32,
   "metadata": {},
   "outputs": [],
   "source": [
    "X_train, X_test, Y_train, Y_test = train_test_split(X, Y, test_size=0.5, random_state=42)"
   ]
  },
  {
   "cell_type": "code",
   "execution_count": 33,
   "metadata": {},
   "outputs": [
    {
     "data": {
      "text/plain": [
       "((15269, 9), (15270, 9))"
      ]
     },
     "execution_count": 33,
     "metadata": {},
     "output_type": "execute_result"
    }
   ],
   "source": [
    "X_train.shape, X_test.shape"
   ]
  },
  {
   "cell_type": "code",
   "execution_count": 34,
   "metadata": {},
   "outputs": [],
   "source": [
    "X_test, X_val, Y_test, Y_val = train_test_split(X_test, Y_test, test_size=0.5, random_state=42)"
   ]
  },
  {
   "cell_type": "code",
   "execution_count": 35,
   "metadata": {},
   "outputs": [
    {
     "data": {
      "text/plain": [
       "((15269, 9), (7635, 9), (7635, 9))"
      ]
     },
     "execution_count": 35,
     "metadata": {},
     "output_type": "execute_result"
    }
   ],
   "source": [
    "X_train.shape, X_test.shape, X_val.shape"
   ]
  },
  {
   "cell_type": "markdown",
   "metadata": {},
   "source": [
    "## Escolha de algoritmos e hiperparâmetros"
   ]
  },
  {
   "cell_type": "markdown",
   "metadata": {},
   "source": [
    "5 Algoritmos foram escolhidos: SVM, decision tree, random forest, MLP e stochastic gradient descent\n",
    "\n",
    "Foram escolhidos no máximo 3 hiperparâmetros para cada algoritmo e algumas combinações entre eles para serem comparadas usando o optuns e ao final ser escolhido o aloritmo + hiperparâmetros com melhor desempenho"
   ]
  },
  {
   "cell_type": "markdown",
   "metadata": {},
   "source": [
    "## Métricas utilizadas"
   ]
  },
  {
   "cell_type": "markdown",
   "metadata": {},
   "source": [
    "Quatro métricas para avaliação dos algoritmos e hiperparâmetros foram escolhidas: Acurácia, precisão, recall e F1 score"
   ]
  },
  {
   "cell_type": "markdown",
   "metadata": {},
   "source": [
    "## Support Vector Machine para classificação"
   ]
  },
  {
   "cell_type": "markdown",
   "metadata": {},
   "source": [
    "SVC HiperParâmetros\n",
    "\n",
    "Parâmetros escolhidos: C, kernel e gamma"
   ]
  },
  {
   "cell_type": "code",
   "execution_count": 36,
   "metadata": {},
   "outputs": [],
   "source": [
    "def objective(trial):\n",
    "    kernel = trial.suggest_categorical(\"kernel\", [\"linear\", \"rbf\"])\n",
    "    gamma = trial.suggest_categorical(\"gamma\", ['auto', 'scale'])\n",
    "    c = trial.suggest_int('c', 500, 2000, 100)\n",
    "    clf = SVC(C=c, kernel=kernel, gamma=gamma, random_state=0)\n",
    "    clf.fit(X_train, Y_train)\n",
    "    \n",
    "    y_pred = clf.predict(X_val)\n",
    "    \n",
    "    accuracy = accuracy_score(Y_val,y_pred)\n",
    "    #precision = precision_score(Y_val,y_pred)\n",
    "    #recall = recall_score(Y_val,y_pred)\n",
    "    #f1 = f1_score(Y_val,y_pred)\n",
    "\n",
    "    return accuracy"
   ]
  },
  {
   "cell_type": "code",
   "execution_count": 37,
   "metadata": {},
   "outputs": [
    {
     "name": "stderr",
     "output_type": "stream",
     "text": [
      "\u001b[32m[I 2020-11-14 20:48:20,874]\u001b[0m A new study created in memory with name: no-name-dc36a471-337a-4a8e-a070-7551b32fb7ee\u001b[0m\n",
      "\u001b[32m[I 2020-11-14 20:48:56,501]\u001b[0m Trial 0 finished with value: 0.868762278978389 and parameters: {'kernel': 'linear', 'gamma': 'auto', 'c': 500}. Best is trial 0 with value: 0.868762278978389.\u001b[0m\n",
      "\u001b[32m[I 2020-11-14 20:48:58,027]\u001b[0m Trial 2 finished with value: 0.8669286182056319 and parameters: {'kernel': 'linear', 'gamma': 'scale', 'c': 2000}. Best is trial 0 with value: 0.868762278978389.\u001b[0m\n",
      "\u001b[32m[I 2020-11-14 20:48:59,784]\u001b[0m Trial 3 finished with value: 0.8650949574328749 and parameters: {'kernel': 'linear', 'gamma': 'auto', 'c': 1900}. Best is trial 0 with value: 0.868762278978389.\u001b[0m\n",
      "\u001b[32m[I 2020-11-14 20:49:00,030]\u001b[0m Trial 1 finished with value: 0.8874918140144074 and parameters: {'kernel': 'rbf', 'gamma': 'scale', 'c': 800}. Best is trial 1 with value: 0.8874918140144074.\u001b[0m\n",
      "\u001b[32m[I 2020-11-14 20:49:21,658]\u001b[0m Trial 5 finished with value: 0.8648330058939097 and parameters: {'kernel': 'linear', 'gamma': 'auto', 'c': 900}. Best is trial 1 with value: 0.8874918140144074.\u001b[0m\n",
      "\u001b[32m[I 2020-11-14 20:49:23,008]\u001b[0m Trial 4 finished with value: 0.8615586116568434 and parameters: {'kernel': 'linear', 'gamma': 'auto', 'c': 600}. Best is trial 1 with value: 0.8874918140144074.\u001b[0m\n",
      "\u001b[32m[I 2020-11-14 20:49:25,356]\u001b[0m Trial 6 finished with value: 0.868762278978389 and parameters: {'kernel': 'linear', 'gamma': 'auto', 'c': 500}. Best is trial 1 with value: 0.8874918140144074.\u001b[0m\n",
      "\u001b[32m[I 2020-11-14 20:49:45,678]\u001b[0m Trial 8 finished with value: 0.899803536345776 and parameters: {'kernel': 'rbf', 'gamma': 'scale', 'c': 1800}. Best is trial 8 with value: 0.899803536345776.\u001b[0m\n",
      "\u001b[32m[I 2020-11-14 20:49:47,224]\u001b[0m Trial 10 finished with value: 0.8637851997380485 and parameters: {'kernel': 'linear', 'gamma': 'auto', 'c': 1000}. Best is trial 8 with value: 0.899803536345776.\u001b[0m\n",
      "\u001b[32m[I 2020-11-14 20:49:50,760]\u001b[0m Trial 9 finished with value: 0.8677144728225278 and parameters: {'kernel': 'linear', 'gamma': 'auto', 'c': 1800}. Best is trial 8 with value: 0.899803536345776.\u001b[0m\n",
      "\u001b[32m[I 2020-11-14 20:50:05,927]\u001b[0m Trial 11 finished with value: 0.8645710543549443 and parameters: {'kernel': 'linear', 'gamma': 'auto', 'c': 1700}. Best is trial 8 with value: 0.899803536345776.\u001b[0m\n",
      "\u001b[32m[I 2020-11-14 20:50:12,763]\u001b[0m Trial 13 finished with value: 0.899803536345776 and parameters: {'kernel': 'rbf', 'gamma': 'scale', 'c': 1500}. Best is trial 8 with value: 0.899803536345776.\u001b[0m\n",
      "\u001b[32m[I 2020-11-14 20:50:13,875]\u001b[0m Trial 7 finished with value: 0.8572364112639161 and parameters: {'kernel': 'rbf', 'gamma': 'auto', 'c': 2000}. Best is trial 8 with value: 0.899803536345776.\u001b[0m\n",
      "\u001b[32m[I 2020-11-14 20:50:26,927]\u001b[0m Trial 14 finished with value: 0.8999345121152587 and parameters: {'kernel': 'rbf', 'gamma': 'scale', 'c': 1400}. Best is trial 14 with value: 0.8999345121152587.\u001b[0m\n",
      "\u001b[32m[I 2020-11-14 20:50:35,511]\u001b[0m Trial 15 finished with value: 0.899803536345776 and parameters: {'kernel': 'rbf', 'gamma': 'scale', 'c': 1500}. Best is trial 14 with value: 0.8999345121152587.\u001b[0m\n",
      "\u001b[32m[I 2020-11-14 20:50:36,385]\u001b[0m Trial 16 finished with value: 0.899803536345776 and parameters: {'kernel': 'rbf', 'gamma': 'scale', 'c': 1500}. Best is trial 14 with value: 0.8999345121152587.\u001b[0m\n",
      "\u001b[32m[I 2020-11-14 20:50:48,103]\u001b[0m Trial 17 finished with value: 0.8994106090373281 and parameters: {'kernel': 'rbf', 'gamma': 'scale', 'c': 1300}. Best is trial 14 with value: 0.8999345121152587.\u001b[0m\n",
      "\u001b[32m[I 2020-11-14 20:50:55,096]\u001b[0m Trial 12 finished with value: 0.8572364112639161 and parameters: {'kernel': 'rbf', 'gamma': 'auto', 'c': 1600}. Best is trial 14 with value: 0.8999345121152587.\u001b[0m\n",
      "\u001b[32m[I 2020-11-14 20:50:56,269]\u001b[0m Trial 18 finished with value: 0.8994106090373281 and parameters: {'kernel': 'rbf', 'gamma': 'scale', 'c': 1300}. Best is trial 14 with value: 0.8999345121152587.\u001b[0m\n",
      "\u001b[32m[I 2020-11-14 20:50:56,420]\u001b[0m Trial 19 finished with value: 0.8994106090373281 and parameters: {'kernel': 'rbf', 'gamma': 'scale', 'c': 1300}. Best is trial 14 with value: 0.8999345121152587.\u001b[0m\n"
     ]
    }
   ],
   "source": [
    "study = optuna.create_study(direction=\"maximize\")\n",
    "study.optimize(objective, n_trials=20, n_jobs=-1)"
   ]
  },
  {
   "cell_type": "code",
   "execution_count": 56,
   "metadata": {},
   "outputs": [],
   "source": [
    "mlflow.set_experiment('Prediction using SVC')"
   ]
  },
  {
   "cell_type": "code",
   "execution_count": 57,
   "metadata": {},
   "outputs": [
    {
     "name": "stdout",
     "output_type": "stream",
     "text": [
      "Experiment_id: 2\n",
      "Artifact Location: file:///home/carolina/Documents/Projeto-If697/mlruns/2\n",
      "Tags: {}\n",
      "Lifecycle_stage: active\n"
     ]
    }
   ],
   "source": [
    "experiment = mlflow.get_experiment_by_name('Prediction using SVC')\n",
    "print(\"Experiment_id: {}\".format(experiment.experiment_id))\n",
    "print(\"Artifact Location: {}\".format(experiment.artifact_location))\n",
    "print(\"Tags: {}\".format(experiment.tags))\n",
    "print(\"Lifecycle_stage: {}\".format(experiment.lifecycle_stage))"
   ]
  },
  {
   "cell_type": "code",
   "execution_count": 58,
   "metadata": {},
   "outputs": [],
   "source": [
    "for i in range(len(study.trials)):\n",
    "    with mlflow.start_run(experiment_id=2, run_name='svc run '+ str(i)):\n",
    "        mlflow.log_params(study.trials[i].params)\n",
    "        metrics = {'accuracy': study.trials[i].value}\n",
    "        mlflow.log_metrics(metrics)\n",
    "        "
   ]
  },
  {
   "cell_type": "markdown",
   "metadata": {},
   "source": [
    "## Decision tree"
   ]
  },
  {
   "cell_type": "markdown",
   "metadata": {},
   "source": [
    "Decision Tree Hiperparâmetros\n",
    "\n",
    "Parâmetros escolhidos: max_depth, min_samples_split, min_samples_leaf\n"
   ]
  },
  {
   "cell_type": "code",
   "execution_count": 51,
   "metadata": {},
   "outputs": [],
   "source": [
    "def objective_tree(trial):\n",
    "    max_depth = trial.suggest_int(\"max_depth\", 1, 15, 1)\n",
    "    leaf = trial.suggest_int('min_samples_leaf', 3, 15, 1)\n",
    "    split = trial.suggest_int('min_samples_split', 3, 15, 1)\n",
    "    clf = DecisionTreeClassifier(max_depth=max_depth, min_samples_leaf=leaf, min_samples_split=split)\n",
    "    clf.fit(X_train, Y_train)\n",
    "    \n",
    "    y_pred = clf.predict(X_val)\n",
    "    \n",
    "    accuracy = accuracy_score(Y_val,y_pred)\n",
    "    #precision = precision_score(Y_val,y_pred)\n",
    "    #recall = recall_score(Y_val,y_pred)\n",
    "    #f1 = f1_score(Y_val,y_pred)\n",
    "\n",
    "    return accuracy"
   ]
  },
  {
   "cell_type": "code",
   "execution_count": 52,
   "metadata": {},
   "outputs": [
    {
     "name": "stderr",
     "output_type": "stream",
     "text": [
      "\u001b[32m[I 2020-11-14 21:02:02,666]\u001b[0m A new study created in memory with name: no-name-0e3d437f-e806-4063-b307-4dc7f3f53669\u001b[0m\n",
      "\u001b[32m[I 2020-11-14 21:02:03,142]\u001b[0m Trial 0 finished with value: 0.9007203667321545 and parameters: {'max_depth': 7, 'min_samples_leaf': 4, 'min_samples_split': 8}. Best is trial 0 with value: 0.9007203667321545.\u001b[0m\n",
      "\u001b[32m[I 2020-11-14 21:02:03,172]\u001b[0m Trial 1 finished with value: 0.8960052390307793 and parameters: {'max_depth': 11, 'min_samples_leaf': 9, 'min_samples_split': 15}. Best is trial 0 with value: 0.9007203667321545.\u001b[0m\n",
      "\u001b[32m[I 2020-11-14 21:02:03,175]\u001b[0m Trial 3 finished with value: 0.8982318271119842 and parameters: {'max_depth': 10, 'min_samples_leaf': 13, 'min_samples_split': 12}. Best is trial 0 with value: 0.9007203667321545.\u001b[0m\n",
      "\u001b[32m[I 2020-11-14 21:02:03,184]\u001b[0m Trial 2 finished with value: 0.9007203667321545 and parameters: {'max_depth': 9, 'min_samples_leaf': 6, 'min_samples_split': 9}. Best is trial 0 with value: 0.9007203667321545.\u001b[0m\n",
      "\u001b[32m[I 2020-11-14 21:02:03,213]\u001b[0m Trial 4 finished with value: 0.8548788474132285 and parameters: {'max_depth': 2, 'min_samples_leaf': 8, 'min_samples_split': 15}. Best is trial 0 with value: 0.9007203667321545.\u001b[0m\n",
      "\u001b[32m[I 2020-11-14 21:02:03,245]\u001b[0m Trial 5 finished with value: 0.8977079240340538 and parameters: {'max_depth': 6, 'min_samples_leaf': 8, 'min_samples_split': 11}. Best is trial 0 with value: 0.9007203667321545.\u001b[0m\n",
      "\u001b[32m[I 2020-11-14 21:02:03,274]\u001b[0m Trial 7 finished with value: 0.8548788474132285 and parameters: {'max_depth': 2, 'min_samples_leaf': 12, 'min_samples_split': 9}. Best is trial 0 with value: 0.9007203667321545.\u001b[0m\n",
      "\u001b[32m[I 2020-11-14 21:02:03,300]\u001b[0m Trial 8 finished with value: 0.8986247544204322 and parameters: {'max_depth': 8, 'min_samples_leaf': 7, 'min_samples_split': 6}. Best is trial 0 with value: 0.9007203667321545.\u001b[0m\n",
      "\u001b[32m[I 2020-11-14 21:02:03,333]\u001b[0m Trial 6 finished with value: 0.897969875573019 and parameters: {'max_depth': 10, 'min_samples_leaf': 11, 'min_samples_split': 10}. Best is trial 0 with value: 0.9007203667321545.\u001b[0m\n",
      "\u001b[32m[I 2020-11-14 21:02:03,336]\u001b[0m Trial 9 finished with value: 0.9007203667321545 and parameters: {'max_depth': 7, 'min_samples_leaf': 11, 'min_samples_split': 13}. Best is trial 0 with value: 0.9007203667321545.\u001b[0m\n",
      "\u001b[32m[I 2020-11-14 21:02:03,415]\u001b[0m Trial 11 finished with value: 0.8814669286182056 and parameters: {'max_depth': 4, 'min_samples_leaf': 11, 'min_samples_split': 4}. Best is trial 0 with value: 0.9007203667321545.\u001b[0m\n",
      "\u001b[32m[I 2020-11-14 21:02:03,461]\u001b[0m Trial 10 finished with value: 0.8960052390307793 and parameters: {'max_depth': 11, 'min_samples_leaf': 7, 'min_samples_split': 7}. Best is trial 0 with value: 0.9007203667321545.\u001b[0m\n",
      "\u001b[32m[I 2020-11-14 21:02:03,538]\u001b[0m Trial 12 finished with value: 0.8851342501637197 and parameters: {'max_depth': 15, 'min_samples_leaf': 3, 'min_samples_split': 5}. Best is trial 0 with value: 0.9007203667321545.\u001b[0m\n",
      "\u001b[32m[I 2020-11-14 21:02:03,540]\u001b[0m Trial 13 finished with value: 0.885396201702685 and parameters: {'max_depth': 13, 'min_samples_leaf': 3, 'min_samples_split': 4}. Best is trial 0 with value: 0.9007203667321545.\u001b[0m\n",
      "\u001b[32m[I 2020-11-14 21:02:03,642]\u001b[0m Trial 14 finished with value: 0.8835625409299279 and parameters: {'max_depth': 15, 'min_samples_leaf': 3, 'min_samples_split': 6}. Best is trial 0 with value: 0.9007203667321545.\u001b[0m\n",
      "\u001b[32m[I 2020-11-14 21:02:03,656]\u001b[0m Trial 15 finished with value: 0.8857891290111329 and parameters: {'max_depth': 13, 'min_samples_leaf': 3, 'min_samples_split': 7}. Best is trial 0 with value: 0.9007203667321545.\u001b[0m\n",
      "\u001b[32m[I 2020-11-14 21:02:03,742]\u001b[0m Trial 16 finished with value: 0.8982318271119842 and parameters: {'max_depth': 5, 'min_samples_leaf': 5, 'min_samples_split': 8}. Best is trial 0 with value: 0.9007203667321545.\u001b[0m\n",
      "\u001b[32m[I 2020-11-14 21:02:03,759]\u001b[0m Trial 17 finished with value: 0.8982318271119842 and parameters: {'max_depth': 5, 'min_samples_leaf': 5, 'min_samples_split': 8}. Best is trial 0 with value: 0.9007203667321545.\u001b[0m\n",
      "\u001b[32m[I 2020-11-14 21:02:03,781]\u001b[0m Trial 18 finished with value: 0.8982318271119842 and parameters: {'max_depth': 5, 'min_samples_leaf': 5, 'min_samples_split': 8}. Best is trial 0 with value: 0.9007203667321545.\u001b[0m\n",
      "\u001b[32m[I 2020-11-14 21:02:03,783]\u001b[0m Trial 19 finished with value: 0.8982318271119842 and parameters: {'max_depth': 5, 'min_samples_leaf': 5, 'min_samples_split': 8}. Best is trial 0 with value: 0.9007203667321545.\u001b[0m\n"
     ]
    }
   ],
   "source": [
    "study_tree = optuna.create_study(direction=\"maximize\")\n",
    "study_tree.optimize(objective_tree, n_trials=20, n_jobs=-1)"
   ]
  },
  {
   "cell_type": "code",
   "execution_count": 53,
   "metadata": {},
   "outputs": [
    {
     "data": {
      "text/html": [
       "<div>\n",
       "<style scoped>\n",
       "    .dataframe tbody tr th:only-of-type {\n",
       "        vertical-align: middle;\n",
       "    }\n",
       "\n",
       "    .dataframe tbody tr th {\n",
       "        vertical-align: top;\n",
       "    }\n",
       "\n",
       "    .dataframe thead th {\n",
       "        text-align: right;\n",
       "    }\n",
       "</style>\n",
       "<table border=\"1\" class=\"dataframe\">\n",
       "  <thead>\n",
       "    <tr style=\"text-align: right;\">\n",
       "      <th></th>\n",
       "      <th>number</th>\n",
       "      <th>value</th>\n",
       "      <th>datetime_start</th>\n",
       "      <th>datetime_complete</th>\n",
       "      <th>duration</th>\n",
       "      <th>params_max_depth</th>\n",
       "      <th>params_min_samples_leaf</th>\n",
       "      <th>params_min_samples_split</th>\n",
       "      <th>state</th>\n",
       "    </tr>\n",
       "  </thead>\n",
       "  <tbody>\n",
       "    <tr>\n",
       "      <th>0</th>\n",
       "      <td>0</td>\n",
       "      <td>0.900720</td>\n",
       "      <td>2020-11-14 21:02:02.677973</td>\n",
       "      <td>2020-11-14 21:02:03.141998</td>\n",
       "      <td>0 days 00:00:00.464025</td>\n",
       "      <td>7</td>\n",
       "      <td>4</td>\n",
       "      <td>8</td>\n",
       "      <td>COMPLETE</td>\n",
       "    </tr>\n",
       "    <tr>\n",
       "      <th>1</th>\n",
       "      <td>1</td>\n",
       "      <td>0.896005</td>\n",
       "      <td>2020-11-14 21:02:02.682216</td>\n",
       "      <td>2020-11-14 21:02:03.171634</td>\n",
       "      <td>0 days 00:00:00.489418</td>\n",
       "      <td>11</td>\n",
       "      <td>9</td>\n",
       "      <td>15</td>\n",
       "      <td>COMPLETE</td>\n",
       "    </tr>\n",
       "    <tr>\n",
       "      <th>2</th>\n",
       "      <td>2</td>\n",
       "      <td>0.900720</td>\n",
       "      <td>2020-11-14 21:02:02.687872</td>\n",
       "      <td>2020-11-14 21:02:03.183791</td>\n",
       "      <td>0 days 00:00:00.495919</td>\n",
       "      <td>9</td>\n",
       "      <td>6</td>\n",
       "      <td>9</td>\n",
       "      <td>COMPLETE</td>\n",
       "    </tr>\n",
       "    <tr>\n",
       "      <th>3</th>\n",
       "      <td>3</td>\n",
       "      <td>0.898232</td>\n",
       "      <td>2020-11-14 21:02:02.693322</td>\n",
       "      <td>2020-11-14 21:02:03.174660</td>\n",
       "      <td>0 days 00:00:00.481338</td>\n",
       "      <td>10</td>\n",
       "      <td>13</td>\n",
       "      <td>12</td>\n",
       "      <td>COMPLETE</td>\n",
       "    </tr>\n",
       "    <tr>\n",
       "      <th>4</th>\n",
       "      <td>4</td>\n",
       "      <td>0.854879</td>\n",
       "      <td>2020-11-14 21:02:03.146261</td>\n",
       "      <td>2020-11-14 21:02:03.212573</td>\n",
       "      <td>0 days 00:00:00.066312</td>\n",
       "      <td>2</td>\n",
       "      <td>8</td>\n",
       "      <td>15</td>\n",
       "      <td>COMPLETE</td>\n",
       "    </tr>\n",
       "    <tr>\n",
       "      <th>5</th>\n",
       "      <td>5</td>\n",
       "      <td>0.897708</td>\n",
       "      <td>2020-11-14 21:02:03.180832</td>\n",
       "      <td>2020-11-14 21:02:03.243950</td>\n",
       "      <td>0 days 00:00:00.063118</td>\n",
       "      <td>6</td>\n",
       "      <td>8</td>\n",
       "      <td>11</td>\n",
       "      <td>COMPLETE</td>\n",
       "    </tr>\n",
       "    <tr>\n",
       "      <th>6</th>\n",
       "      <td>6</td>\n",
       "      <td>0.897970</td>\n",
       "      <td>2020-11-14 21:02:03.191134</td>\n",
       "      <td>2020-11-14 21:02:03.332780</td>\n",
       "      <td>0 days 00:00:00.141646</td>\n",
       "      <td>10</td>\n",
       "      <td>11</td>\n",
       "      <td>10</td>\n",
       "      <td>COMPLETE</td>\n",
       "    </tr>\n",
       "    <tr>\n",
       "      <th>7</th>\n",
       "      <td>7</td>\n",
       "      <td>0.854879</td>\n",
       "      <td>2020-11-14 21:02:03.197259</td>\n",
       "      <td>2020-11-14 21:02:03.274186</td>\n",
       "      <td>0 days 00:00:00.076927</td>\n",
       "      <td>2</td>\n",
       "      <td>12</td>\n",
       "      <td>9</td>\n",
       "      <td>COMPLETE</td>\n",
       "    </tr>\n",
       "    <tr>\n",
       "      <th>8</th>\n",
       "      <td>8</td>\n",
       "      <td>0.898625</td>\n",
       "      <td>2020-11-14 21:02:03.223860</td>\n",
       "      <td>2020-11-14 21:02:03.299891</td>\n",
       "      <td>0 days 00:00:00.076031</td>\n",
       "      <td>8</td>\n",
       "      <td>7</td>\n",
       "      <td>6</td>\n",
       "      <td>COMPLETE</td>\n",
       "    </tr>\n",
       "    <tr>\n",
       "      <th>9</th>\n",
       "      <td>9</td>\n",
       "      <td>0.900720</td>\n",
       "      <td>2020-11-14 21:02:03.254347</td>\n",
       "      <td>2020-11-14 21:02:03.336463</td>\n",
       "      <td>0 days 00:00:00.082116</td>\n",
       "      <td>7</td>\n",
       "      <td>11</td>\n",
       "      <td>13</td>\n",
       "      <td>COMPLETE</td>\n",
       "    </tr>\n",
       "    <tr>\n",
       "      <th>10</th>\n",
       "      <td>10</td>\n",
       "      <td>0.896005</td>\n",
       "      <td>2020-11-14 21:02:03.294327</td>\n",
       "      <td>2020-11-14 21:02:03.460563</td>\n",
       "      <td>0 days 00:00:00.166236</td>\n",
       "      <td>11</td>\n",
       "      <td>7</td>\n",
       "      <td>7</td>\n",
       "      <td>COMPLETE</td>\n",
       "    </tr>\n",
       "    <tr>\n",
       "      <th>11</th>\n",
       "      <td>11</td>\n",
       "      <td>0.881467</td>\n",
       "      <td>2020-11-14 21:02:03.305788</td>\n",
       "      <td>2020-11-14 21:02:03.414921</td>\n",
       "      <td>0 days 00:00:00.109133</td>\n",
       "      <td>4</td>\n",
       "      <td>11</td>\n",
       "      <td>4</td>\n",
       "      <td>COMPLETE</td>\n",
       "    </tr>\n",
       "    <tr>\n",
       "      <th>12</th>\n",
       "      <td>12</td>\n",
       "      <td>0.885134</td>\n",
       "      <td>2020-11-14 21:02:03.340983</td>\n",
       "      <td>2020-11-14 21:02:03.537583</td>\n",
       "      <td>0 days 00:00:00.196600</td>\n",
       "      <td>15</td>\n",
       "      <td>3</td>\n",
       "      <td>5</td>\n",
       "      <td>COMPLETE</td>\n",
       "    </tr>\n",
       "    <tr>\n",
       "      <th>13</th>\n",
       "      <td>13</td>\n",
       "      <td>0.885396</td>\n",
       "      <td>2020-11-14 21:02:03.362512</td>\n",
       "      <td>2020-11-14 21:02:03.539584</td>\n",
       "      <td>0 days 00:00:00.177072</td>\n",
       "      <td>13</td>\n",
       "      <td>3</td>\n",
       "      <td>4</td>\n",
       "      <td>COMPLETE</td>\n",
       "    </tr>\n",
       "    <tr>\n",
       "      <th>14</th>\n",
       "      <td>14</td>\n",
       "      <td>0.883563</td>\n",
       "      <td>2020-11-14 21:02:03.419409</td>\n",
       "      <td>2020-11-14 21:02:03.642095</td>\n",
       "      <td>0 days 00:00:00.222686</td>\n",
       "      <td>15</td>\n",
       "      <td>3</td>\n",
       "      <td>6</td>\n",
       "      <td>COMPLETE</td>\n",
       "    </tr>\n",
       "    <tr>\n",
       "      <th>15</th>\n",
       "      <td>15</td>\n",
       "      <td>0.885789</td>\n",
       "      <td>2020-11-14 21:02:03.477746</td>\n",
       "      <td>2020-11-14 21:02:03.656312</td>\n",
       "      <td>0 days 00:00:00.178566</td>\n",
       "      <td>13</td>\n",
       "      <td>3</td>\n",
       "      <td>7</td>\n",
       "      <td>COMPLETE</td>\n",
       "    </tr>\n",
       "    <tr>\n",
       "      <th>16</th>\n",
       "      <td>16</td>\n",
       "      <td>0.898232</td>\n",
       "      <td>2020-11-14 21:02:03.544253</td>\n",
       "      <td>2020-11-14 21:02:03.741970</td>\n",
       "      <td>0 days 00:00:00.197717</td>\n",
       "      <td>5</td>\n",
       "      <td>5</td>\n",
       "      <td>8</td>\n",
       "      <td>COMPLETE</td>\n",
       "    </tr>\n",
       "    <tr>\n",
       "      <th>17</th>\n",
       "      <td>17</td>\n",
       "      <td>0.898232</td>\n",
       "      <td>2020-11-14 21:02:03.547061</td>\n",
       "      <td>2020-11-14 21:02:03.758016</td>\n",
       "      <td>0 days 00:00:00.210955</td>\n",
       "      <td>5</td>\n",
       "      <td>5</td>\n",
       "      <td>8</td>\n",
       "      <td>COMPLETE</td>\n",
       "    </tr>\n",
       "    <tr>\n",
       "      <th>18</th>\n",
       "      <td>18</td>\n",
       "      <td>0.898232</td>\n",
       "      <td>2020-11-14 21:02:03.663008</td>\n",
       "      <td>2020-11-14 21:02:03.781577</td>\n",
       "      <td>0 days 00:00:00.118569</td>\n",
       "      <td>5</td>\n",
       "      <td>5</td>\n",
       "      <td>8</td>\n",
       "      <td>COMPLETE</td>\n",
       "    </tr>\n",
       "    <tr>\n",
       "      <th>19</th>\n",
       "      <td>19</td>\n",
       "      <td>0.898232</td>\n",
       "      <td>2020-11-14 21:02:03.665054</td>\n",
       "      <td>2020-11-14 21:02:03.783537</td>\n",
       "      <td>0 days 00:00:00.118483</td>\n",
       "      <td>5</td>\n",
       "      <td>5</td>\n",
       "      <td>8</td>\n",
       "      <td>COMPLETE</td>\n",
       "    </tr>\n",
       "  </tbody>\n",
       "</table>\n",
       "</div>"
      ],
      "text/plain": [
       "    number     value             datetime_start          datetime_complete  \\\n",
       "0        0  0.900720 2020-11-14 21:02:02.677973 2020-11-14 21:02:03.141998   \n",
       "1        1  0.896005 2020-11-14 21:02:02.682216 2020-11-14 21:02:03.171634   \n",
       "2        2  0.900720 2020-11-14 21:02:02.687872 2020-11-14 21:02:03.183791   \n",
       "3        3  0.898232 2020-11-14 21:02:02.693322 2020-11-14 21:02:03.174660   \n",
       "4        4  0.854879 2020-11-14 21:02:03.146261 2020-11-14 21:02:03.212573   \n",
       "5        5  0.897708 2020-11-14 21:02:03.180832 2020-11-14 21:02:03.243950   \n",
       "6        6  0.897970 2020-11-14 21:02:03.191134 2020-11-14 21:02:03.332780   \n",
       "7        7  0.854879 2020-11-14 21:02:03.197259 2020-11-14 21:02:03.274186   \n",
       "8        8  0.898625 2020-11-14 21:02:03.223860 2020-11-14 21:02:03.299891   \n",
       "9        9  0.900720 2020-11-14 21:02:03.254347 2020-11-14 21:02:03.336463   \n",
       "10      10  0.896005 2020-11-14 21:02:03.294327 2020-11-14 21:02:03.460563   \n",
       "11      11  0.881467 2020-11-14 21:02:03.305788 2020-11-14 21:02:03.414921   \n",
       "12      12  0.885134 2020-11-14 21:02:03.340983 2020-11-14 21:02:03.537583   \n",
       "13      13  0.885396 2020-11-14 21:02:03.362512 2020-11-14 21:02:03.539584   \n",
       "14      14  0.883563 2020-11-14 21:02:03.419409 2020-11-14 21:02:03.642095   \n",
       "15      15  0.885789 2020-11-14 21:02:03.477746 2020-11-14 21:02:03.656312   \n",
       "16      16  0.898232 2020-11-14 21:02:03.544253 2020-11-14 21:02:03.741970   \n",
       "17      17  0.898232 2020-11-14 21:02:03.547061 2020-11-14 21:02:03.758016   \n",
       "18      18  0.898232 2020-11-14 21:02:03.663008 2020-11-14 21:02:03.781577   \n",
       "19      19  0.898232 2020-11-14 21:02:03.665054 2020-11-14 21:02:03.783537   \n",
       "\n",
       "                 duration  params_max_depth  params_min_samples_leaf  \\\n",
       "0  0 days 00:00:00.464025                 7                        4   \n",
       "1  0 days 00:00:00.489418                11                        9   \n",
       "2  0 days 00:00:00.495919                 9                        6   \n",
       "3  0 days 00:00:00.481338                10                       13   \n",
       "4  0 days 00:00:00.066312                 2                        8   \n",
       "5  0 days 00:00:00.063118                 6                        8   \n",
       "6  0 days 00:00:00.141646                10                       11   \n",
       "7  0 days 00:00:00.076927                 2                       12   \n",
       "8  0 days 00:00:00.076031                 8                        7   \n",
       "9  0 days 00:00:00.082116                 7                       11   \n",
       "10 0 days 00:00:00.166236                11                        7   \n",
       "11 0 days 00:00:00.109133                 4                       11   \n",
       "12 0 days 00:00:00.196600                15                        3   \n",
       "13 0 days 00:00:00.177072                13                        3   \n",
       "14 0 days 00:00:00.222686                15                        3   \n",
       "15 0 days 00:00:00.178566                13                        3   \n",
       "16 0 days 00:00:00.197717                 5                        5   \n",
       "17 0 days 00:00:00.210955                 5                        5   \n",
       "18 0 days 00:00:00.118569                 5                        5   \n",
       "19 0 days 00:00:00.118483                 5                        5   \n",
       "\n",
       "    params_min_samples_split     state  \n",
       "0                          8  COMPLETE  \n",
       "1                         15  COMPLETE  \n",
       "2                          9  COMPLETE  \n",
       "3                         12  COMPLETE  \n",
       "4                         15  COMPLETE  \n",
       "5                         11  COMPLETE  \n",
       "6                         10  COMPLETE  \n",
       "7                          9  COMPLETE  \n",
       "8                          6  COMPLETE  \n",
       "9                         13  COMPLETE  \n",
       "10                         7  COMPLETE  \n",
       "11                         4  COMPLETE  \n",
       "12                         5  COMPLETE  \n",
       "13                         4  COMPLETE  \n",
       "14                         6  COMPLETE  \n",
       "15                         7  COMPLETE  \n",
       "16                         8  COMPLETE  \n",
       "17                         8  COMPLETE  \n",
       "18                         8  COMPLETE  \n",
       "19                         8  COMPLETE  "
      ]
     },
     "execution_count": 53,
     "metadata": {},
     "output_type": "execute_result"
    }
   ],
   "source": [
    "study_tree.trials_dataframe()"
   ]
  },
  {
   "cell_type": "code",
   "execution_count": 54,
   "metadata": {},
   "outputs": [
    {
     "name": "stdout",
     "output_type": "stream",
     "text": [
      "INFO: 'Prediction using decision tree' does not exist. Creating a new experiment\n"
     ]
    }
   ],
   "source": [
    "mlflow.set_experiment('Prediction using decision tree')"
   ]
  },
  {
   "cell_type": "code",
   "execution_count": 55,
   "metadata": {},
   "outputs": [
    {
     "name": "stdout",
     "output_type": "stream",
     "text": [
      "Experiment_id: 3\n",
      "Artifact Location: file:///home/carolina/Documents/Projeto-If697/mlruns/3\n",
      "Tags: {}\n",
      "Lifecycle_stage: active\n"
     ]
    }
   ],
   "source": [
    "experiment = mlflow.get_experiment_by_name('Prediction using decision tree')\n",
    "print(\"Experiment_id: {}\".format(experiment.experiment_id))\n",
    "print(\"Artifact Location: {}\".format(experiment.artifact_location))\n",
    "print(\"Tags: {}\".format(experiment.tags))\n",
    "print(\"Lifecycle_stage: {}\".format(experiment.lifecycle_stage))"
   ]
  },
  {
   "cell_type": "code",
   "execution_count": 59,
   "metadata": {},
   "outputs": [],
   "source": [
    "for i in range(len(study_tree.trials)):\n",
    "    with mlflow.start_run(experiment_id=3, run_name='decision tree run '+ str(i)):\n",
    "        mlflow.log_params(study_tree.trials[i].params)\n",
    "        metrics = {'accuracy': study_tree.trials[i].value}\n",
    "        mlflow.log_metrics(metrics)\n",
    "        "
   ]
  },
  {
   "cell_type": "markdown",
   "metadata": {},
   "source": [
    "## Random Forest"
   ]
  },
  {
   "cell_type": "markdown",
   "metadata": {},
   "source": [
    "Random Forest Hiperparâmetros\n",
    "\n",
    "*Random Forest tem os mesmos parâmetros da árvore de decisão então decidi manter também os mesmo valores\n",
    "\n",
    "Parâmetros escolhidos: max_depth, min_samples_split, min_samples_leaf\n"
   ]
  },
  {
   "cell_type": "code",
   "execution_count": 60,
   "metadata": {},
   "outputs": [],
   "source": [
    "def objective_forest(trial):\n",
    "    max_depth = trial.suggest_int(\"max_depth\", 1, 15, 1)\n",
    "    leaf = trial.suggest_int('min_samples_leaf', 3, 10, 1)\n",
    "    split = trial.suggest_int('min_samples_split', 3, 10, 1)\n",
    "    clf = RandomForestClassifier(max_depth=max_depth, min_samples_leaf=leaf, min_samples_split=split)\n",
    "    clf.fit(X_train, Y_train)\n",
    "    \n",
    "    y_pred = clf.predict(X_val)\n",
    "    \n",
    "    accuracy = accuracy_score(Y_val,y_pred)\n",
    "    #precision = precision_score(Y_val,y_pred)\n",
    "    #recall = recall_score(Y_val,y_pred)\n",
    "    #f1 = f1_score(Y_val,y_pred)\n",
    "\n",
    "    return accuracy"
   ]
  },
  {
   "cell_type": "code",
   "execution_count": 61,
   "metadata": {},
   "outputs": [
    {
     "name": "stderr",
     "output_type": "stream",
     "text": [
      "\u001b[32m[I 2020-11-14 21:08:03,227]\u001b[0m A new study created in memory with name: no-name-748358e6-db71-40f6-9aa3-fd25c573ddfc\u001b[0m\n",
      "\u001b[32m[I 2020-11-14 21:08:04,623]\u001b[0m Trial 1 finished with value: 0.8548788474132285 and parameters: {'max_depth': 1, 'min_samples_leaf': 5, 'min_samples_split': 6}. Best is trial 1 with value: 0.8548788474132285.\u001b[0m\n",
      "\u001b[32m[I 2020-11-14 21:08:05,503]\u001b[0m Trial 2 finished with value: 0.902030124426981 and parameters: {'max_depth': 6, 'min_samples_leaf': 10, 'min_samples_split': 8}. Best is trial 2 with value: 0.902030124426981.\u001b[0m\n",
      "\u001b[32m[I 2020-11-14 21:08:05,804]\u001b[0m Trial 3 finished with value: 0.9038637851997381 and parameters: {'max_depth': 8, 'min_samples_leaf': 5, 'min_samples_split': 7}. Best is trial 3 with value: 0.9038637851997381.\u001b[0m\n",
      "\u001b[32m[I 2020-11-14 21:08:06,344]\u001b[0m Trial 0 finished with value: 0.9028159790438769 and parameters: {'max_depth': 15, 'min_samples_leaf': 5, 'min_samples_split': 10}. Best is trial 3 with value: 0.9038637851997381.\u001b[0m\n",
      "\u001b[32m[I 2020-11-14 21:08:06,665]\u001b[0m Trial 4 finished with value: 0.8944335297969875 and parameters: {'max_depth': 5, 'min_samples_leaf': 10, 'min_samples_split': 3}. Best is trial 3 with value: 0.9038637851997381.\u001b[0m\n",
      "\u001b[32m[I 2020-11-14 21:08:07,639]\u001b[0m Trial 5 finished with value: 0.897576948264571 and parameters: {'max_depth': 6, 'min_samples_leaf': 4, 'min_samples_split': 8}. Best is trial 3 with value: 0.9038637851997381.\u001b[0m\n",
      "\u001b[32m[I 2020-11-14 21:08:08,325]\u001b[0m Trial 6 finished with value: 0.9046496398166339 and parameters: {'max_depth': 10, 'min_samples_leaf': 9, 'min_samples_split': 8}. Best is trial 6 with value: 0.9046496398166339.\u001b[0m\n",
      "\u001b[32m[I 2020-11-14 21:08:08,460]\u001b[0m Trial 7 finished with value: 0.8991486574983628 and parameters: {'max_depth': 6, 'min_samples_leaf': 10, 'min_samples_split': 4}. Best is trial 6 with value: 0.9046496398166339.\u001b[0m\n",
      "\u001b[32m[I 2020-11-14 21:08:09,047]\u001b[0m Trial 8 finished with value: 0.9045186640471513 and parameters: {'max_depth': 8, 'min_samples_leaf': 3, 'min_samples_split': 5}. Best is trial 6 with value: 0.9046496398166339.\u001b[0m\n",
      "\u001b[32m[I 2020-11-14 21:08:10,216]\u001b[0m Trial 10 finished with value: 0.8956123117223314 and parameters: {'max_depth': 5, 'min_samples_leaf': 10, 'min_samples_split': 9}. Best is trial 6 with value: 0.9046496398166339.\u001b[0m\n",
      "\u001b[32m[I 2020-11-14 21:08:10,455]\u001b[0m Trial 9 finished with value: 0.9033398821218075 and parameters: {'max_depth': 13, 'min_samples_leaf': 7, 'min_samples_split': 6}. Best is trial 6 with value: 0.9046496398166339.\u001b[0m\n",
      "\u001b[32m[I 2020-11-14 21:08:10,897]\u001b[0m Trial 11 finished with value: 0.9070072036673216 and parameters: {'max_depth': 9, 'min_samples_leaf': 7, 'min_samples_split': 10}. Best is trial 11 with value: 0.9070072036673216.\u001b[0m\n",
      "\u001b[32m[I 2020-11-14 21:08:11,760]\u001b[0m Trial 12 finished with value: 0.9045186640471513 and parameters: {'max_depth': 15, 'min_samples_leaf': 10, 'min_samples_split': 10}. Best is trial 11 with value: 0.9070072036673216.\u001b[0m\n",
      "\u001b[32m[I 2020-11-14 21:08:12,869]\u001b[0m Trial 14 finished with value: 0.9049115913555992 and parameters: {'max_depth': 10, 'min_samples_leaf': 8, 'min_samples_split': 5}. Best is trial 11 with value: 0.9070072036673216.\u001b[0m\n",
      "\u001b[32m[I 2020-11-14 21:08:13,065]\u001b[0m Trial 13 finished with value: 0.9037328094302554 and parameters: {'max_depth': 13, 'min_samples_leaf': 8, 'min_samples_split': 10}. Best is trial 11 with value: 0.9070072036673216.\u001b[0m\n",
      "\u001b[32m[I 2020-11-14 21:08:13,580]\u001b[0m Trial 15 finished with value: 0.9029469548133595 and parameters: {'max_depth': 12, 'min_samples_leaf': 8, 'min_samples_split': 10}. Best is trial 11 with value: 0.9070072036673216.\u001b[0m\n",
      "\u001b[32m[I 2020-11-14 21:08:14,401]\u001b[0m Trial 16 finished with value: 0.9056974459724951 and parameters: {'max_depth': 11, 'min_samples_leaf': 8, 'min_samples_split': 9}. Best is trial 11 with value: 0.9070072036673216.\u001b[0m\n",
      "\u001b[32m[I 2020-11-14 21:08:15,321]\u001b[0m Trial 18 finished with value: 0.904256712508186 and parameters: {'max_depth': 11, 'min_samples_leaf': 7, 'min_samples_split': 4}. Best is trial 11 with value: 0.9070072036673216.\u001b[0m\n",
      "\u001b[32m[I 2020-11-14 21:08:15,344]\u001b[0m Trial 17 finished with value: 0.904256712508186 and parameters: {'max_depth': 11, 'min_samples_leaf': 8, 'min_samples_split': 4}. Best is trial 11 with value: 0.9070072036673216.\u001b[0m\n",
      "\u001b[32m[I 2020-11-14 21:08:15,554]\u001b[0m Trial 19 finished with value: 0.9037328094302554 and parameters: {'max_depth': 10, 'min_samples_leaf': 7, 'min_samples_split': 4}. Best is trial 11 with value: 0.9070072036673216.\u001b[0m\n"
     ]
    }
   ],
   "source": [
    "study_forest = optuna.create_study(direction=\"maximize\")\n",
    "study_forest.optimize(objective_forest, n_trials=20, n_jobs=-1)"
   ]
  },
  {
   "cell_type": "code",
   "execution_count": 62,
   "metadata": {},
   "outputs": [
    {
     "data": {
      "text/html": [
       "<div>\n",
       "<style scoped>\n",
       "    .dataframe tbody tr th:only-of-type {\n",
       "        vertical-align: middle;\n",
       "    }\n",
       "\n",
       "    .dataframe tbody tr th {\n",
       "        vertical-align: top;\n",
       "    }\n",
       "\n",
       "    .dataframe thead th {\n",
       "        text-align: right;\n",
       "    }\n",
       "</style>\n",
       "<table border=\"1\" class=\"dataframe\">\n",
       "  <thead>\n",
       "    <tr style=\"text-align: right;\">\n",
       "      <th></th>\n",
       "      <th>number</th>\n",
       "      <th>value</th>\n",
       "      <th>datetime_start</th>\n",
       "      <th>datetime_complete</th>\n",
       "      <th>duration</th>\n",
       "      <th>params_max_depth</th>\n",
       "      <th>params_min_samples_leaf</th>\n",
       "      <th>params_min_samples_split</th>\n",
       "      <th>state</th>\n",
       "    </tr>\n",
       "  </thead>\n",
       "  <tbody>\n",
       "    <tr>\n",
       "      <th>0</th>\n",
       "      <td>0</td>\n",
       "      <td>0.902816</td>\n",
       "      <td>2020-11-14 21:08:03.242272</td>\n",
       "      <td>2020-11-14 21:08:06.344077</td>\n",
       "      <td>0 days 00:00:03.101805</td>\n",
       "      <td>15</td>\n",
       "      <td>5</td>\n",
       "      <td>10</td>\n",
       "      <td>COMPLETE</td>\n",
       "    </tr>\n",
       "    <tr>\n",
       "      <th>1</th>\n",
       "      <td>1</td>\n",
       "      <td>0.854879</td>\n",
       "      <td>2020-11-14 21:08:03.245897</td>\n",
       "      <td>2020-11-14 21:08:04.622726</td>\n",
       "      <td>0 days 00:00:01.376829</td>\n",
       "      <td>1</td>\n",
       "      <td>5</td>\n",
       "      <td>6</td>\n",
       "      <td>COMPLETE</td>\n",
       "    </tr>\n",
       "    <tr>\n",
       "      <th>2</th>\n",
       "      <td>2</td>\n",
       "      <td>0.902030</td>\n",
       "      <td>2020-11-14 21:08:03.251435</td>\n",
       "      <td>2020-11-14 21:08:05.502807</td>\n",
       "      <td>0 days 00:00:02.251372</td>\n",
       "      <td>6</td>\n",
       "      <td>10</td>\n",
       "      <td>8</td>\n",
       "      <td>COMPLETE</td>\n",
       "    </tr>\n",
       "    <tr>\n",
       "      <th>3</th>\n",
       "      <td>3</td>\n",
       "      <td>0.903864</td>\n",
       "      <td>2020-11-14 21:08:03.260079</td>\n",
       "      <td>2020-11-14 21:08:05.804371</td>\n",
       "      <td>0 days 00:00:02.544292</td>\n",
       "      <td>8</td>\n",
       "      <td>5</td>\n",
       "      <td>7</td>\n",
       "      <td>COMPLETE</td>\n",
       "    </tr>\n",
       "    <tr>\n",
       "      <th>4</th>\n",
       "      <td>4</td>\n",
       "      <td>0.894434</td>\n",
       "      <td>2020-11-14 21:08:04.625824</td>\n",
       "      <td>2020-11-14 21:08:06.665036</td>\n",
       "      <td>0 days 00:00:02.039212</td>\n",
       "      <td>5</td>\n",
       "      <td>10</td>\n",
       "      <td>3</td>\n",
       "      <td>COMPLETE</td>\n",
       "    </tr>\n",
       "    <tr>\n",
       "      <th>5</th>\n",
       "      <td>5</td>\n",
       "      <td>0.897577</td>\n",
       "      <td>2020-11-14 21:08:05.505247</td>\n",
       "      <td>2020-11-14 21:08:07.638987</td>\n",
       "      <td>0 days 00:00:02.133740</td>\n",
       "      <td>6</td>\n",
       "      <td>4</td>\n",
       "      <td>8</td>\n",
       "      <td>COMPLETE</td>\n",
       "    </tr>\n",
       "    <tr>\n",
       "      <th>6</th>\n",
       "      <td>6</td>\n",
       "      <td>0.904650</td>\n",
       "      <td>2020-11-14 21:08:05.807227</td>\n",
       "      <td>2020-11-14 21:08:08.324892</td>\n",
       "      <td>0 days 00:00:02.517665</td>\n",
       "      <td>10</td>\n",
       "      <td>9</td>\n",
       "      <td>8</td>\n",
       "      <td>COMPLETE</td>\n",
       "    </tr>\n",
       "    <tr>\n",
       "      <th>7</th>\n",
       "      <td>7</td>\n",
       "      <td>0.899149</td>\n",
       "      <td>2020-11-14 21:08:06.346814</td>\n",
       "      <td>2020-11-14 21:08:08.459830</td>\n",
       "      <td>0 days 00:00:02.113016</td>\n",
       "      <td>6</td>\n",
       "      <td>10</td>\n",
       "      <td>4</td>\n",
       "      <td>COMPLETE</td>\n",
       "    </tr>\n",
       "    <tr>\n",
       "      <th>8</th>\n",
       "      <td>8</td>\n",
       "      <td>0.904519</td>\n",
       "      <td>2020-11-14 21:08:06.674226</td>\n",
       "      <td>2020-11-14 21:08:09.047446</td>\n",
       "      <td>0 days 00:00:02.373220</td>\n",
       "      <td>8</td>\n",
       "      <td>3</td>\n",
       "      <td>5</td>\n",
       "      <td>COMPLETE</td>\n",
       "    </tr>\n",
       "    <tr>\n",
       "      <th>9</th>\n",
       "      <td>9</td>\n",
       "      <td>0.903340</td>\n",
       "      <td>2020-11-14 21:08:07.642214</td>\n",
       "      <td>2020-11-14 21:08:10.454602</td>\n",
       "      <td>0 days 00:00:02.812388</td>\n",
       "      <td>13</td>\n",
       "      <td>7</td>\n",
       "      <td>6</td>\n",
       "      <td>COMPLETE</td>\n",
       "    </tr>\n",
       "    <tr>\n",
       "      <th>10</th>\n",
       "      <td>10</td>\n",
       "      <td>0.895612</td>\n",
       "      <td>2020-11-14 21:08:08.327510</td>\n",
       "      <td>2020-11-14 21:08:10.215575</td>\n",
       "      <td>0 days 00:00:01.888065</td>\n",
       "      <td>5</td>\n",
       "      <td>10</td>\n",
       "      <td>9</td>\n",
       "      <td>COMPLETE</td>\n",
       "    </tr>\n",
       "    <tr>\n",
       "      <th>11</th>\n",
       "      <td>11</td>\n",
       "      <td>0.907007</td>\n",
       "      <td>2020-11-14 21:08:08.469419</td>\n",
       "      <td>2020-11-14 21:08:10.897293</td>\n",
       "      <td>0 days 00:00:02.427874</td>\n",
       "      <td>9</td>\n",
       "      <td>7</td>\n",
       "      <td>10</td>\n",
       "      <td>COMPLETE</td>\n",
       "    </tr>\n",
       "    <tr>\n",
       "      <th>12</th>\n",
       "      <td>12</td>\n",
       "      <td>0.904519</td>\n",
       "      <td>2020-11-14 21:08:09.055316</td>\n",
       "      <td>2020-11-14 21:08:11.759990</td>\n",
       "      <td>0 days 00:00:02.704674</td>\n",
       "      <td>15</td>\n",
       "      <td>10</td>\n",
       "      <td>10</td>\n",
       "      <td>COMPLETE</td>\n",
       "    </tr>\n",
       "    <tr>\n",
       "      <th>13</th>\n",
       "      <td>13</td>\n",
       "      <td>0.903733</td>\n",
       "      <td>2020-11-14 21:08:10.227405</td>\n",
       "      <td>2020-11-14 21:08:13.064748</td>\n",
       "      <td>0 days 00:00:02.837343</td>\n",
       "      <td>13</td>\n",
       "      <td>8</td>\n",
       "      <td>10</td>\n",
       "      <td>COMPLETE</td>\n",
       "    </tr>\n",
       "    <tr>\n",
       "      <th>14</th>\n",
       "      <td>14</td>\n",
       "      <td>0.904912</td>\n",
       "      <td>2020-11-14 21:08:10.457694</td>\n",
       "      <td>2020-11-14 21:08:12.868695</td>\n",
       "      <td>0 days 00:00:02.411001</td>\n",
       "      <td>10</td>\n",
       "      <td>8</td>\n",
       "      <td>5</td>\n",
       "      <td>COMPLETE</td>\n",
       "    </tr>\n",
       "    <tr>\n",
       "      <th>15</th>\n",
       "      <td>15</td>\n",
       "      <td>0.902947</td>\n",
       "      <td>2020-11-14 21:08:10.902334</td>\n",
       "      <td>2020-11-14 21:08:13.579834</td>\n",
       "      <td>0 days 00:00:02.677500</td>\n",
       "      <td>12</td>\n",
       "      <td>8</td>\n",
       "      <td>10</td>\n",
       "      <td>COMPLETE</td>\n",
       "    </tr>\n",
       "    <tr>\n",
       "      <th>16</th>\n",
       "      <td>16</td>\n",
       "      <td>0.905697</td>\n",
       "      <td>2020-11-14 21:08:11.764114</td>\n",
       "      <td>2020-11-14 21:08:14.401017</td>\n",
       "      <td>0 days 00:00:02.636903</td>\n",
       "      <td>11</td>\n",
       "      <td>8</td>\n",
       "      <td>9</td>\n",
       "      <td>COMPLETE</td>\n",
       "    </tr>\n",
       "    <tr>\n",
       "      <th>17</th>\n",
       "      <td>17</td>\n",
       "      <td>0.904257</td>\n",
       "      <td>2020-11-14 21:08:12.873107</td>\n",
       "      <td>2020-11-14 21:08:15.343325</td>\n",
       "      <td>0 days 00:00:02.470218</td>\n",
       "      <td>11</td>\n",
       "      <td>8</td>\n",
       "      <td>4</td>\n",
       "      <td>COMPLETE</td>\n",
       "    </tr>\n",
       "    <tr>\n",
       "      <th>18</th>\n",
       "      <td>18</td>\n",
       "      <td>0.904257</td>\n",
       "      <td>2020-11-14 21:08:13.068238</td>\n",
       "      <td>2020-11-14 21:08:15.321167</td>\n",
       "      <td>0 days 00:00:02.252929</td>\n",
       "      <td>11</td>\n",
       "      <td>7</td>\n",
       "      <td>4</td>\n",
       "      <td>COMPLETE</td>\n",
       "    </tr>\n",
       "    <tr>\n",
       "      <th>19</th>\n",
       "      <td>19</td>\n",
       "      <td>0.903733</td>\n",
       "      <td>2020-11-14 21:08:13.586021</td>\n",
       "      <td>2020-11-14 21:08:15.554563</td>\n",
       "      <td>0 days 00:00:01.968542</td>\n",
       "      <td>10</td>\n",
       "      <td>7</td>\n",
       "      <td>4</td>\n",
       "      <td>COMPLETE</td>\n",
       "    </tr>\n",
       "  </tbody>\n",
       "</table>\n",
       "</div>"
      ],
      "text/plain": [
       "    number     value             datetime_start          datetime_complete  \\\n",
       "0        0  0.902816 2020-11-14 21:08:03.242272 2020-11-14 21:08:06.344077   \n",
       "1        1  0.854879 2020-11-14 21:08:03.245897 2020-11-14 21:08:04.622726   \n",
       "2        2  0.902030 2020-11-14 21:08:03.251435 2020-11-14 21:08:05.502807   \n",
       "3        3  0.903864 2020-11-14 21:08:03.260079 2020-11-14 21:08:05.804371   \n",
       "4        4  0.894434 2020-11-14 21:08:04.625824 2020-11-14 21:08:06.665036   \n",
       "5        5  0.897577 2020-11-14 21:08:05.505247 2020-11-14 21:08:07.638987   \n",
       "6        6  0.904650 2020-11-14 21:08:05.807227 2020-11-14 21:08:08.324892   \n",
       "7        7  0.899149 2020-11-14 21:08:06.346814 2020-11-14 21:08:08.459830   \n",
       "8        8  0.904519 2020-11-14 21:08:06.674226 2020-11-14 21:08:09.047446   \n",
       "9        9  0.903340 2020-11-14 21:08:07.642214 2020-11-14 21:08:10.454602   \n",
       "10      10  0.895612 2020-11-14 21:08:08.327510 2020-11-14 21:08:10.215575   \n",
       "11      11  0.907007 2020-11-14 21:08:08.469419 2020-11-14 21:08:10.897293   \n",
       "12      12  0.904519 2020-11-14 21:08:09.055316 2020-11-14 21:08:11.759990   \n",
       "13      13  0.903733 2020-11-14 21:08:10.227405 2020-11-14 21:08:13.064748   \n",
       "14      14  0.904912 2020-11-14 21:08:10.457694 2020-11-14 21:08:12.868695   \n",
       "15      15  0.902947 2020-11-14 21:08:10.902334 2020-11-14 21:08:13.579834   \n",
       "16      16  0.905697 2020-11-14 21:08:11.764114 2020-11-14 21:08:14.401017   \n",
       "17      17  0.904257 2020-11-14 21:08:12.873107 2020-11-14 21:08:15.343325   \n",
       "18      18  0.904257 2020-11-14 21:08:13.068238 2020-11-14 21:08:15.321167   \n",
       "19      19  0.903733 2020-11-14 21:08:13.586021 2020-11-14 21:08:15.554563   \n",
       "\n",
       "                 duration  params_max_depth  params_min_samples_leaf  \\\n",
       "0  0 days 00:00:03.101805                15                        5   \n",
       "1  0 days 00:00:01.376829                 1                        5   \n",
       "2  0 days 00:00:02.251372                 6                       10   \n",
       "3  0 days 00:00:02.544292                 8                        5   \n",
       "4  0 days 00:00:02.039212                 5                       10   \n",
       "5  0 days 00:00:02.133740                 6                        4   \n",
       "6  0 days 00:00:02.517665                10                        9   \n",
       "7  0 days 00:00:02.113016                 6                       10   \n",
       "8  0 days 00:00:02.373220                 8                        3   \n",
       "9  0 days 00:00:02.812388                13                        7   \n",
       "10 0 days 00:00:01.888065                 5                       10   \n",
       "11 0 days 00:00:02.427874                 9                        7   \n",
       "12 0 days 00:00:02.704674                15                       10   \n",
       "13 0 days 00:00:02.837343                13                        8   \n",
       "14 0 days 00:00:02.411001                10                        8   \n",
       "15 0 days 00:00:02.677500                12                        8   \n",
       "16 0 days 00:00:02.636903                11                        8   \n",
       "17 0 days 00:00:02.470218                11                        8   \n",
       "18 0 days 00:00:02.252929                11                        7   \n",
       "19 0 days 00:00:01.968542                10                        7   \n",
       "\n",
       "    params_min_samples_split     state  \n",
       "0                         10  COMPLETE  \n",
       "1                          6  COMPLETE  \n",
       "2                          8  COMPLETE  \n",
       "3                          7  COMPLETE  \n",
       "4                          3  COMPLETE  \n",
       "5                          8  COMPLETE  \n",
       "6                          8  COMPLETE  \n",
       "7                          4  COMPLETE  \n",
       "8                          5  COMPLETE  \n",
       "9                          6  COMPLETE  \n",
       "10                         9  COMPLETE  \n",
       "11                        10  COMPLETE  \n",
       "12                        10  COMPLETE  \n",
       "13                        10  COMPLETE  \n",
       "14                         5  COMPLETE  \n",
       "15                        10  COMPLETE  \n",
       "16                         9  COMPLETE  \n",
       "17                         4  COMPLETE  \n",
       "18                         4  COMPLETE  \n",
       "19                         4  COMPLETE  "
      ]
     },
     "execution_count": 62,
     "metadata": {},
     "output_type": "execute_result"
    }
   ],
   "source": [
    "study_forest.trials_dataframe()"
   ]
  },
  {
   "cell_type": "code",
   "execution_count": 63,
   "metadata": {},
   "outputs": [
    {
     "name": "stdout",
     "output_type": "stream",
     "text": [
      "INFO: 'Prediction using random forest' does not exist. Creating a new experiment\n"
     ]
    }
   ],
   "source": [
    "mlflow.set_experiment('Prediction using random forest')"
   ]
  },
  {
   "cell_type": "code",
   "execution_count": 64,
   "metadata": {},
   "outputs": [
    {
     "name": "stdout",
     "output_type": "stream",
     "text": [
      "Experiment_id: 4\n",
      "Artifact Location: file:///home/carolina/Documents/Projeto-If697/mlruns/4\n",
      "Tags: {}\n",
      "Lifecycle_stage: active\n"
     ]
    }
   ],
   "source": [
    "experiment = mlflow.get_experiment_by_name('Prediction using random forest')\n",
    "print(\"Experiment_id: {}\".format(experiment.experiment_id))\n",
    "print(\"Artifact Location: {}\".format(experiment.artifact_location))\n",
    "print(\"Tags: {}\".format(experiment.tags))\n",
    "print(\"Lifecycle_stage: {}\".format(experiment.lifecycle_stage))"
   ]
  },
  {
   "cell_type": "code",
   "execution_count": 65,
   "metadata": {},
   "outputs": [],
   "source": [
    "for i in range(len(study_forest.trials)):\n",
    "    with mlflow.start_run(experiment_id=4, run_name='random forest run '+ str(i)):\n",
    "        mlflow.log_params(study_forest.trials[i].params)\n",
    "        metrics = {'accuracy': study_forest.trials[i].value}\n",
    "        mlflow.log_metrics(metrics)\n",
    "        "
   ]
  },
  {
   "cell_type": "markdown",
   "metadata": {},
   "source": [
    "## Multilayer Perceptron"
   ]
  },
  {
   "cell_type": "markdown",
   "metadata": {},
   "source": [
    "Multilayer Perceptron Hiperparâmetros\n",
    "\n",
    "Parâmetros escolhidos: hidden_layer_sizes, learning_rate, momentum, max_iter"
   ]
  },
  {
   "cell_type": "code",
   "execution_count": 67,
   "metadata": {},
   "outputs": [],
   "source": [
    "def objective_mlp(trial):\n",
    "    max_iter = trial.suggest_int(\"max_iter\", 200, 500, 100)\n",
    "    learning_rate = trial.suggest_categorical('learning_rate', ['constant', 'invscaling', 'adaptive'])\n",
    "    momentum = trial.suggest_uniform(\"momentum\", 0.0, 1.0)\n",
    "                        #As camadas eu setei como constantes em todas as trials\n",
    "    clf = MLPClassifier(hidden_layer_sizes=(100, 50),\n",
    "                       max_iter=max_iter, momentum=momentum, learning_rate=learning_rate)\n",
    "    clf.fit(X_train, Y_train)\n",
    "    \n",
    "    y_pred = clf.predict(X_val)\n",
    "    \n",
    "    accuracy = accuracy_score(Y_val,y_pred)\n",
    "    #precision = precision_score(Y_val,y_pred)\n",
    "    #recall = recall_score(Y_val,y_pred)\n",
    "    #f1 = f1_score(Y_val,y_pred)\n",
    "\n",
    "    return accuracy"
   ]
  },
  {
   "cell_type": "code",
   "execution_count": 68,
   "metadata": {},
   "outputs": [
    {
     "name": "stderr",
     "output_type": "stream",
     "text": [
      "\u001b[32m[I 2020-11-14 21:13:37,565]\u001b[0m A new study created in memory with name: no-name-28496fb2-e048-41df-a14d-8fc3ed9a79bd\u001b[0m\n",
      "\u001b[32m[I 2020-11-14 21:14:32,977]\u001b[0m Trial 1 finished with value: 0.7241650294695481 and parameters: {'max_iter': 300, 'learning_rate': 'adaptive', 'momentum': 0.36335180978980164}. Best is trial 1 with value: 0.7241650294695481.\u001b[0m\n",
      "\u001b[32m[I 2020-11-14 21:14:42,769]\u001b[0m Trial 3 finished with value: 0.7578258022265881 and parameters: {'max_iter': 500, 'learning_rate': 'adaptive', 'momentum': 0.2734641892023111}. Best is trial 3 with value: 0.7578258022265881.\u001b[0m\n",
      "\u001b[32m[I 2020-11-14 21:15:13,490]\u001b[0m Trial 5 finished with value: 0.8751800916830387 and parameters: {'max_iter': 500, 'learning_rate': 'invscaling', 'momentum': 0.2334153874999908}. Best is trial 5 with value: 0.8751800916830387.\u001b[0m\n",
      "\u001b[32m[I 2020-11-14 21:15:55,796]\u001b[0m Trial 6 finished with value: 0.7804846103470858 and parameters: {'max_iter': 500, 'learning_rate': 'adaptive', 'momentum': 0.17972493809913037}. Best is trial 5 with value: 0.8751800916830387.\u001b[0m\n",
      "\u001b[32m[I 2020-11-14 21:15:56,302]\u001b[0m Trial 0 finished with value: 0.8971840209561232 and parameters: {'max_iter': 300, 'learning_rate': 'constant', 'momentum': 0.2562212602783651}. Best is trial 0 with value: 0.8971840209561232.\u001b[0m\n",
      "\u001b[32m[I 2020-11-14 21:16:05,454]\u001b[0m Trial 4 finished with value: 0.8015717092337917 and parameters: {'max_iter': 500, 'learning_rate': 'invscaling', 'momentum': 0.20559022593416776}. Best is trial 0 with value: 0.8971840209561232.\u001b[0m\n",
      "\u001b[32m[I 2020-11-14 21:16:57,101]\u001b[0m Trial 7 finished with value: 0.7051735428945645 and parameters: {'max_iter': 200, 'learning_rate': 'adaptive', 'momentum': 0.8443011502968509}. Best is trial 0 with value: 0.8971840209561232.\u001b[0m\n",
      "\u001b[32m[I 2020-11-14 21:17:07,579]\u001b[0m Trial 2 finished with value: 0.8785854616895874 and parameters: {'max_iter': 300, 'learning_rate': 'adaptive', 'momentum': 0.2318253661397004}. Best is trial 0 with value: 0.8971840209561232.\u001b[0m\n",
      "\u001b[32m[I 2020-11-14 21:17:21,326]\u001b[0m Trial 9 finished with value: 0.8176817288801572 and parameters: {'max_iter': 200, 'learning_rate': 'constant', 'momentum': 0.19560007795569834}. Best is trial 0 with value: 0.8971840209561232.\u001b[0m\n",
      "\u001b[32m[I 2020-11-14 21:17:34,472]\u001b[0m Trial 10 finished with value: 0.5426326129666011 and parameters: {'max_iter': 300, 'learning_rate': 'constant', 'momentum': 0.5925374459729577}. Best is trial 0 with value: 0.8971840209561232.\u001b[0m\n",
      "\u001b[32m[I 2020-11-14 21:17:51,314]\u001b[0m Trial 8 finished with value: 0.8738703339882122 and parameters: {'max_iter': 200, 'learning_rate': 'adaptive', 'momentum': 0.8694624412521028}. Best is trial 0 with value: 0.8971840209561232.\u001b[0m\n",
      "\u001b[32m[I 2020-11-14 21:17:57,274]\u001b[0m Trial 11 finished with value: 0.8168958742632613 and parameters: {'max_iter': 300, 'learning_rate': 'invscaling', 'momentum': 0.3024324940661641}. Best is trial 0 with value: 0.8971840209561232.\u001b[0m\n",
      "\u001b[32m[I 2020-11-14 21:18:34,841]\u001b[0m Trial 13 finished with value: 0.860248853962017 and parameters: {'max_iter': 400, 'learning_rate': 'constant', 'momentum': 0.008103095336653043}. Best is trial 0 with value: 0.8971840209561232.\u001b[0m\n",
      "\u001b[32m[I 2020-11-14 21:19:21,301]\u001b[0m Trial 16 finished with value: 0.71237721021611 and parameters: {'max_iter': 400, 'learning_rate': 'constant', 'momentum': 0.5146743865471191}. Best is trial 0 with value: 0.8971840209561232.\u001b[0m\n",
      "\u001b[32m[I 2020-11-14 21:19:42,525]\u001b[0m Trial 14 finished with value: 0.8455795677799607 and parameters: {'max_iter': 400, 'learning_rate': 'constant', 'momentum': 0.03400717745876758}. Best is trial 0 with value: 0.8971840209561232.\u001b[0m\n",
      "\u001b[32m[I 2020-11-14 21:19:45,305]\u001b[0m Trial 15 finished with value: 0.9032089063523249 and parameters: {'max_iter': 400, 'learning_rate': 'constant', 'momentum': 0.018612557727898993}. Best is trial 15 with value: 0.9032089063523249.\u001b[0m\n",
      "\u001b[32m[I 2020-11-14 21:20:01,311]\u001b[0m Trial 17 finished with value: 0.8796332678454486 and parameters: {'max_iter': 300, 'learning_rate': 'constant', 'momentum': 0.015167505967719708}. Best is trial 15 with value: 0.9032089063523249.\u001b[0m\n",
      "\u001b[32m[I 2020-11-14 21:20:01,901]\u001b[0m Trial 12 finished with value: 0.888015717092338 and parameters: {'max_iter': 300, 'learning_rate': 'constant', 'momentum': 0.2546191066564589}. Best is trial 15 with value: 0.9032089063523249.\u001b[0m\n",
      "\u001b[32m[I 2020-11-14 21:20:41,056]\u001b[0m Trial 19 finished with value: 0.824361493123772 and parameters: {'max_iter': 400, 'learning_rate': 'constant', 'momentum': 0.034400731069845814}. Best is trial 15 with value: 0.9032089063523249.\u001b[0m\n",
      "\u001b[32m[I 2020-11-14 21:20:47,660]\u001b[0m Trial 18 finished with value: 0.8999345121152587 and parameters: {'max_iter': 300, 'learning_rate': 'constant', 'momentum': 0.6717593788975181}. Best is trial 15 with value: 0.9032089063523249.\u001b[0m\n"
     ]
    }
   ],
   "source": [
    "study_mlp = optuna.create_study(direction=\"maximize\")\n",
    "study_mlp.optimize(objective_mlp, n_trials=20, n_jobs=-1)"
   ]
  },
  {
   "cell_type": "code",
   "execution_count": 69,
   "metadata": {},
   "outputs": [
    {
     "data": {
      "text/html": [
       "<div>\n",
       "<style scoped>\n",
       "    .dataframe tbody tr th:only-of-type {\n",
       "        vertical-align: middle;\n",
       "    }\n",
       "\n",
       "    .dataframe tbody tr th {\n",
       "        vertical-align: top;\n",
       "    }\n",
       "\n",
       "    .dataframe thead th {\n",
       "        text-align: right;\n",
       "    }\n",
       "</style>\n",
       "<table border=\"1\" class=\"dataframe\">\n",
       "  <thead>\n",
       "    <tr style=\"text-align: right;\">\n",
       "      <th></th>\n",
       "      <th>number</th>\n",
       "      <th>value</th>\n",
       "      <th>datetime_start</th>\n",
       "      <th>datetime_complete</th>\n",
       "      <th>duration</th>\n",
       "      <th>params_learning_rate</th>\n",
       "      <th>params_max_iter</th>\n",
       "      <th>params_momentum</th>\n",
       "      <th>state</th>\n",
       "    </tr>\n",
       "  </thead>\n",
       "  <tbody>\n",
       "    <tr>\n",
       "      <th>0</th>\n",
       "      <td>0</td>\n",
       "      <td>0.897184</td>\n",
       "      <td>2020-11-14 21:13:37.578521</td>\n",
       "      <td>2020-11-14 21:15:56.301419</td>\n",
       "      <td>0 days 00:02:18.722898</td>\n",
       "      <td>constant</td>\n",
       "      <td>300</td>\n",
       "      <td>0.256221</td>\n",
       "      <td>COMPLETE</td>\n",
       "    </tr>\n",
       "    <tr>\n",
       "      <th>1</th>\n",
       "      <td>1</td>\n",
       "      <td>0.724165</td>\n",
       "      <td>2020-11-14 21:13:37.583264</td>\n",
       "      <td>2020-11-14 21:14:32.977081</td>\n",
       "      <td>0 days 00:00:55.393817</td>\n",
       "      <td>adaptive</td>\n",
       "      <td>300</td>\n",
       "      <td>0.363352</td>\n",
       "      <td>COMPLETE</td>\n",
       "    </tr>\n",
       "    <tr>\n",
       "      <th>2</th>\n",
       "      <td>2</td>\n",
       "      <td>0.878585</td>\n",
       "      <td>2020-11-14 21:13:37.588207</td>\n",
       "      <td>2020-11-14 21:17:07.578398</td>\n",
       "      <td>0 days 00:03:29.990191</td>\n",
       "      <td>adaptive</td>\n",
       "      <td>300</td>\n",
       "      <td>0.231825</td>\n",
       "      <td>COMPLETE</td>\n",
       "    </tr>\n",
       "    <tr>\n",
       "      <th>3</th>\n",
       "      <td>3</td>\n",
       "      <td>0.757826</td>\n",
       "      <td>2020-11-14 21:13:37.591673</td>\n",
       "      <td>2020-11-14 21:14:42.768753</td>\n",
       "      <td>0 days 00:01:05.177080</td>\n",
       "      <td>adaptive</td>\n",
       "      <td>500</td>\n",
       "      <td>0.273464</td>\n",
       "      <td>COMPLETE</td>\n",
       "    </tr>\n",
       "    <tr>\n",
       "      <th>4</th>\n",
       "      <td>4</td>\n",
       "      <td>0.801572</td>\n",
       "      <td>2020-11-14 21:14:32.989177</td>\n",
       "      <td>2020-11-14 21:16:05.453775</td>\n",
       "      <td>0 days 00:01:32.464598</td>\n",
       "      <td>invscaling</td>\n",
       "      <td>500</td>\n",
       "      <td>0.205590</td>\n",
       "      <td>COMPLETE</td>\n",
       "    </tr>\n",
       "    <tr>\n",
       "      <th>5</th>\n",
       "      <td>5</td>\n",
       "      <td>0.875180</td>\n",
       "      <td>2020-11-14 21:14:42.796717</td>\n",
       "      <td>2020-11-14 21:15:13.489326</td>\n",
       "      <td>0 days 00:00:30.692609</td>\n",
       "      <td>invscaling</td>\n",
       "      <td>500</td>\n",
       "      <td>0.233415</td>\n",
       "      <td>COMPLETE</td>\n",
       "    </tr>\n",
       "    <tr>\n",
       "      <th>6</th>\n",
       "      <td>6</td>\n",
       "      <td>0.780485</td>\n",
       "      <td>2020-11-14 21:15:13.511181</td>\n",
       "      <td>2020-11-14 21:15:55.795578</td>\n",
       "      <td>0 days 00:00:42.284397</td>\n",
       "      <td>adaptive</td>\n",
       "      <td>500</td>\n",
       "      <td>0.179725</td>\n",
       "      <td>COMPLETE</td>\n",
       "    </tr>\n",
       "    <tr>\n",
       "      <th>7</th>\n",
       "      <td>7</td>\n",
       "      <td>0.705174</td>\n",
       "      <td>2020-11-14 21:15:55.798678</td>\n",
       "      <td>2020-11-14 21:16:57.101413</td>\n",
       "      <td>0 days 00:01:01.302735</td>\n",
       "      <td>adaptive</td>\n",
       "      <td>200</td>\n",
       "      <td>0.844301</td>\n",
       "      <td>COMPLETE</td>\n",
       "    </tr>\n",
       "    <tr>\n",
       "      <th>8</th>\n",
       "      <td>8</td>\n",
       "      <td>0.873870</td>\n",
       "      <td>2020-11-14 21:15:56.328775</td>\n",
       "      <td>2020-11-14 21:17:51.313745</td>\n",
       "      <td>0 days 00:01:54.984970</td>\n",
       "      <td>adaptive</td>\n",
       "      <td>200</td>\n",
       "      <td>0.869462</td>\n",
       "      <td>COMPLETE</td>\n",
       "    </tr>\n",
       "    <tr>\n",
       "      <th>9</th>\n",
       "      <td>9</td>\n",
       "      <td>0.817682</td>\n",
       "      <td>2020-11-14 21:16:05.481681</td>\n",
       "      <td>2020-11-14 21:17:21.325421</td>\n",
       "      <td>0 days 00:01:15.843740</td>\n",
       "      <td>constant</td>\n",
       "      <td>200</td>\n",
       "      <td>0.195600</td>\n",
       "      <td>COMPLETE</td>\n",
       "    </tr>\n",
       "    <tr>\n",
       "      <th>10</th>\n",
       "      <td>10</td>\n",
       "      <td>0.542633</td>\n",
       "      <td>2020-11-14 21:16:57.125115</td>\n",
       "      <td>2020-11-14 21:17:34.471438</td>\n",
       "      <td>0 days 00:00:37.346323</td>\n",
       "      <td>constant</td>\n",
       "      <td>300</td>\n",
       "      <td>0.592537</td>\n",
       "      <td>COMPLETE</td>\n",
       "    </tr>\n",
       "    <tr>\n",
       "      <th>11</th>\n",
       "      <td>11</td>\n",
       "      <td>0.816896</td>\n",
       "      <td>2020-11-14 21:17:07.584951</td>\n",
       "      <td>2020-11-14 21:17:57.273732</td>\n",
       "      <td>0 days 00:00:49.688781</td>\n",
       "      <td>invscaling</td>\n",
       "      <td>300</td>\n",
       "      <td>0.302432</td>\n",
       "      <td>COMPLETE</td>\n",
       "    </tr>\n",
       "    <tr>\n",
       "      <th>12</th>\n",
       "      <td>12</td>\n",
       "      <td>0.888016</td>\n",
       "      <td>2020-11-14 21:17:21.367279</td>\n",
       "      <td>2020-11-14 21:20:01.900879</td>\n",
       "      <td>0 days 00:02:40.533600</td>\n",
       "      <td>constant</td>\n",
       "      <td>300</td>\n",
       "      <td>0.254619</td>\n",
       "      <td>COMPLETE</td>\n",
       "    </tr>\n",
       "    <tr>\n",
       "      <th>13</th>\n",
       "      <td>13</td>\n",
       "      <td>0.860249</td>\n",
       "      <td>2020-11-14 21:17:34.479402</td>\n",
       "      <td>2020-11-14 21:18:34.840577</td>\n",
       "      <td>0 days 00:01:00.361175</td>\n",
       "      <td>constant</td>\n",
       "      <td>400</td>\n",
       "      <td>0.008103</td>\n",
       "      <td>COMPLETE</td>\n",
       "    </tr>\n",
       "    <tr>\n",
       "      <th>14</th>\n",
       "      <td>14</td>\n",
       "      <td>0.845580</td>\n",
       "      <td>2020-11-14 21:17:51.324059</td>\n",
       "      <td>2020-11-14 21:19:42.524080</td>\n",
       "      <td>0 days 00:01:51.200021</td>\n",
       "      <td>constant</td>\n",
       "      <td>400</td>\n",
       "      <td>0.034007</td>\n",
       "      <td>COMPLETE</td>\n",
       "    </tr>\n",
       "    <tr>\n",
       "      <th>15</th>\n",
       "      <td>15</td>\n",
       "      <td>0.903209</td>\n",
       "      <td>2020-11-14 21:17:57.282620</td>\n",
       "      <td>2020-11-14 21:19:45.304683</td>\n",
       "      <td>0 days 00:01:48.022063</td>\n",
       "      <td>constant</td>\n",
       "      <td>400</td>\n",
       "      <td>0.018613</td>\n",
       "      <td>COMPLETE</td>\n",
       "    </tr>\n",
       "    <tr>\n",
       "      <th>16</th>\n",
       "      <td>16</td>\n",
       "      <td>0.712377</td>\n",
       "      <td>2020-11-14 21:18:34.849686</td>\n",
       "      <td>2020-11-14 21:19:21.301177</td>\n",
       "      <td>0 days 00:00:46.451491</td>\n",
       "      <td>constant</td>\n",
       "      <td>400</td>\n",
       "      <td>0.514674</td>\n",
       "      <td>COMPLETE</td>\n",
       "    </tr>\n",
       "    <tr>\n",
       "      <th>17</th>\n",
       "      <td>17</td>\n",
       "      <td>0.879633</td>\n",
       "      <td>2020-11-14 21:19:21.313426</td>\n",
       "      <td>2020-11-14 21:20:01.310313</td>\n",
       "      <td>0 days 00:00:39.996887</td>\n",
       "      <td>constant</td>\n",
       "      <td>300</td>\n",
       "      <td>0.015168</td>\n",
       "      <td>COMPLETE</td>\n",
       "    </tr>\n",
       "    <tr>\n",
       "      <th>18</th>\n",
       "      <td>18</td>\n",
       "      <td>0.899935</td>\n",
       "      <td>2020-11-14 21:19:42.532847</td>\n",
       "      <td>2020-11-14 21:20:47.659593</td>\n",
       "      <td>0 days 00:01:05.126746</td>\n",
       "      <td>constant</td>\n",
       "      <td>300</td>\n",
       "      <td>0.671759</td>\n",
       "      <td>COMPLETE</td>\n",
       "    </tr>\n",
       "    <tr>\n",
       "      <th>19</th>\n",
       "      <td>19</td>\n",
       "      <td>0.824361</td>\n",
       "      <td>2020-11-14 21:19:45.317091</td>\n",
       "      <td>2020-11-14 21:20:41.055824</td>\n",
       "      <td>0 days 00:00:55.738733</td>\n",
       "      <td>constant</td>\n",
       "      <td>400</td>\n",
       "      <td>0.034401</td>\n",
       "      <td>COMPLETE</td>\n",
       "    </tr>\n",
       "  </tbody>\n",
       "</table>\n",
       "</div>"
      ],
      "text/plain": [
       "    number     value             datetime_start          datetime_complete  \\\n",
       "0        0  0.897184 2020-11-14 21:13:37.578521 2020-11-14 21:15:56.301419   \n",
       "1        1  0.724165 2020-11-14 21:13:37.583264 2020-11-14 21:14:32.977081   \n",
       "2        2  0.878585 2020-11-14 21:13:37.588207 2020-11-14 21:17:07.578398   \n",
       "3        3  0.757826 2020-11-14 21:13:37.591673 2020-11-14 21:14:42.768753   \n",
       "4        4  0.801572 2020-11-14 21:14:32.989177 2020-11-14 21:16:05.453775   \n",
       "5        5  0.875180 2020-11-14 21:14:42.796717 2020-11-14 21:15:13.489326   \n",
       "6        6  0.780485 2020-11-14 21:15:13.511181 2020-11-14 21:15:55.795578   \n",
       "7        7  0.705174 2020-11-14 21:15:55.798678 2020-11-14 21:16:57.101413   \n",
       "8        8  0.873870 2020-11-14 21:15:56.328775 2020-11-14 21:17:51.313745   \n",
       "9        9  0.817682 2020-11-14 21:16:05.481681 2020-11-14 21:17:21.325421   \n",
       "10      10  0.542633 2020-11-14 21:16:57.125115 2020-11-14 21:17:34.471438   \n",
       "11      11  0.816896 2020-11-14 21:17:07.584951 2020-11-14 21:17:57.273732   \n",
       "12      12  0.888016 2020-11-14 21:17:21.367279 2020-11-14 21:20:01.900879   \n",
       "13      13  0.860249 2020-11-14 21:17:34.479402 2020-11-14 21:18:34.840577   \n",
       "14      14  0.845580 2020-11-14 21:17:51.324059 2020-11-14 21:19:42.524080   \n",
       "15      15  0.903209 2020-11-14 21:17:57.282620 2020-11-14 21:19:45.304683   \n",
       "16      16  0.712377 2020-11-14 21:18:34.849686 2020-11-14 21:19:21.301177   \n",
       "17      17  0.879633 2020-11-14 21:19:21.313426 2020-11-14 21:20:01.310313   \n",
       "18      18  0.899935 2020-11-14 21:19:42.532847 2020-11-14 21:20:47.659593   \n",
       "19      19  0.824361 2020-11-14 21:19:45.317091 2020-11-14 21:20:41.055824   \n",
       "\n",
       "                 duration params_learning_rate  params_max_iter  \\\n",
       "0  0 days 00:02:18.722898             constant              300   \n",
       "1  0 days 00:00:55.393817             adaptive              300   \n",
       "2  0 days 00:03:29.990191             adaptive              300   \n",
       "3  0 days 00:01:05.177080             adaptive              500   \n",
       "4  0 days 00:01:32.464598           invscaling              500   \n",
       "5  0 days 00:00:30.692609           invscaling              500   \n",
       "6  0 days 00:00:42.284397             adaptive              500   \n",
       "7  0 days 00:01:01.302735             adaptive              200   \n",
       "8  0 days 00:01:54.984970             adaptive              200   \n",
       "9  0 days 00:01:15.843740             constant              200   \n",
       "10 0 days 00:00:37.346323             constant              300   \n",
       "11 0 days 00:00:49.688781           invscaling              300   \n",
       "12 0 days 00:02:40.533600             constant              300   \n",
       "13 0 days 00:01:00.361175             constant              400   \n",
       "14 0 days 00:01:51.200021             constant              400   \n",
       "15 0 days 00:01:48.022063             constant              400   \n",
       "16 0 days 00:00:46.451491             constant              400   \n",
       "17 0 days 00:00:39.996887             constant              300   \n",
       "18 0 days 00:01:05.126746             constant              300   \n",
       "19 0 days 00:00:55.738733             constant              400   \n",
       "\n",
       "    params_momentum     state  \n",
       "0          0.256221  COMPLETE  \n",
       "1          0.363352  COMPLETE  \n",
       "2          0.231825  COMPLETE  \n",
       "3          0.273464  COMPLETE  \n",
       "4          0.205590  COMPLETE  \n",
       "5          0.233415  COMPLETE  \n",
       "6          0.179725  COMPLETE  \n",
       "7          0.844301  COMPLETE  \n",
       "8          0.869462  COMPLETE  \n",
       "9          0.195600  COMPLETE  \n",
       "10         0.592537  COMPLETE  \n",
       "11         0.302432  COMPLETE  \n",
       "12         0.254619  COMPLETE  \n",
       "13         0.008103  COMPLETE  \n",
       "14         0.034007  COMPLETE  \n",
       "15         0.018613  COMPLETE  \n",
       "16         0.514674  COMPLETE  \n",
       "17         0.015168  COMPLETE  \n",
       "18         0.671759  COMPLETE  \n",
       "19         0.034401  COMPLETE  "
      ]
     },
     "execution_count": 69,
     "metadata": {},
     "output_type": "execute_result"
    }
   ],
   "source": [
    "study_mlp.trials_dataframe()"
   ]
  },
  {
   "cell_type": "code",
   "execution_count": 70,
   "metadata": {},
   "outputs": [
    {
     "name": "stdout",
     "output_type": "stream",
     "text": [
      "INFO: 'Prediction using multilayer perceptron' does not exist. Creating a new experiment\n"
     ]
    }
   ],
   "source": [
    "mlflow.set_experiment('Prediction using multilayer perceptron')"
   ]
  },
  {
   "cell_type": "code",
   "execution_count": 71,
   "metadata": {},
   "outputs": [
    {
     "name": "stdout",
     "output_type": "stream",
     "text": [
      "Experiment_id: 5\n",
      "Artifact Location: file:///home/carolina/Documents/Projeto-If697/mlruns/5\n",
      "Tags: {}\n",
      "Lifecycle_stage: active\n"
     ]
    }
   ],
   "source": [
    "experiment = mlflow.get_experiment_by_name('Prediction using multilayer perceptron')\n",
    "print(\"Experiment_id: {}\".format(experiment.experiment_id))\n",
    "print(\"Artifact Location: {}\".format(experiment.artifact_location))\n",
    "print(\"Tags: {}\".format(experiment.tags))\n",
    "print(\"Lifecycle_stage: {}\".format(experiment.lifecycle_stage))"
   ]
  },
  {
   "cell_type": "code",
   "execution_count": 72,
   "metadata": {},
   "outputs": [],
   "source": [
    "for i in range(len(study_mlp.trials)):\n",
    "    with mlflow.start_run(experiment_id=5, run_name='mlp run '+ str(i)):\n",
    "        mlflow.log_params(study_mlp.trials[i].params)\n",
    "        metrics = {'accuracy': study_mlp.trials[i].value}\n",
    "        mlflow.log_metrics(metrics)\n",
    "        "
   ]
  },
  {
   "cell_type": "markdown",
   "metadata": {},
   "source": [
    "## Stochastic Gradient Descent"
   ]
  },
  {
   "cell_type": "markdown",
   "metadata": {},
   "source": [
    "SGD Hiperparâmetros\n",
    "\n",
    "Parâmetros escolhidos: loss, penalty, max_iter"
   ]
  },
  {
   "cell_type": "code",
   "execution_count": 73,
   "metadata": {},
   "outputs": [],
   "source": [
    "def objective_sgd(trial):\n",
    "    loss = trial.suggest_categorical(\"loss\", ['hinge', 'log', 'perceptron'])\n",
    "    penalty = trial.suggest_categorical('penalty', ['l2', 'l1', 'elasticnet'])\n",
    "    max_iter = trial.suggest_int(\"max_iter\", 200, 500, 100)\n",
    "    clf = SGDClassifier(loss=loss, penalty=penalty, max_iter=max_iter)\n",
    "    clf.fit(X_train, Y_train)\n",
    "    \n",
    "    y_pred = clf.predict(X_val)\n",
    "    \n",
    "    accuracy = accuracy_score(Y_val,y_pred)\n",
    "    #precision = precision_score(Y_val,y_pred)\n",
    "    #recall = recall_score(Y_val,y_pred)\n",
    "    #f1 = f1_score(Y_val,y_pred)\n",
    "\n",
    "    return accuracy"
   ]
  },
  {
   "cell_type": "code",
   "execution_count": 74,
   "metadata": {},
   "outputs": [
    {
     "name": "stderr",
     "output_type": "stream",
     "text": [
      "\u001b[32m[I 2020-11-14 21:30:51,508]\u001b[0m A new study created in memory with name: no-name-29590f13-addb-4b24-8705-08b0f383f6cc\u001b[0m\n",
      "\u001b[32m[I 2020-11-14 21:30:52,540]\u001b[0m Trial 1 finished with value: 0.6662737393582188 and parameters: {'loss': 'hinge', 'penalty': 'l2', 'max_iter': 500}. Best is trial 1 with value: 0.6662737393582188.\u001b[0m\n",
      "\u001b[32m[I 2020-11-14 21:30:52,572]\u001b[0m Trial 0 finished with value: 0.6535690897184021 and parameters: {'loss': 'log', 'penalty': 'l2', 'max_iter': 300}. Best is trial 1 with value: 0.6662737393582188.\u001b[0m\n",
      "\u001b[32m[I 2020-11-14 21:30:52,679]\u001b[0m Trial 3 finished with value: 0.668762278978389 and parameters: {'loss': 'hinge', 'penalty': 'elasticnet', 'max_iter': 500}. Best is trial 3 with value: 0.668762278978389.\u001b[0m\n",
      "\u001b[32m[I 2020-11-14 21:30:52,870]\u001b[0m Trial 2 finished with value: 0.39554682383759004 and parameters: {'loss': 'perceptron', 'penalty': 'elasticnet', 'max_iter': 300}. Best is trial 3 with value: 0.668762278978389.\u001b[0m\n",
      "\u001b[32m[I 2020-11-14 21:30:53,049]\u001b[0m Trial 6 finished with value: 0.8204322200392927 and parameters: {'loss': 'hinge', 'penalty': 'l2', 'max_iter': 200}. Best is trial 6 with value: 0.8204322200392927.\u001b[0m\n",
      "\u001b[32m[I 2020-11-14 21:30:53,276]\u001b[0m Trial 4 finished with value: 0.8533071381794368 and parameters: {'loss': 'log', 'penalty': 'l1', 'max_iter': 400}. Best is trial 4 with value: 0.8533071381794368.\u001b[0m\n",
      "\u001b[32m[I 2020-11-14 21:30:53,459]\u001b[0m Trial 7 finished with value: 0.85396201702685 and parameters: {'loss': 'perceptron', 'penalty': 'l2', 'max_iter': 200}. Best is trial 7 with value: 0.85396201702685.\u001b[0m\n",
      "\u001b[32m[I 2020-11-14 21:30:53,655]\u001b[0m Trial 5 finished with value: 0.8736083824492469 and parameters: {'loss': 'perceptron', 'penalty': 'l1', 'max_iter': 300}. Best is trial 5 with value: 0.8736083824492469.\u001b[0m\n",
      "\u001b[32m[I 2020-11-14 21:30:53,687]\u001b[0m Trial 8 finished with value: 0.696136214800262 and parameters: {'loss': 'log', 'penalty': 'l2', 'max_iter': 200}. Best is trial 5 with value: 0.8736083824492469.\u001b[0m\n",
      "\u001b[32m[I 2020-11-14 21:30:53,880]\u001b[0m Trial 10 finished with value: 0.3837590045841519 and parameters: {'loss': 'perceptron', 'penalty': 'elasticnet', 'max_iter': 200}. Best is trial 5 with value: 0.8736083824492469.\u001b[0m\n",
      "\u001b[32m[I 2020-11-14 21:30:54,148]\u001b[0m Trial 9 finished with value: 0.4057629338572364 and parameters: {'loss': 'log', 'penalty': 'elasticnet', 'max_iter': 400}. Best is trial 5 with value: 0.8736083824492469.\u001b[0m\n",
      "\u001b[32m[I 2020-11-14 21:30:54,412]\u001b[0m Trial 12 finished with value: 0.3908316961362148 and parameters: {'loss': 'log', 'penalty': 'elasticnet', 'max_iter': 400}. Best is trial 5 with value: 0.8736083824492469.\u001b[0m\n",
      "\u001b[32m[I 2020-11-14 21:30:54,534]\u001b[0m Trial 11 finished with value: 0.39580877537655534 and parameters: {'loss': 'hinge', 'penalty': 'elasticnet', 'max_iter': 300}. Best is trial 5 with value: 0.8736083824492469.\u001b[0m\n",
      "\u001b[32m[I 2020-11-14 21:30:54,923]\u001b[0m Trial 13 finished with value: 0.8758349705304519 and parameters: {'loss': 'perceptron', 'penalty': 'l1', 'max_iter': 400}. Best is trial 13 with value: 0.8758349705304519.\u001b[0m\n",
      "\u001b[32m[I 2020-11-14 21:30:55,144]\u001b[0m Trial 14 finished with value: 0.8289456450556647 and parameters: {'loss': 'perceptron', 'penalty': 'l1', 'max_iter': 300}. Best is trial 13 with value: 0.8758349705304519.\u001b[0m\n",
      "\u001b[32m[I 2020-11-14 21:30:55,199]\u001b[0m Trial 16 finished with value: 0.8852652259332023 and parameters: {'loss': 'perceptron', 'penalty': 'l1', 'max_iter': 200}. Best is trial 16 with value: 0.8852652259332023.\u001b[0m\n",
      "\u001b[32m[I 2020-11-14 21:30:55,437]\u001b[0m Trial 15 finished with value: 0.8540929927963327 and parameters: {'loss': 'perceptron', 'penalty': 'l1', 'max_iter': 300}. Best is trial 16 with value: 0.8852652259332023.\u001b[0m\n",
      "\u001b[32m[I 2020-11-14 21:30:55,734]\u001b[0m Trial 17 finished with value: 0.74158480681074 and parameters: {'loss': 'perceptron', 'penalty': 'l1', 'max_iter': 400}. Best is trial 16 with value: 0.8852652259332023.\u001b[0m\n",
      "\u001b[32m[I 2020-11-14 21:30:55,960]\u001b[0m Trial 18 finished with value: 0.8588081204977079 and parameters: {'loss': 'perceptron', 'penalty': 'l1', 'max_iter': 400}. Best is trial 16 with value: 0.8852652259332023.\u001b[0m\n",
      "\u001b[32m[I 2020-11-14 21:30:56,043]\u001b[0m Trial 19 finished with value: 0.8852652259332023 and parameters: {'loss': 'perceptron', 'penalty': 'l1', 'max_iter': 400}. Best is trial 16 with value: 0.8852652259332023.\u001b[0m\n"
     ]
    }
   ],
   "source": [
    "study_sgd = optuna.create_study(direction=\"maximize\")\n",
    "study_sgd.optimize(objective_sgd, n_trials=20, n_jobs=-1)"
   ]
  },
  {
   "cell_type": "code",
   "execution_count": 75,
   "metadata": {},
   "outputs": [
    {
     "data": {
      "text/html": [
       "<div>\n",
       "<style scoped>\n",
       "    .dataframe tbody tr th:only-of-type {\n",
       "        vertical-align: middle;\n",
       "    }\n",
       "\n",
       "    .dataframe tbody tr th {\n",
       "        vertical-align: top;\n",
       "    }\n",
       "\n",
       "    .dataframe thead th {\n",
       "        text-align: right;\n",
       "    }\n",
       "</style>\n",
       "<table border=\"1\" class=\"dataframe\">\n",
       "  <thead>\n",
       "    <tr style=\"text-align: right;\">\n",
       "      <th></th>\n",
       "      <th>number</th>\n",
       "      <th>value</th>\n",
       "      <th>datetime_start</th>\n",
       "      <th>datetime_complete</th>\n",
       "      <th>duration</th>\n",
       "      <th>params_loss</th>\n",
       "      <th>params_max_iter</th>\n",
       "      <th>params_penalty</th>\n",
       "      <th>state</th>\n",
       "    </tr>\n",
       "  </thead>\n",
       "  <tbody>\n",
       "    <tr>\n",
       "      <th>0</th>\n",
       "      <td>0</td>\n",
       "      <td>0.653569</td>\n",
       "      <td>2020-11-14 21:30:51.520133</td>\n",
       "      <td>2020-11-14 21:30:52.571449</td>\n",
       "      <td>0 days 00:00:01.051316</td>\n",
       "      <td>log</td>\n",
       "      <td>300</td>\n",
       "      <td>l2</td>\n",
       "      <td>COMPLETE</td>\n",
       "    </tr>\n",
       "    <tr>\n",
       "      <th>1</th>\n",
       "      <td>1</td>\n",
       "      <td>0.666274</td>\n",
       "      <td>2020-11-14 21:30:51.524352</td>\n",
       "      <td>2020-11-14 21:30:52.540136</td>\n",
       "      <td>0 days 00:00:01.015784</td>\n",
       "      <td>hinge</td>\n",
       "      <td>500</td>\n",
       "      <td>l2</td>\n",
       "      <td>COMPLETE</td>\n",
       "    </tr>\n",
       "    <tr>\n",
       "      <th>2</th>\n",
       "      <td>2</td>\n",
       "      <td>0.395547</td>\n",
       "      <td>2020-11-14 21:30:51.529129</td>\n",
       "      <td>2020-11-14 21:30:52.869861</td>\n",
       "      <td>0 days 00:00:01.340732</td>\n",
       "      <td>perceptron</td>\n",
       "      <td>300</td>\n",
       "      <td>elasticnet</td>\n",
       "      <td>COMPLETE</td>\n",
       "    </tr>\n",
       "    <tr>\n",
       "      <th>3</th>\n",
       "      <td>3</td>\n",
       "      <td>0.668762</td>\n",
       "      <td>2020-11-14 21:30:51.532974</td>\n",
       "      <td>2020-11-14 21:30:52.679192</td>\n",
       "      <td>0 days 00:00:01.146218</td>\n",
       "      <td>hinge</td>\n",
       "      <td>500</td>\n",
       "      <td>elasticnet</td>\n",
       "      <td>COMPLETE</td>\n",
       "    </tr>\n",
       "    <tr>\n",
       "      <th>4</th>\n",
       "      <td>4</td>\n",
       "      <td>0.853307</td>\n",
       "      <td>2020-11-14 21:30:52.544126</td>\n",
       "      <td>2020-11-14 21:30:53.275667</td>\n",
       "      <td>0 days 00:00:00.731541</td>\n",
       "      <td>log</td>\n",
       "      <td>400</td>\n",
       "      <td>l1</td>\n",
       "      <td>COMPLETE</td>\n",
       "    </tr>\n",
       "    <tr>\n",
       "      <th>5</th>\n",
       "      <td>5</td>\n",
       "      <td>0.873608</td>\n",
       "      <td>2020-11-14 21:30:52.584564</td>\n",
       "      <td>2020-11-14 21:30:53.654710</td>\n",
       "      <td>0 days 00:00:01.070146</td>\n",
       "      <td>perceptron</td>\n",
       "      <td>300</td>\n",
       "      <td>l1</td>\n",
       "      <td>COMPLETE</td>\n",
       "    </tr>\n",
       "    <tr>\n",
       "      <th>6</th>\n",
       "      <td>6</td>\n",
       "      <td>0.820432</td>\n",
       "      <td>2020-11-14 21:30:52.687935</td>\n",
       "      <td>2020-11-14 21:30:53.048765</td>\n",
       "      <td>0 days 00:00:00.360830</td>\n",
       "      <td>hinge</td>\n",
       "      <td>200</td>\n",
       "      <td>l2</td>\n",
       "      <td>COMPLETE</td>\n",
       "    </tr>\n",
       "    <tr>\n",
       "      <th>7</th>\n",
       "      <td>7</td>\n",
       "      <td>0.853962</td>\n",
       "      <td>2020-11-14 21:30:52.878783</td>\n",
       "      <td>2020-11-14 21:30:53.459027</td>\n",
       "      <td>0 days 00:00:00.580244</td>\n",
       "      <td>perceptron</td>\n",
       "      <td>200</td>\n",
       "      <td>l2</td>\n",
       "      <td>COMPLETE</td>\n",
       "    </tr>\n",
       "    <tr>\n",
       "      <th>8</th>\n",
       "      <td>8</td>\n",
       "      <td>0.696136</td>\n",
       "      <td>2020-11-14 21:30:53.064247</td>\n",
       "      <td>2020-11-14 21:30:53.687003</td>\n",
       "      <td>0 days 00:00:00.622756</td>\n",
       "      <td>log</td>\n",
       "      <td>200</td>\n",
       "      <td>l2</td>\n",
       "      <td>COMPLETE</td>\n",
       "    </tr>\n",
       "    <tr>\n",
       "      <th>9</th>\n",
       "      <td>9</td>\n",
       "      <td>0.405763</td>\n",
       "      <td>2020-11-14 21:30:53.279658</td>\n",
       "      <td>2020-11-14 21:30:54.148087</td>\n",
       "      <td>0 days 00:00:00.868429</td>\n",
       "      <td>log</td>\n",
       "      <td>400</td>\n",
       "      <td>elasticnet</td>\n",
       "      <td>COMPLETE</td>\n",
       "    </tr>\n",
       "    <tr>\n",
       "      <th>10</th>\n",
       "      <td>10</td>\n",
       "      <td>0.383759</td>\n",
       "      <td>2020-11-14 21:30:53.465592</td>\n",
       "      <td>2020-11-14 21:30:53.879685</td>\n",
       "      <td>0 days 00:00:00.414093</td>\n",
       "      <td>perceptron</td>\n",
       "      <td>200</td>\n",
       "      <td>elasticnet</td>\n",
       "      <td>COMPLETE</td>\n",
       "    </tr>\n",
       "    <tr>\n",
       "      <th>11</th>\n",
       "      <td>11</td>\n",
       "      <td>0.395809</td>\n",
       "      <td>2020-11-14 21:30:53.658410</td>\n",
       "      <td>2020-11-14 21:30:54.534365</td>\n",
       "      <td>0 days 00:00:00.875955</td>\n",
       "      <td>hinge</td>\n",
       "      <td>300</td>\n",
       "      <td>elasticnet</td>\n",
       "      <td>COMPLETE</td>\n",
       "    </tr>\n",
       "    <tr>\n",
       "      <th>12</th>\n",
       "      <td>12</td>\n",
       "      <td>0.390832</td>\n",
       "      <td>2020-11-14 21:30:53.690867</td>\n",
       "      <td>2020-11-14 21:30:54.411825</td>\n",
       "      <td>0 days 00:00:00.720958</td>\n",
       "      <td>log</td>\n",
       "      <td>400</td>\n",
       "      <td>elasticnet</td>\n",
       "      <td>COMPLETE</td>\n",
       "    </tr>\n",
       "    <tr>\n",
       "      <th>13</th>\n",
       "      <td>13</td>\n",
       "      <td>0.875835</td>\n",
       "      <td>2020-11-14 21:30:53.887910</td>\n",
       "      <td>2020-11-14 21:30:54.922271</td>\n",
       "      <td>0 days 00:00:01.034361</td>\n",
       "      <td>perceptron</td>\n",
       "      <td>400</td>\n",
       "      <td>l1</td>\n",
       "      <td>COMPLETE</td>\n",
       "    </tr>\n",
       "    <tr>\n",
       "      <th>14</th>\n",
       "      <td>14</td>\n",
       "      <td>0.828946</td>\n",
       "      <td>2020-11-14 21:30:54.153966</td>\n",
       "      <td>2020-11-14 21:30:55.143876</td>\n",
       "      <td>0 days 00:00:00.989910</td>\n",
       "      <td>perceptron</td>\n",
       "      <td>300</td>\n",
       "      <td>l1</td>\n",
       "      <td>COMPLETE</td>\n",
       "    </tr>\n",
       "    <tr>\n",
       "      <th>15</th>\n",
       "      <td>15</td>\n",
       "      <td>0.854093</td>\n",
       "      <td>2020-11-14 21:30:54.417752</td>\n",
       "      <td>2020-11-14 21:30:55.432948</td>\n",
       "      <td>0 days 00:00:01.015196</td>\n",
       "      <td>perceptron</td>\n",
       "      <td>300</td>\n",
       "      <td>l1</td>\n",
       "      <td>COMPLETE</td>\n",
       "    </tr>\n",
       "    <tr>\n",
       "      <th>16</th>\n",
       "      <td>16</td>\n",
       "      <td>0.885265</td>\n",
       "      <td>2020-11-14 21:30:54.537972</td>\n",
       "      <td>2020-11-14 21:30:55.199020</td>\n",
       "      <td>0 days 00:00:00.661048</td>\n",
       "      <td>perceptron</td>\n",
       "      <td>200</td>\n",
       "      <td>l1</td>\n",
       "      <td>COMPLETE</td>\n",
       "    </tr>\n",
       "    <tr>\n",
       "      <th>17</th>\n",
       "      <td>17</td>\n",
       "      <td>0.741585</td>\n",
       "      <td>2020-11-14 21:30:54.927285</td>\n",
       "      <td>2020-11-14 21:30:55.731430</td>\n",
       "      <td>0 days 00:00:00.804145</td>\n",
       "      <td>perceptron</td>\n",
       "      <td>400</td>\n",
       "      <td>l1</td>\n",
       "      <td>COMPLETE</td>\n",
       "    </tr>\n",
       "    <tr>\n",
       "      <th>18</th>\n",
       "      <td>18</td>\n",
       "      <td>0.858808</td>\n",
       "      <td>2020-11-14 21:30:55.150708</td>\n",
       "      <td>2020-11-14 21:30:55.959325</td>\n",
       "      <td>0 days 00:00:00.808617</td>\n",
       "      <td>perceptron</td>\n",
       "      <td>400</td>\n",
       "      <td>l1</td>\n",
       "      <td>COMPLETE</td>\n",
       "    </tr>\n",
       "    <tr>\n",
       "      <th>19</th>\n",
       "      <td>19</td>\n",
       "      <td>0.885265</td>\n",
       "      <td>2020-11-14 21:30:55.206249</td>\n",
       "      <td>2020-11-14 21:30:56.042440</td>\n",
       "      <td>0 days 00:00:00.836191</td>\n",
       "      <td>perceptron</td>\n",
       "      <td>400</td>\n",
       "      <td>l1</td>\n",
       "      <td>COMPLETE</td>\n",
       "    </tr>\n",
       "  </tbody>\n",
       "</table>\n",
       "</div>"
      ],
      "text/plain": [
       "    number     value             datetime_start          datetime_complete  \\\n",
       "0        0  0.653569 2020-11-14 21:30:51.520133 2020-11-14 21:30:52.571449   \n",
       "1        1  0.666274 2020-11-14 21:30:51.524352 2020-11-14 21:30:52.540136   \n",
       "2        2  0.395547 2020-11-14 21:30:51.529129 2020-11-14 21:30:52.869861   \n",
       "3        3  0.668762 2020-11-14 21:30:51.532974 2020-11-14 21:30:52.679192   \n",
       "4        4  0.853307 2020-11-14 21:30:52.544126 2020-11-14 21:30:53.275667   \n",
       "5        5  0.873608 2020-11-14 21:30:52.584564 2020-11-14 21:30:53.654710   \n",
       "6        6  0.820432 2020-11-14 21:30:52.687935 2020-11-14 21:30:53.048765   \n",
       "7        7  0.853962 2020-11-14 21:30:52.878783 2020-11-14 21:30:53.459027   \n",
       "8        8  0.696136 2020-11-14 21:30:53.064247 2020-11-14 21:30:53.687003   \n",
       "9        9  0.405763 2020-11-14 21:30:53.279658 2020-11-14 21:30:54.148087   \n",
       "10      10  0.383759 2020-11-14 21:30:53.465592 2020-11-14 21:30:53.879685   \n",
       "11      11  0.395809 2020-11-14 21:30:53.658410 2020-11-14 21:30:54.534365   \n",
       "12      12  0.390832 2020-11-14 21:30:53.690867 2020-11-14 21:30:54.411825   \n",
       "13      13  0.875835 2020-11-14 21:30:53.887910 2020-11-14 21:30:54.922271   \n",
       "14      14  0.828946 2020-11-14 21:30:54.153966 2020-11-14 21:30:55.143876   \n",
       "15      15  0.854093 2020-11-14 21:30:54.417752 2020-11-14 21:30:55.432948   \n",
       "16      16  0.885265 2020-11-14 21:30:54.537972 2020-11-14 21:30:55.199020   \n",
       "17      17  0.741585 2020-11-14 21:30:54.927285 2020-11-14 21:30:55.731430   \n",
       "18      18  0.858808 2020-11-14 21:30:55.150708 2020-11-14 21:30:55.959325   \n",
       "19      19  0.885265 2020-11-14 21:30:55.206249 2020-11-14 21:30:56.042440   \n",
       "\n",
       "                 duration params_loss  params_max_iter params_penalty  \\\n",
       "0  0 days 00:00:01.051316         log              300             l2   \n",
       "1  0 days 00:00:01.015784       hinge              500             l2   \n",
       "2  0 days 00:00:01.340732  perceptron              300     elasticnet   \n",
       "3  0 days 00:00:01.146218       hinge              500     elasticnet   \n",
       "4  0 days 00:00:00.731541         log              400             l1   \n",
       "5  0 days 00:00:01.070146  perceptron              300             l1   \n",
       "6  0 days 00:00:00.360830       hinge              200             l2   \n",
       "7  0 days 00:00:00.580244  perceptron              200             l2   \n",
       "8  0 days 00:00:00.622756         log              200             l2   \n",
       "9  0 days 00:00:00.868429         log              400     elasticnet   \n",
       "10 0 days 00:00:00.414093  perceptron              200     elasticnet   \n",
       "11 0 days 00:00:00.875955       hinge              300     elasticnet   \n",
       "12 0 days 00:00:00.720958         log              400     elasticnet   \n",
       "13 0 days 00:00:01.034361  perceptron              400             l1   \n",
       "14 0 days 00:00:00.989910  perceptron              300             l1   \n",
       "15 0 days 00:00:01.015196  perceptron              300             l1   \n",
       "16 0 days 00:00:00.661048  perceptron              200             l1   \n",
       "17 0 days 00:00:00.804145  perceptron              400             l1   \n",
       "18 0 days 00:00:00.808617  perceptron              400             l1   \n",
       "19 0 days 00:00:00.836191  perceptron              400             l1   \n",
       "\n",
       "       state  \n",
       "0   COMPLETE  \n",
       "1   COMPLETE  \n",
       "2   COMPLETE  \n",
       "3   COMPLETE  \n",
       "4   COMPLETE  \n",
       "5   COMPLETE  \n",
       "6   COMPLETE  \n",
       "7   COMPLETE  \n",
       "8   COMPLETE  \n",
       "9   COMPLETE  \n",
       "10  COMPLETE  \n",
       "11  COMPLETE  \n",
       "12  COMPLETE  \n",
       "13  COMPLETE  \n",
       "14  COMPLETE  \n",
       "15  COMPLETE  \n",
       "16  COMPLETE  \n",
       "17  COMPLETE  \n",
       "18  COMPLETE  \n",
       "19  COMPLETE  "
      ]
     },
     "execution_count": 75,
     "metadata": {},
     "output_type": "execute_result"
    }
   ],
   "source": [
    "study_sgd.trials_dataframe()"
   ]
  },
  {
   "cell_type": "code",
   "execution_count": 76,
   "metadata": {},
   "outputs": [
    {
     "name": "stdout",
     "output_type": "stream",
     "text": [
      "INFO: 'Prediction using stochastic gradient descent' does not exist. Creating a new experiment\n"
     ]
    }
   ],
   "source": [
    "mlflow.set_experiment('Prediction using stochastic gradient descent')"
   ]
  },
  {
   "cell_type": "code",
   "execution_count": 77,
   "metadata": {},
   "outputs": [
    {
     "name": "stdout",
     "output_type": "stream",
     "text": [
      "Experiment_id: 6\n",
      "Artifact Location: file:///home/carolina/Documents/Projeto-If697/mlruns/6\n",
      "Tags: {}\n",
      "Lifecycle_stage: active\n"
     ]
    }
   ],
   "source": [
    "experiment = mlflow.get_experiment_by_name('Prediction using stochastic gradient descent')\n",
    "print(\"Experiment_id: {}\".format(experiment.experiment_id))\n",
    "print(\"Artifact Location: {}\".format(experiment.artifact_location))\n",
    "print(\"Tags: {}\".format(experiment.tags))\n",
    "print(\"Lifecycle_stage: {}\".format(experiment.lifecycle_stage))"
   ]
  },
  {
   "cell_type": "code",
   "execution_count": 78,
   "metadata": {},
   "outputs": [],
   "source": [
    "for i in range(len(study_sgd.trials)):\n",
    "    with mlflow.start_run(experiment_id=6, run_name='sgd run '+ str(i)):\n",
    "        mlflow.log_params(study_sgd.trials[i].params)\n",
    "        metrics = {'accuracy': study_sgd.trials[i].value}\n",
    "        mlflow.log_metrics(metrics)\n",
    "        "
   ]
  },
  {
   "cell_type": "markdown",
   "metadata": {},
   "source": [
    "## Melhores modelos"
   ]
  },
  {
   "cell_type": "code",
   "execution_count": 79,
   "metadata": {},
   "outputs": [
    {
     "name": "stdout",
     "output_type": "stream",
     "text": [
      "Accuracy: 0.9050425671250819\n",
      "Precision: 0.9054189162167566\n",
      "Recall: 0.9472803347280335\n",
      "F1: 0.9258766997239547\n"
     ]
    }
   ],
   "source": [
    "modelo1 = SVC(C=1400, kernel='rbf', gamma='scale', random_state=0)\n",
    "modelo1.fit(X_train, Y_train)\n",
    "    \n",
    "y_pred = modelo1.predict(X_test)\n",
    "\n",
    "print(\"Accuracy: %s\"%(accuracy_score(Y_test,y_pred)))\n",
    "print(\"Precision: %s\"%(precision_score(Y_test,y_pred)))\n",
    "print(\"Recall: %s\"%(recall_score(Y_test,y_pred)))\n",
    "print(\"F1: %s\"%(f1_score(Y_test,y_pred)))"
   ]
  },
  {
   "cell_type": "code",
   "execution_count": 80,
   "metadata": {},
   "outputs": [
    {
     "data": {
      "image/png": "[encoded data removed]",
      "text/plain": [
       "<Figure size 432x288 with 2 Axes>"
      ]
     },
     "metadata": {
      "needs_background": "light"
     },
     "output_type": "display_data"
    }
   ],
   "source": [
    "plot_confusion_matrix(modelo1, X_test, Y_test)\n",
    "plt.title(\"Support Vector Machine\")\n",
    "plt.show()"
   ]
  },
  {
   "cell_type": "code",
   "execution_count": 81,
   "metadata": {},
   "outputs": [
    {
     "name": "stdout",
     "output_type": "stream",
     "text": [
      "Accuracy: 0.9045186640471513\n",
      "Precision: 0.9139587165338239\n",
      "Recall: 0.9355648535564853\n",
      "F1: 0.9246355835831697\n"
     ]
    }
   ],
   "source": [
    "modelo2 = DecisionTreeClassifier(max_depth=7, min_samples_leaf=4, min_samples_split=8)\n",
    "modelo2.fit(X_train, Y_train)\n",
    "    \n",
    "y_pred_tree = modelo2.predict(X_test)\n",
    "\n",
    "print(\"Accuracy: %s\"%(accuracy_score(Y_test,y_pred_tree)))\n",
    "print(\"Precision: %s\"%(precision_score(Y_test,y_pred_tree)))\n",
    "print(\"Recall: %s\"%(recall_score(Y_test,y_pred_tree)))\n",
    "print(\"F1: %s\"%(f1_score(Y_test,y_pred_tree)))"
   ]
  },
  {
   "cell_type": "code",
   "execution_count": 82,
   "metadata": {},
   "outputs": [
    {
     "data": {
      "image/png": "[encoded data removed]",
      "text/plain": [
       "<Figure size 432x288 with 2 Axes>"
      ]
     },
     "metadata": {
      "needs_background": "light"
     },
     "output_type": "display_data"
    }
   ],
   "source": [
    "plot_confusion_matrix(modelo2, X_test, Y_test)\n",
    "plt.title(\"Decision Tree\")\n",
    "plt.show()"
   ]
  },
  {
   "cell_type": "code",
   "execution_count": 83,
   "metadata": {},
   "outputs": [
    {
     "name": "stdout",
     "output_type": "stream",
     "text": [
      "Accuracy score: 0.9084479371316306\n",
      "Precision score: 0.9123055162659123\n",
      "Recall score: 0.944560669456067\n",
      "F1 score: 0.9281529448041936\n"
     ]
    }
   ],
   "source": [
    "modelo3 = RandomForestClassifier(max_depth=9, min_samples_leaf=7, min_samples_split=10)\n",
    "modelo3.fit(X_train, Y_train)\n",
    "    \n",
    "y_pred_forest = modelo3.predict(X_test)\n",
    "\n",
    "print(\"Accuracy score: %s\"%(accuracy_score(Y_test,y_pred_forest)))\n",
    "print(\"Precision score: %s\"%(precision_score(Y_test,y_pred_forest)))\n",
    "print(\"Recall score: %s\"%(recall_score(Y_test,y_pred_forest)))\n",
    "print(\"F1 score: %s\"%(f1_score(Y_test,y_pred_forest)))"
   ]
  },
  {
   "cell_type": "code",
   "execution_count": 85,
   "metadata": {},
   "outputs": [
    {
     "data": {
      "image/png": "[encoded data removed]",
      "text/plain": [
       "<Figure size 432x288 with 2 Axes>"
      ]
     },
     "metadata": {
      "needs_background": "light"
     },
     "output_type": "display_data"
    }
   ],
   "source": [
    "plot_confusion_matrix(modelo3, X_test, Y_test)\n",
    "plt.title(\"Random Forest\")\n",
    "plt.show()"
   ]
  },
  {
   "cell_type": "code",
   "execution_count": 86,
   "metadata": {},
   "outputs": [
    {
     "name": "stdout",
     "output_type": "stream",
     "text": [
      "Accuracy score: 0.6430910281597905\n",
      "Precision score: 0.9438444924406048\n",
      "Recall score: 0.4571129707112971\n",
      "F1 score: 0.6159267089499648\n"
     ]
    }
   ],
   "source": [
    "modelo4 = MLPClassifier(hidden_layer_sizes=(100, 50),\n",
    "                       max_iter=400, momentum=0.018613, learning_rate='constant')\n",
    "modelo4.fit(X_train, Y_train)\n",
    "    \n",
    "y_pred_mlp = modelo4.predict(X_test)\n",
    "\n",
    "print(\"Accuracy score: %s\"%(accuracy_score(Y_test,y_pred_mlp)))\n",
    "print(\"Precision score: %s\"%(precision_score(Y_test,y_pred_mlp)))\n",
    "print(\"Recall score: %s\"%(recall_score(Y_test,y_pred_mlp)))\n",
    "print(\"F1 score: %s\"%(f1_score(Y_test,y_pred_mlp)))"
   ]
  },
  {
   "cell_type": "code",
   "execution_count": 87,
   "metadata": {},
   "outputs": [
    {
     "data": {
      "image/png": "[encoded data removed]",
      "text/plain": [
       "<Figure size 432x288 with 2 Axes>"
      ]
     },
     "metadata": {
      "needs_background": "light"
     },
     "output_type": "display_data"
    }
   ],
   "source": [
    "plot_confusion_matrix(modelo4, X_test, Y_test)\n",
    "plt.title(\"Multilayer Perceptron\")\n",
    "plt.show()"
   ]
  },
  {
   "cell_type": "code",
   "execution_count": 88,
   "metadata": {},
   "outputs": [
    {
     "name": "stdout",
     "output_type": "stream",
     "text": [
      "Accuracy score: 0.8969220694171578\n",
      "Precision score: 0.9195209077537297\n",
      "Recall score: 0.9154811715481171\n",
      "F1 score: 0.9174965929342698\n"
     ]
    }
   ],
   "source": [
    "modelo5 = SGDClassifier(loss='perceptron', penalty='l1', max_iter=200)\n",
    "modelo5.fit(X_train, Y_train)\n",
    "    \n",
    "y_pred_sgd = modelo5.predict(X_test)\n",
    "\n",
    "print(\"Accuracy score: %s\"%(accuracy_score(Y_test,y_pred_sgd)))\n",
    "print(\"Precision score: %s\"%(precision_score(Y_test,y_pred_sgd)))\n",
    "print(\"Recall score: %s\"%(recall_score(Y_test,y_pred_sgd)))\n",
    "print(\"F1 score: %s\"%(f1_score(Y_test,y_pred_sgd)))"
   ]
  },
  {
   "cell_type": "code",
   "execution_count": 89,
   "metadata": {},
   "outputs": [
    {
     "data": {
      "image/png": "[encoded data removed]",
      "text/plain": [
       "<Figure size 432x288 with 2 Axes>"
      ]
     },
     "metadata": {
      "needs_background": "light"
     },
     "output_type": "display_data"
    }
   ],
   "source": [
    "plot_confusion_matrix(modelo5, X_test, Y_test)\n",
    "plt.title(\"Stochastic Gradient Descent\")\n",
    "plt.show()"
   ]
  },
  {
   "cell_type": "markdown",
   "metadata": {},
   "source": [
    "## Melhor algoritmo + hiperparâmetros\n",
    "\n",
    "Analisando pelas quatro métricas de classificação, o modelo que obteve os melhores resultados foi:\n",
    "    Random Forest com hiperparâmetros (max_depth=9, min_samples_leaf=7, min_samples_split=10)"
   ]
  },
  {
   "cell_type": "markdown",
   "metadata": {},
   "source": [
    "## Diagnóstico"
   ]
  },
  {
   "cell_type": "code",
   "execution_count": 90,
   "metadata": {},
   "outputs": [
    {
     "name": "stdout",
     "output_type": "stream",
     "text": [
      "Accuracy score: 0.9084479371316306\n",
      "Precision score: 0.9123055162659123\n",
      "Recall score: 0.944560669456067\n",
      "F1 score: 0.9281529448041936\n",
      "\n",
      "\n",
      "Accuracy training score: 0.9232431724408933\n",
      "Precision training score: 0.9271402550091075\n",
      "Recall training score: 0.9529852298731017\n",
      "F1 training score: 0.9398851046368486\n"
     ]
    }
   ],
   "source": [
    "y_pred_train = modelo3.predict(X_train)\n",
    "y_pred_forest = modelo3.predict(X_test)\n",
    "\n",
    "print(\"Accuracy score: %s\"%(accuracy_score(Y_test,y_pred_forest)))\n",
    "print(\"Precision score: %s\"%(precision_score(Y_test,y_pred_forest)))\n",
    "print(\"Recall score: %s\"%(recall_score(Y_test,y_pred_forest)))\n",
    "print(\"F1 score: %s\"%(f1_score(Y_test,y_pred_forest)))\n",
    "\n",
    "print('\\n')\n",
    "\n",
    "print(\"Accuracy training score: %s\"%(accuracy_score(Y_train,y_pred_train)))\n",
    "print(\"Precision training score: %s\"%(precision_score(Y_train,y_pred_train)))\n",
    "print(\"Recall training score: %s\"%(recall_score(Y_train,y_pred_train)))\n",
    "print(\"F1 training score: %s\"%(f1_score(Y_train,y_pred_train)))"
   ]
  },
  {
   "cell_type": "markdown",
   "metadata": {},
   "source": [
    "Comparando os valores das predições para treinamento e teste, vejo que não há uma variância muito grande em nenhuma das métricas avaliadas, a acurácia variou 1.5%, logo não ocorreu overfitting.\n",
    "Porém apesar de 90% de acurácia ser um valor bom, ele ainda pode melhorar então vou considerar que ocorreu um underfiting. Em casos em que há underfitting é preciso aumentar a complexidade do modelo, irei fazer isso adicionando mais features ao modelo."
   ]
  },
  {
   "cell_type": "code",
   "execution_count": 102,
   "metadata": {},
   "outputs": [],
   "source": [
    "#As quatro últimas features foram adicionadas\n",
    "X = mr2[['year', 'duration', 'avg_vote', 'mean_vote', 'median_vote',\n",
    "         'males_allages_avg_vote','females_allages_avg_vote','actor1_comedy',\n",
    "         'actor1_drama', 'actor2_comedy', 'actor2_drama', 'actor3_comedy', 'actor3_drama']]"
   ]
  },
  {
   "cell_type": "code",
   "execution_count": 103,
   "metadata": {},
   "outputs": [],
   "source": [
    "Y = mr2['genre_target']"
   ]
  },
  {
   "cell_type": "code",
   "execution_count": 104,
   "metadata": {},
   "outputs": [],
   "source": [
    "X_train, X_test, Y_train, Y_test = train_test_split(X, Y, test_size=0.5, random_state=42)"
   ]
  },
  {
   "cell_type": "code",
   "execution_count": 105,
   "metadata": {},
   "outputs": [],
   "source": [
    "X_test, X_val, Y_test, Y_val = train_test_split(X_test, Y_test, test_size=0.5, random_state=42)"
   ]
  },
  {
   "cell_type": "code",
   "execution_count": 106,
   "metadata": {},
   "outputs": [
    {
     "name": "stdout",
     "output_type": "stream",
     "text": [
      "Accuracy score: 0.9827111984282908\n",
      "Precision score: 0.9880302393952121\n",
      "Recall score: 0.9843096234309623\n",
      "F1 score: 0.9861664221337246\n"
     ]
    }
   ],
   "source": [
    "modelo3_1 = RandomForestClassifier(max_depth=9, min_samples_leaf=7, min_samples_split=10)\n",
    "modelo3_1.fit(X_train, Y_train)\n",
    "    \n",
    "y_pred_forest = modelo3_1.predict(X_test)\n",
    "\n",
    "print(\"Accuracy score: %s\"%(accuracy_score(Y_test,y_pred_forest)))\n",
    "print(\"Precision score: %s\"%(precision_score(Y_test,y_pred_forest)))\n",
    "print(\"Recall score: %s\"%(recall_score(Y_test,y_pred_forest)))\n",
    "print(\"F1 score: %s\"%(f1_score(Y_test,y_pred_forest)))"
   ]
  },
  {
   "cell_type": "code",
   "execution_count": 107,
   "metadata": {},
   "outputs": [
    {
     "name": "stdout",
     "output_type": "stream",
     "text": [
      "Accuracy score: 0.9827111984282908\n",
      "Precision score: 0.9880302393952121\n",
      "Recall score: 0.9843096234309623\n",
      "F1 score: 0.9861664221337246\n",
      "\n",
      "\n",
      "Accuracy training score: 0.9889973148208789\n",
      "Precision training score: 0.9931092086030486\n",
      "Recall training score: 0.9893904722280008\n",
      "F1 training score: 0.9912463526469362\n"
     ]
    }
   ],
   "source": [
    "y_pred_train = modelo3_1.predict(X_train)\n",
    "y_pred_forest = modelo3_1.predict(X_test)\n",
    "\n",
    "print(\"Accuracy score: %s\"%(accuracy_score(Y_test,y_pred_forest)))\n",
    "print(\"Precision score: %s\"%(precision_score(Y_test,y_pred_forest)))\n",
    "print(\"Recall score: %s\"%(recall_score(Y_test,y_pred_forest)))\n",
    "print(\"F1 score: %s\"%(f1_score(Y_test,y_pred_forest)))\n",
    "\n",
    "print('\\n')\n",
    "\n",
    "print(\"Accuracy training score: %s\"%(accuracy_score(Y_train,y_pred_train)))\n",
    "print(\"Precision training score: %s\"%(precision_score(Y_train,y_pred_train)))\n",
    "print(\"Recall training score: %s\"%(recall_score(Y_train,y_pred_train)))\n",
    "print(\"F1 training score: %s\"%(f1_score(Y_train,y_pred_train)))"
   ]
  },
  {
   "cell_type": "markdown",
   "metadata": {},
   "source": [
    "Com mais features todas as métricas melhoram consideravelmente e a variância diminuiu e agora a acurácia possui variância de 0.6%"
   ]
  }
 ],
 "metadata": {
  "kernelspec": {
   "display_name": "Python 3",
   "language": "python",
   "name": "python3"
  },
  "language_info": {
   "codemirror_mode": {
    "name": "ipython",
    "version": 3
   },
   "file_extension": ".py",
   "mimetype": "text/x-python",
   "name": "python",
   "nbconvert_exporter": "python",
   "pygments_lexer": "ipython3",
   "version": "3.6.9"
  }
 },
 "nbformat": 4,
 "nbformat_minor": 4
}
